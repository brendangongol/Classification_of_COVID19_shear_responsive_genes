{
 "cells": [
  {
   "cell_type": "markdown",
   "metadata": {},
   "source": [
    "## This analysis classifies genes according to their response to three different mechanical stimulations: PS, OS, or LF flow patterns and then delineate a SARS-CoV-2 interactome"
   ]
  },
  {
   "cell_type": "code",
   "execution_count": null,
   "metadata": {},
   "outputs": [],
   "source": [
    "options(warn=-1)\n",
    "\n",
    "homedir <- \"C:/Users/breng/Desktop/final shear analysis\"\n",
    "funcsfile <- \"shear_analysis_functions.r\"\n",
    "\n",
    "fdrname <- \"./data/4 edgeR.xls\"\n",
    "fcanalyzed <- \"./data/6 PSLFOSLF FC data.xls\"\n",
    "coviddb <- \"./data/COVID_data/binding protein list.csv\"\n",
    "cytofile <- \"./data/cytoscape/cytoscape_interactions.csv\"\n",
    "klf4seq <- \"./data/2 A2B1_pvalue KLF4_over.csv\"\n",
    "\n",
    "setwd(homedir)\n",
    "source(funcsfile)\n",
    "\n",
    "suppressMessages({\n",
    "    library(ggplot2)\n",
    "    library(ggpubr)\n",
    "    library(data.table)\n",
    "    library(matrixStats)\n",
    "    library(pheatmap)\n",
    "    library(heatmaply)\n",
    "    library(VennDiagram)\n",
    "    library(ClinicalDataMineR)\n",
    "    library(ConservationtextmineR)\n",
    "    library(dplyr)\n",
    "    library(fmsb)\n",
    "    library(biomaRt)\n",
    "    library(systemPipeR)\n",
    "    library(Rsamtools)\n",
    "    library(GenomicAlignments)\n",
    "    library(rtracklayer)\n",
    "    library(gridExtra)\n",
    "    library(MyPackage)\n",
    "    library(Gviz)\n",
    "    library(rtracklayer)\n",
    "    library(trackViewer)\n",
    "    library(RColorBrewer)  \n",
    "})"
   ]
  },
  {
   "cell_type": "markdown",
   "metadata": {},
   "source": [
    "The file \"4 edgeR\" contains the computed fold changes from a 10 time point RNAseq experiment involving endothelial cells subjected to PS, OS, or LF.\n",
    "\n",
    "The file \"6 PSLFOSLF FC data\" contains the complete cases of file 4 in addition to the gene name annotation information and the raw read counts."
   ]
  },
  {
   "cell_type": "code",
   "execution_count": null,
   "metadata": {
    "scrolled": true
   },
   "outputs": [],
   "source": [
    "dt1 <- fread(fdrname)\n",
    "dt1 <- dt1[,!grep(\"(logCPM|LR)\", colnames(dt1)), with = FALSE]; setkey(dt1, TranscriptID)\n",
    "annotation <- fread(fcanalyzed)\n",
    "annotation <- annotation[,grep(\"(Transcrip|Name|setA|setB)\", colnames(annotation)), with = FALSE]; setkey(annotation, TranscriptID)\n",
    "#dt <- merge(dt1, annotation, by = \"TranscriptID\")\n",
    "dt <- dt1[annotation]\n",
    "dt <- dt[,c(92, 1:91, 93:ncol(dt)), with = FALSE]\n",
    "str(dt)"
   ]
  },
  {
   "cell_type": "markdown",
   "metadata": {},
   "source": [
    "# Section I\n",
    "\n",
    "#### In this section, we conducted an exploratory analysis of the best method of ranking and classifying genes into those that respond to PS compared to OS, or those responding to PS and OS compared to LF.  We tried three methods: 1) ranking genes based on the average variance across all time points, 2) ranking genes based on the average p-value across all time points, 3) ranking genes based on the average FDR score for all time points.  Ultimately, we classified genes based on the following criteria:\n",
    "\n",
    "#### rank based on FDR score\n",
    "The following criteris were used to classify genes that are differentially regulated by flow but not in response to PS relative to OS: <br>\n",
    "$x= \\frac{1}{N}\\sum_{i=0}^N FDR_{i} $  < 0.9 <br>\n",
    "PS/LF < 0 & OS/LF < 0 <br>\n",
    "PS/LF > 0 & OS/LF > 0 <br>\n",
    "PS/OS24 FDR > 0.05\n",
    "\n",
    "Classification of genes that are PS/OS responsive were based on: <br>\n",
    "$x= \\frac{1}{N}\\sum_{i=0}^N FDR_{i} $  < 0.86 <br>\n",
    "\n",
    "\n",
    "### The following code provides a step by step rationale for why we decided on these classification criteria."
   ]
  },
  {
   "cell_type": "markdown",
   "metadata": {},
   "source": [
    "#### Classify based on average variance"
   ]
  },
  {
   "cell_type": "code",
   "execution_count": null,
   "metadata": {},
   "outputs": [],
   "source": [
    "times <- c(\"1_hr\", \"2_hr\", \"3_hr\", \"4_hr\", \"6_hr\", \"9_hr\", \"12_hr\", \"16_hr\", \"20_hr\", \"24_hr\")\n",
    "var <- dt[,. (variance1 = rowVars(as.matrix(dt[,grep(times[1], colnames(dt)), with = FALSE])),\n",
    "                   variance2 = rowVars(as.matrix(dt[,grep(times[2], colnames(dt)), with = FALSE])), \n",
    "                   variance3 = rowVars(as.matrix(dt[,grep(times[3], colnames(dt)), with = FALSE])),\n",
    "                   variance4 = rowVars(as.matrix(dt[,grep(times[4], colnames(dt)), with = FALSE])),\n",
    "                   variance5 = rowVars(as.matrix(dt[,grep(times[5], colnames(dt)), with = FALSE])),\n",
    "                   variance6 = rowVars(as.matrix(dt[,grep(times[6], colnames(dt)), with = FALSE])),\n",
    "                   variance7 = rowVars(as.matrix(dt[,grep(times[7], colnames(dt)), with = FALSE])),\n",
    "                   variance8 = rowVars(as.matrix(dt[,grep(times[8], colnames(dt)), with = FALSE])),\n",
    "                   variance9 = rowVars(as.matrix(dt[,grep(times[9], colnames(dt)), with = FALSE])),\n",
    "                   variance10 = rowVars(as.matrix(dt[,grep(times[10], colnames(dt)), with = FALSE]))\n",
    "        )]\n",
    "myrowMeans = function (x){rowMeans(x, na.rm = TRUE)}\n",
    "var <- var[ , var_ave := myrowMeans(.SD), .SDcols = grep(\"variance\", colnames(var))][order(var$var_ave)]"
   ]
  },
  {
   "cell_type": "markdown",
   "metadata": {},
   "source": [
    "#### Classify based on the average p-value across all time points"
   ]
  },
  {
   "cell_type": "code",
   "execution_count": null,
   "metadata": {},
   "outputs": [],
   "source": [
    "pscore <- probabilityScoreR(DT= dt, column_names = \"LF_PValue\")\n",
    "pscore <- data.table(pscore[order(pscore)])"
   ]
  },
  {
   "cell_type": "markdown",
   "metadata": {},
   "source": [
    "#### Classify based on the average FDR value across all time points"
   ]
  },
  {
   "cell_type": "code",
   "execution_count": null,
   "metadata": {},
   "outputs": [],
   "source": [
    "FDRscore <- probabilityScoreR(DT= dt, column_names = \"LF_FDR\")\n",
    "FDRscore <- data.table(FDRscore[order(FDRscore)])"
   ]
  },
  {
   "cell_type": "markdown",
   "metadata": {},
   "source": [
    "#### Plot average variance, P-value, and FDR to determine the best predictive scoring strategy"
   ]
  },
  {
   "cell_type": "code",
   "execution_count": null,
   "metadata": {
    "scrolled": true
   },
   "outputs": [],
   "source": [
    "options(repr.plot.width=15, repr.plot.height=4)\n",
    "p1<- ggplot(var, aes((1:nrow(var)), var_ave))+geom_point()+theme_pubr()+ggtitle(\"Variance\")+ylab(\"Average Variance\")+xlab(\"Gene\")\n",
    "p2 <- ggplot(pscore, aes((1:nrow(pscore)), V1))+geom_point()+theme_pubr()+ggtitle(\"pscore\")+ylab(\"Average P-value\")+xlab(\"Gene\")\n",
    "p3 <- ggplot(FDRscore, aes((1:nrow(FDRscore)), V1))+geom_point()+theme_pubr()+ggtitle(\"FDRscore\")+ylab(\"Average FDR value\")+xlab(\"Gene\")\n",
    "grid.arrange(p1, p2, p3, nrow = 1)"
   ]
  },
  {
   "cell_type": "markdown",
   "metadata": {},
   "source": [
    "This information indicates that the FDR score may be the best strategy for identifying genes that are differentially regulated across all time points. Therefore, the average FDR will be used to classify genes according to if they are PS/OS responsive or shear responsive regardless of flow."
   ]
  },
  {
   "cell_type": "code",
   "execution_count": null,
   "metadata": {},
   "outputs": [],
   "source": [
    "dt$FDRscore_shear <- probabilityScoreR(DT= dt, column_names = \"LF_FDR\")\n",
    "dt$FDRscore_PSOS <- probabilityScoreR(DT= dt, column_names = \"OS[0-9]+_FDR\")\n",
    "#### Annotate shear responsive genes #### \n",
    "dt$shear_responsive <- \"NA\"\n",
    "dt[(dt$`OS24-LF_logFC` > 0 & dt$`PS24-LF_logFC` > 0) & (dt$FDRscore_shear < 0.9) & (dt$`PS24-OS24_FDR` > 0.05) | \n",
    "      (dt$`OS24-LF_logFC` < 0 & dt$`PS24-LF_logFC` < 0) & (dt$FDRscore_shear < 0.9) & (dt$`PS24-OS24_FDR` > 0.05),]$shear_responsive <- \"pattern_independent\"\n",
    "#### Annotate PSOS responsive genes ####\n",
    "dt$PSOS_responsive <- \"NA\"\n",
    "dt[dt$FDRscore_PSOS < 0.86,]$PSOS_responsive <- \"PSOS\" # threshold 0.8\n",
    "dt <- dt[order(dt$FDRscore_shear),]\n",
    "# ppt1 ATP5J2 COPE not shear or PSOS responsive \n",
    "# NONO not PSOS responsive\n",
    "# TGM2 both PSOS and shear responsive\n",
    "writab(DT=dt, fname=\"./results/1 shear_scored_flow_responsive_annotated.xls\")"
   ]
  },
  {
   "cell_type": "markdown",
   "metadata": {},
   "source": [
    "#### Generate a line graph of the raw read values of the top shear responsive gene and the top PSOS responsive gene"
   ]
  },
  {
   "cell_type": "code",
   "execution_count": null,
   "metadata": {
    "scrolled": true
   },
   "outputs": [],
   "source": [
    "options(repr.plot.width=10, repr.plot.height=4)\n",
    "p1 <- grapher(dt[1,c(1,93:134), with = FALSE])\n",
    "p2 <- grapher(dt[order(dt$FDRscore_PSOS),][1,c(1,93:134), with = FALSE])\n",
    "grid.arrange(p1, p2, nrow = 1)"
   ]
  },
  {
   "cell_type": "markdown",
   "metadata": {},
   "source": [
    "#### Generate a line graphs of the raw read values of the shear responsive PSOS responsive genes"
   ]
  },
  {
   "cell_type": "code",
   "execution_count": null,
   "metadata": {},
   "outputs": [],
   "source": [
    "#### plot all genes according to ranking in a loop ####\n",
    "dir.create(\"./results/1_shear_responsive\"); dir.create(\"./results/1_PSOS_responsive\"); dir.create(\"./results/1_shear_and_PSOS_responsive\")\n",
    "lineGraph_loopR(DataTable = dt[(shear_responsive == \"pattern_independent\") & (!PSOS_responsive == \"PSOS\"),], directory = \"./results/1_shear_responsive/\", columns = c(1,93:134))\n",
    "lineGraph_loopR(DataTable = dt[order(dt$FDRscore_PSOS),][(!shear_responsive == \"pattern_independent\") & (PSOS_responsive == \"PSOS\"),], directory = \"./results/1_PSOS_responsive/\", columns = c(1,93:134))\n",
    "lineGraph_loopR(DataTable = dt[(shear_responsive == \"pattern_independent\") & (PSOS_responsive == \"PSOS\"),], directory = \"./results/1_shear_and_PSOS_responsive/\", columns = c(1,93:134))"
   ]
  },
  {
   "cell_type": "markdown",
   "metadata": {},
   "source": [
    "# Section II Explore which human proteins that interact with SARS-CoV-2 proteins are shear or PSOS responsive.\n",
    "\n",
    "The SARS-CoV-2 gene interactions were downloaded from: http://geneontology.org/covid-19.html\n",
    "\n",
    "#### Annotate database of shear and PSOS responsive genes with the SARS-CoV-2 interacting proteins"
   ]
  },
  {
   "cell_type": "code",
   "execution_count": null,
   "metadata": {},
   "outputs": [],
   "source": [
    "binding <- fread(coviddb)\n",
    "entry <- c(\"ACE2\", \"TMPRSS2\") #### Human proteins involved in viral entry ####\n",
    "#### Annotate according to which genes are COVID-19 binding proteins ####\n",
    "dt$COVID_interaction <- \"NA\"\n",
    "dt[(toupper(dt$GeneName) %in% toupper(c(binding$PreyGene, entry))),]$COVID_interaction <- \"COVID_interactor\"\n",
    "final_covid <- dt\n",
    "#### polish genes that were called incorrectly ####\n",
    "shear_rm <- c(\"PPT1\", \"CHMP2A\", \"PSMD8\", \"ITGB1\", \"MAP7D1\", \"NUFB9\") #### Genes to remove from shear dataset\n",
    "psos_rm <- c(\"EIF4H\", \"SLC44A2\") #### Genes to remove from psos dataset\n",
    "psos_to_shear <- c(\"GDF15\") #### Genes to move freom psos dataset to shear dataset # \"FBLN5\",\n",
    "#### remove genes ####\n",
    "final_covid[(final_covid$GeneName %in% shear_rm),]$shear_responsive <- \"NA\"\n",
    "final_covid[(final_covid$GeneName %in% psos_rm),]$PSOS_responsive <- \"NA\"\n",
    "#### move genes to proper datatable ####\n",
    "final_covid[final_covid$GeneName == psos_to_shear[1] | final_covid$GeneName == psos_to_shear[2],]$PSOS_responsive <- \"NA\"\n",
    "final_covid[final_covid$GeneName == psos_to_shear[1] | final_covid$GeneName == psos_to_shear[2],]$shear_responsive <- \"pattern_independent\"\n",
    "writab(DT=final_covid, fname=\"./results/2 COVID annotated data table.xls\")"
   ]
  },
  {
   "cell_type": "markdown",
   "metadata": {},
   "source": [
    "#### Subset out genes that are shear or PSOS responsive and interact with a SARS-CoV-2 protein"
   ]
  },
  {
   "cell_type": "code",
   "execution_count": null,
   "metadata": {},
   "outputs": [],
   "source": [
    "#### pull out COVID-19 interacting proteins ####\n",
    "covid <- final_covid[final_covid$COVID_interaction == \"COVID_interactor\",]\n",
    "#### separate into PSOS or shear responsive ####\n",
    "covid_shear <- covid[covid$shear_responsive == \"pattern_independent\",]\n",
    "covid_psos <- covid[covid$PSOS_responsive == \"PSOS\",]\n",
    "#### remove duplications ####\n",
    "covid_sheardup <-covid_shear[covid_shear[, .I[which.min(`FDRscore_shear`)], by=GeneName]$V1]\n",
    "covid_psosdup <-covid_psos[covid_psos[, .I[which.min(`FDRscore_PSOS`)], by=GeneName]$V1]\n",
    "#### overlapping genes ####\n",
    "intersect(covid_sheardup$GeneName, covid_psosdup$GeneName)\n",
    "#covid[covid$GeneName == intersect(covid_sheardup$GeneName, covid_psosdup$GeneName),]\n",
    "covid <- rbind(covid_sheardup, covid_psosdup)\n",
    "#### annotate with the name of the protein each gene interacts with ####\n",
    "bindingsub <- binding[,(colnames(binding) %in% c(\"Bait\", \"PreyGene\", \"Uniprot Function\", \"Uniprot Function in Disease\")), with = FALSE]\n",
    "colnames(bindingsub)[2] <- \"GeneName\"\n",
    "covid <- merge(covid, bindingsub, by = \"GeneName\")\n",
    "writab(DT=covid, fname=\"./results/3 final COVID only data table.xls\")"
   ]
  },
  {
   "cell_type": "markdown",
   "metadata": {},
   "source": [
    "#### Generate a line graphs of the raw read values of the SARS-CoV-2 interacting proteins"
   ]
  },
  {
   "cell_type": "code",
   "execution_count": null,
   "metadata": {},
   "outputs": [],
   "source": [
    "#### plot all finalized genes ####\n",
    "dir.create(\"./results/2_COVID_shear_responsive\"); dir.create(\"./results/2_COVID_PSOS_responsive\")\n",
    "lineGraph_loopR(DataTable = covid[shear_responsive == \"pattern_independent\",], directory = \"./results/2_COVID_shear_responsive/\", columns = c(1,93:134), resolution = \"low\")\n",
    "lineGraph_loopR(DataTable = covid[PSOS_responsive == \"PSOS\",], directory = \"./results/2_COVID_PSOS_responsive/\", c(1,93:134), resolution = \"low\")"
   ]
  },
  {
   "cell_type": "markdown",
   "metadata": {},
   "source": [
    "#### Heatmap of the fold changes of the flow PSOS and flow independent genes that interact with SARS-CoV-2 proteins."
   ]
  },
  {
   "cell_type": "code",
   "execution_count": null,
   "metadata": {
    "scrolled": true
   },
   "outputs": [],
   "source": [
    "options(repr.plot.width=5, repr.plot.height=10)\n",
    "Data <- covid[,c(1,93:134), with = FALSE]\n",
    "DATA_matrix <- heatmapNormalize(Data)\n",
    "p <- pheatmap(percentize(DATA_matrix), cluster_row = TRUE, cluster_cols = FALSE, show_rownames = TRUE);p\n",
    "#tiff(file = \"./results/4 shear heatmap normalized.tiff\", width = 2000, height = 5300, units = \"px\", res = 400);p;dev.off()"
   ]
  },
  {
   "cell_type": "markdown",
   "metadata": {},
   "source": [
    "#### Generate a venn diagram of the overlap between the POSOS responsive genes, the shear responsive genes, and the SARS-CoV-2 interacting proteins "
   ]
  },
  {
   "cell_type": "code",
   "execution_count": null,
   "metadata": {},
   "outputs": [],
   "source": [
    "psosven <- final_covid[final_covid$PSOS_responsive == \"PSOS\",]$GeneName; psosven <- psosven[!duplicated(psosven)]\n",
    "shearven <- final_covid[final_covid$shear_responsive == \"pattern_independent\",]$GeneName; shearven <- shearven[!duplicated(shearven)]\n",
    "covidven <- final_covid[final_covid$COVID_interaction == \"COVID_interactor\",]$GeneName; covidven <- covidven[!duplicated(covidven)]\n",
    "#### Make the plot\n",
    "catnames <- c(\"PSOS responsive\", \"Shear responsive\", \"SARS CoV 2 interaction\")\n",
    "venn.diagram(\n",
    "  x = list(psosven, shearven, covidven),\n",
    "  category.names = catnames,\n",
    "  filename = './results/5_venn_diagramm.png',\n",
    "  output=TRUE,\n",
    "  imagetype=\"png\" ,\n",
    "  height = 480 , \n",
    "  width = 480 , \n",
    "  resolution = 300,\n",
    "  compression = \"lzw\",\n",
    "  lwd = 1,\n",
    "  col=c(\"#440154ff\", '#21908dff', '#fde725ff'),\n",
    "  fill = c(alpha(\"#440154ff\",0.3), alpha('#21908dff',0.3), alpha('#fde725ff',0.3)),\n",
    "  cex = 0.5,\n",
    "  fontfamily = \"sans\",\n",
    "  cat.cex = 0.3,\n",
    "  cat.default.pos = \"outer\",\n",
    "  cat.pos = c(-27, 27, 135),\n",
    "  cat.dist = c(0.055, 0.055, 0.085),\n",
    "  cat.fontfamily = \"sans\",\n",
    "  cat.col = c(\"#440154ff\", '#21908dff', '#fde725ff'),\n",
    "  rotation = 1\n",
    ")"
   ]
  },
  {
   "cell_type": "markdown",
   "metadata": {},
   "source": [
    "#### Analyse the gene ontology enrichment of the SARS-CoV-2 interacting proteins"
   ]
  },
  {
   "cell_type": "code",
   "execution_count": null,
   "metadata": {},
   "outputs": [],
   "source": [
    "go <- BioMartR(value = covid$GeneName, \n",
    "               mart = \"ENSEMBL_MART_ENSEMBL\", \n",
    "               species = \"hsapiens_gene_ensembl\", \n",
    "               attribute = c(\"wikigene_name\", \"wikigene_description\", \"go_id\", \"name_1006\", \"definition_1006\"),\n",
    "               filter_by = 'wikigene_name')\n",
    "head(go, 1)\n",
    "writab(DT=go, fname=\"./gene_ontology/1 GO BioMart NCBI annotations.xls\")"
   ]
  },
  {
   "cell_type": "markdown",
   "metadata": {},
   "source": [
    "#### Obtain go ID frequency counts"
   ]
  },
  {
   "cell_type": "code",
   "execution_count": null,
   "metadata": {},
   "outputs": [],
   "source": [
    "gofreq <- freqsdt(\"go\", \"go_id\")\n",
    "### annotate with GO name ####\n",
    "dict <- go[!duplicated(go$go_id),][,3:4, with = FALSE]\n",
    "goannot <- merge(gofreq, dict, by = \"go_id\"); goannot <- goannot[order(goannot$count, decreasing = TRUE),]\n",
    "writab(DT=goannot, fname=\"./results/6 GO enrichment.xls\")\n",
    "goannot <- fread(\"./results/6 GO enrichment.xls\")"
   ]
  },
  {
   "cell_type": "markdown",
   "metadata": {},
   "source": [
    "#### Enrich for COVID-19 related terms"
   ]
  },
  {
   "cell_type": "code",
   "execution_count": null,
   "metadata": {},
   "outputs": [],
   "source": [
    "viralprocess <- c(\"membrane\", \"extracellular exosome\", \"endoplasmic reticulum\", \n",
    "                  \"integral component of membrane\", \"RNA binding\", \"Golgi apparatus\", \"viral process\",\n",
    "                  \"protein transport\", \"Golgi membrane\", \"endoplasmic reticulum to Golgi vesicle-mediated transport\",\n",
    "                  \"vesicle-mediated transport\", \"Golgi organization\", \"COPII-coated ER to Golgi transport vesicle\")\n",
    "outcome <- c(\"mitochondrion\", \"focal adhesion\", \"cell adhesion\", \"cell cycle\", \"positive regulation of I-kappaB kinase/NF-kappaB signaling\",\n",
    "             \"Coagulation\", \"inflammatory\", \"thrombin\")\n",
    "viralradar <- goannot[(goannot$name_1006 %in% viralprocess),]\n",
    "outcomeradar <- goannot[(goannot$name_1006 %in% outcome),]\n",
    "#### clean GO names\n",
    "viralradar[grep(\"COPII\", viralradar$name_1006),]$name_1006 <- \"ER to Golgi transport vesicle\"\n",
    "viralradar[grep(\"to Golgi vesicle\", viralradar$name_1006),]$name_1006 <- \"ER to Golgi transport\"\n",
    "viralradar[grep(\"component of membrane\", viralradar$name_1006),]$name_1006 <- \"membrane component\"\n",
    "outcomeradar[grep(\"positive regulation of I\", outcomeradar$name_1006),]$name_1006 <- \"activation of NFkB\""
   ]
  },
  {
   "cell_type": "code",
   "execution_count": null,
   "metadata": {},
   "outputs": [],
   "source": [
    "options(repr.plot.width=7, repr.plot.height=7)\n",
    "#### Generate plot of cell functions important for viral replication\n",
    "radar <- viralradar\n",
    "data <- as.data.frame(matrix(radar$count , ncol=length(radar$go_id)))\n",
    "colnames(data) <- radar$name_1006\n",
    "data <- rbind(rep(radar[which.max(radar$count),]$count,nrow(radar)) , rep(0,nrow(radar)) , data)\n",
    "radar[which.max(radar$count),]$count\n",
    "#tiff(file = \"./results/7 cell function go term radar.tiff\", width = 750, height = 700, units = \"px\", res = 100)\n",
    "radarchart(data, axistype=1 ,\n",
    "           #custom polygon\n",
    "           pcol=rgb(0.2,0.5,0.5,0.9) , pfcol=rgb(0.2,0.5,0.5,0.5) , plwd=4 ,\n",
    "           #custom the grid\n",
    "           cglcol=\"grey\", cglty=1, axislabcol=\"grey\", caxislabels=seq(0,40,(40/5)), cglwd=0.8,\n",
    "           #custom labels\n",
    "           vlcex=0.8)\n",
    "\n",
    "#dev.off()"
   ]
  },
  {
   "cell_type": "code",
   "execution_count": null,
   "metadata": {},
   "outputs": [],
   "source": [
    "options(repr.plot.width=7, repr.plot.height=7)\n",
    "#### Generate plot of cell functions that are related to COVID-19 co-morbidities\n",
    "radar <- outcomeradar\n",
    "data <- as.data.frame(matrix(radar$count , ncol=length(radar$go_id)))\n",
    "colnames(data) <- radar$name_1006\n",
    "data <- rbind(rep(radar[which.max(radar$count),]$count,nrow(radar)) , rep(0,nrow(radar)) , data)\n",
    "radar[which.max(radar$count),]$count\n",
    "#tiff(file = \"./results/8 cell phenotype go term radar.tiff\", width = 750, height = 700, units = \"px\", res = 100)\n",
    "radarchart(data, axistype=1 ,\n",
    "           #custom polygon\n",
    "           pcol=rgb(0.2,0.5,0.5,0.9) , pfcol=rgb(0.2,0.5,0.5,0.5) , plwd=4 ,\n",
    "           #custom the grid\n",
    "           cglcol=\"grey\", cglty=1, axislabcol=\"grey\", caxislabels=seq(0,10,(10/5)), cglwd=0.8,\n",
    "           #custom labels\n",
    "           vlcex=0.8)\n",
    "\n",
    "#dev.off()"
   ]
  },
  {
   "cell_type": "markdown",
   "metadata": {},
   "source": [
    "#### Expand the network to SARS-CoV-2 indirect binding partners. String and Cytoscape were used to infer proteins that are likely to be effected by the primary protein-protein interaction."
   ]
  },
  {
   "cell_type": "code",
   "execution_count": null,
   "metadata": {},
   "outputs": [],
   "source": [
    "cyto <- fread(cytofile);cyto <- cyto[!grep(\"SARS\", Node),]\n",
    "#### pull out COVID-19 interacting proteins ####\n",
    "covidcyto <- final_covid[(final_covid$GeneName %in% cyto$interact),]\n",
    "#### separate into PSOS or shear responsive ####\n",
    "covidcyto_shear <- covidcyto[covidcyto$shear_responsive == \"pattern_independent\",]\n",
    "covidcyto_psos <- covidcyto[covidcyto$PSOS_responsive == \"PSOS\",]\n",
    "#### remove duplications ####\n",
    "covidcyto_sheardup <-covidcyto_shear[covidcyto_shear[, .I[which.min(`FDRscore_shear`)], by=GeneName]$V1]\n",
    "covidcyto_psosdup <-covidcyto_psos[covidcyto_psos[, .I[which.min(`FDRscore_PSOS`)], by=GeneName]$V1]\n",
    "#### polish genes that were called incorrectly\n",
    "shear_rm <- c(\"TRAPPC1\", \"C19orf48\", \"SYVN1\", \"ARHGDIA\") #### Genes to remove from shear dataset\n",
    "psos_rm <- c(\"NQO1\", \"DAD1\") #### Genes to remove from psos dataset# FBLN5 # \n",
    "covid_cyto[GeneName == \"DAD1\"]$PSOS_responsive <- \"NA\"\n",
    "#### remove genes ####\n",
    "covidcyto_sheardup <- covidcyto_sheardup[!(covidcyto_sheardup$GeneName %in% shear_rm),]\n",
    "covidcyto_psosdup <- covidcyto_psosdup[!(covidcyto_psosdup$GeneName %in% psos_rm),]\n",
    "#### overlapping genes ####\n",
    "intersect(covidcyto_sheardup$GeneName, covidcyto_psosdup$GeneName)\n",
    "#covidcyto[covidcyto$GeneName == intersect(covidcyto_sheardup$GeneName, covidcyto_psosdup$GeneName),]\n",
    "covid_cyto <- rbind(covidcyto_sheardup, covidcyto_psosdup)\n",
    "writab(DT=covid_cyto, fname=\"./results/9 COVID cytoscape interest genes.xls\")\n",
    "covid_cyto[GeneName == \"DAD1\"]$PSOS_responsive <- \"NA\""
   ]
  },
  {
   "cell_type": "markdown",
   "metadata": {},
   "source": [
    "#### Generate a line graphs of the raw read values of the SARS-CoV-2 indirect interacting shear responsive and PSOS responsive genes"
   ]
  },
  {
   "cell_type": "code",
   "execution_count": null,
   "metadata": {},
   "outputs": [],
   "source": [
    "#### plot all finalized genes ####\n",
    "dir.create(\"./results/3_COVID_cytoscape_shear_responsive\");dir.create(\"./results/3_COVID_cytoscape_PSOS\")\n",
    "lineGraph_loopR(DataTable = covid_cyto[shear_responsive == \"pattern_independent\",], directory = \"./results/3_COVID_cytoscape_shear_responsive/\", columns = c(1,93:134), resolution = \"low\")\n",
    "lineGraph_loopR(DataTable = covid_cyto[PSOS_responsive == \"PSOS\",], directory = \"./results/3_COVID_cytoscape_PSOS/\", c(1,93:134), resolution = \"low\")"
   ]
  },
  {
   "cell_type": "markdown",
   "metadata": {},
   "source": [
    "#### Create a heatmap illustrating the fold changes of genes that respond to flow (PSOS or shear) and are also part of the SARS-CoV-2 interacting network."
   ]
  },
  {
   "cell_type": "code",
   "execution_count": null,
   "metadata": {
    "scrolled": true
   },
   "outputs": [],
   "source": [
    "options(repr.plot.width=7, repr.plot.height=13)\n",
    "Data <- covid_cyto[,c(1,93:134), with = FALSE]\n",
    "DATA_matrix <- heatmapNormalize(Data)\n",
    "p <- pheatmap(percentize(DATA_matrix), cluster_row = TRUE, cluster_cols = FALSE, show_rownames = TRUE);p\n",
    "#tiff(file = \"./results/10 COVID cytoscape heatmap normalized.tiff\", width = 2000, height = 5300, units = \"px\", res = 400);p;dev.off()"
   ]
  },
  {
   "cell_type": "markdown",
   "metadata": {},
   "source": [
    "#### Obtain gene ontology information for the extended SARS-CoV-2 interacting network"
   ]
  },
  {
   "cell_type": "code",
   "execution_count": null,
   "metadata": {
    "scrolled": true
   },
   "outputs": [],
   "source": [
    "go <- BioMartR(value = covid_cyto, \n",
    "               mart = \"ENSEMBL_MART_ENSEMBL\", \n",
    "               species = \"hsapiens_gene_ensembl\", \n",
    "               attribute = c(\"wikigene_name\", \"wikigene_description\", \"go_id\", \"name_1006\", \"definition_1006\"),\n",
    "               filter_by = 'wikigene_name')\n",
    "head(go, 1)\n",
    "writab(DT=go, fname=\"./gene_ontology/2 GO BioMart cytoscape annotations.xls\")"
   ]
  },
  {
   "cell_type": "markdown",
   "metadata": {},
   "source": [
    "# Explore the mechanistic basis for how the SARS-CoV-2 interacting network may be differentially regulated and predict kinases that can regulate their activity."
   ]
  },
  {
   "cell_type": "markdown",
   "metadata": {},
   "source": [
    "### Identify transcription factor binding sites in the promoters of genes in the SARS-CoV-2 network"
   ]
  },
  {
   "cell_type": "markdown",
   "metadata": {},
   "source": [
    "#### Compile SARS-CoV-2 interacting proteins and the cytoscape expanded network into a single data.table"
   ]
  },
  {
   "cell_type": "code",
   "execution_count": null,
   "metadata": {},
   "outputs": [],
   "source": [
    "DIFsub <- data.table(c(covid$GeneName, covid_cyto$GeneName)) %>% setnames(\"V1\", \"wikigene_name\")\n",
    "DIFsub$wikigene_name <- toupper(DIFsub$wikigene_name)\n",
    "ID2 <- toupper(DIFsub$wikigene_name)"
   ]
  },
  {
   "cell_type": "markdown",
   "metadata": {},
   "source": [
    "#### Load mRNA sequences for the genes in the SARS-CoV-2 network"
   ]
  },
  {
   "cell_type": "code",
   "execution_count": null,
   "metadata": {},
   "outputs": [],
   "source": [
    "# Load the sequence compiled mRNA database\n",
    "setwd(\"C:/Users/breng/Dropbox/Brendan Documents/programming/bioinformatics/cDNA_transcriptome/2016-3-6 cDNA transcriptomes\")\n",
    "mRNAs <- fread(\"3 Annotated species mRNA compilation.xls\"); setwd(homedir)\n",
    "mRNAs$external_gene_name <- toupper(mRNAs$external_gene_name)\n",
    "# Clean data.table\n",
    "CHR_Labels <- c(1:21, \"X\", \"Y\")\n",
    "TRANS_CHR <- mRNAs[(mRNAs$external_gene_name %in% ID2),] # subset out mRNAs of interest\n",
    "TRANS_CHR <- TRANS_CHR[(TRANS_CHR$chromosome_name %in% CHR_Labels),] # remove erroneous chromosome labels\n",
    "TRANS_CHR <- ChromLabel(TRANS_CHR) # relabel chromosome names\n",
    "TRANS_CHR[1:2,c(1,3:10), with = FALSE]"
   ]
  },
  {
   "cell_type": "markdown",
   "metadata": {},
   "source": [
    "#### Obtain and clean promoter sequences for genes in the SARS-CoV-2 network"
   ]
  },
  {
   "cell_type": "code",
   "execution_count": null,
   "metadata": {},
   "outputs": [],
   "source": [
    "# Load available genomes\n",
    "ToLoad <- c(\"Hsapiens.UCSC.hg38\",\"Mmusculus.UCSC.mm10\",\"Rnorvegicus.UCSC.rn6\",\"Btaurus.UCSC.bosTau8\",\"Cfamiliaris.UCSC.canFam3\", \n",
    "            \"Ggallus.UCSC.galGal4\",\"Mmulatta.UCSC.rheMac3\",\"Ptroglodytes.UCSC.panTro3\",\"Sscrofa.UCSC.susScr3\")\n",
    "GenomeLoader(ToLoad)\n",
    "# return the promoter sequences for the identified transcripts from each Species\n",
    "genome <- c(\"Hsapiens.UCSC.hg38\",\"Mmusculus.UCSC.mm10\",\"Rnorvegicus.UCSC.rn6\",\"Btaurus.UCSC.bosTau8\", \"Cfamiliaris.UCSC.canFam3\"\n",
    "            ,\"Ggallus.UCSC.galGal4\",\"Mmulatta.UCSC.rheMac3\",\"Ptroglodytes.UCSC.panTro3\",\"Sscrofa.UCSC.susScr3\")\n",
    "PROMTrans <- ChromosomeSeqCompileR(DT = TRANS_CHR, Spec = genome, distance = 2000)\n",
    "# Remove sequences that contain a large number of N's \n",
    "setnames(PROMTrans, c(\"ensembl_transcript_id\", \"Sequence\", \"Species_File\", \"Scientific_Name\", \"Common_Name\", \"external_gene_name\", \"transcription_start_site\", \"transcript_start\", \"transcript_end\", \"chromosome_name\", \"Genome_Sequence\"),\n",
    "         c(\"ensembl_transcript_id\", \"mRNA_Sequence\", \"Species_File\", \"Scientific_Name\", \"Common_Name\", \"gene_symbol\", \"transcription_start_site\", \"transcript_start\", \"transcript_end\", \"chromosome_name\", \"Sequence\"))\n",
    "PROMTrans <- SequenceSiftR(PROMTrans, Percent = 0.50, output = \"return_remove\")\n",
    "# Sort out Splice Variants so that the longest transcript of each protein is represented only once in each species\n",
    "setnames(PROMTrans, c(\"ensembl_transcript_id\", \"mRNA_Sequence\", \"Species_File\", \"Scientific_Name\", \"Common_Name\", \"gene_symbol\", \"transcription_start_site\", \"transcript_start\", \"transcript_end\", \"chromosome_name\", \"Sequence\", \"Percent_N\"),\n",
    "         c(\"ensembl_transcript_id\", \"Sequence\", \"Species_File\", \"Scientific_Name\", \"Common_Name\", \"external_gene_name\", \"transcription_start_site\", \"transcript_start\", \"transcript_end\", \"chromosome_name\", \"Genome_Sequence\", \"Percent_N\"))\n",
    "PROMTrans <- VariantSort(PROMTrans, variant = \"MAX\")\n",
    "PROMTrans[1:2,c(1, 3:10, 12:13), with = FALSE]"
   ]
  },
  {
   "cell_type": "markdown",
   "metadata": {},
   "source": [
    "#### Identify transcription factor binding sites in the promoter sequences for genes in the SARS-CoV-2 network"
   ]
  },
  {
   "cell_type": "code",
   "execution_count": null,
   "metadata": {},
   "outputs": [],
   "source": [
    "# Load and annotate the TX_factor data table\n",
    "setwd(\"C:/Users/breng/Dropbox/Brendan Documents/programming/scripts/transcription factor consensus sequence\")\n",
    "TXDT <- fread(\"2019-3-22 TX factor data table for R BG.csv\", header = TRUE); setwd(homedir)\n",
    "TXDT <- TXDT[,.(prot, `MotifMap Degenerate consensus sequence`)]\n",
    "TXDT$prot <- toupper(TXDT$prot)\n",
    "TXDT$Consensus_Sequence_Medium <- IUPAC_Boolean(TXDT$`MotifMap Degenerate consensus sequence`, stringency = \"medium\")\n",
    "setnames(TXDT, c(\"prot\", \"MotifMap Degenerate consensus sequence\", \"Consensus_Sequence_Medium\"),\n",
    "         c(\"Targeting_Factor\", \"MotifMap Degenerate consensus sequence\", \"Consensus_Sequence\"))\n",
    "head(TXDT, 2)\n",
    "# Perform the transcription factor binding site matches\n",
    "setnames(PROMTrans, c(\"ensembl_transcript_id\", \"Sequence\", \"Species_File\", \"Scientific_Name\", \"Common_Name\", \"external_gene_name\", \"transcription_start_site\", \"transcript_start\", \"transcript_end\", \"chromosome_name\", \"Genome_Sequence\", \"Percent_N\", \"Length\"),\n",
    "         c(\"ensembl_transcript_id\", \"mRNA_Sequence\", \"Species_File\", \"Scientific_Name\", \"Common_Name\", \"gene_symbol\", \"transcription_start_site\", \"transcript_start\", \"transcript_end\", \"chromosome_name\", \"Sequence\", \"Percent_N\", \"Length\"))\n",
    "TX_TOT_Species <- TFpredict(Target = PROMTrans, Targeting_Factor_DT = TXDT, type = \"multiple_species\")"
   ]
  },
  {
   "cell_type": "markdown",
   "metadata": {},
   "source": [
    "#### Score, set minimum species conservation cutoff, and count the number of transcription factor binding sites for each promoter sequence"
   ]
  },
  {
   "cell_type": "code",
   "execution_count": null,
   "metadata": {},
   "outputs": [],
   "source": [
    "#### Annotate the raw transcription factor hits DT with the IUPAC consensus score\n",
    "DT25 <- TX_TOT_Species[,c(1:7, 9:12), with = FALSE]\n",
    "IUPAC <- DT25$`MotifMap Degenerate consensus sequence`\n",
    "DT25$Score <- IUPAC_ScoreR(IUPAC, stringency = \"medium\")\n",
    "#### Retain only transcription factor promoter association conservation between HMR at each promoter \n",
    "DT25 <- SpeciesTFCons(DT = DT25,Spec = c(\"Human\", \"Mouse\", \"Rat\"), provide = \"TF_Target\")\n",
    "writab(DT=DT25, fname=\"./results/11 HMR Raw Transcription factor hits.xls\")\n",
    "#### Determine the number of times each transcription factor consensus sequence is present for each promoter in human \n",
    "TX_ABUN <- TFRankR(DT = DT25, sortBy = \"abundance\", dec = TRUE); TX_ABUN <- TX_ABUN[TX_ABUN$Species == \"Human\",]; head(TX_ABUN,3)\n",
    "writab(DT=TX_ABUN, fname=\"./results/12 TX number of consensus sequences Human.xls\")"
   ]
  },
  {
   "cell_type": "markdown",
   "metadata": {},
   "source": [
    "### Assess the number of KLF2 and SREBP2 binding sites in the promoters of genes regulated by shear and PSOS."
   ]
  },
  {
   "cell_type": "code",
   "execution_count": null,
   "metadata": {
    "scrolled": true
   },
   "outputs": [],
   "source": [
    "options(repr.plot.width=15, repr.plot.height=4)\n",
    "KLF <- TX_ABUN[Targeting_Factor == \"SREBF2\" | Targeting_Factor == \"KLF2\",]\n",
    "g1 <- ggbarplot(KLF, \"gene_symbol\", \"Number_Hits\",\n",
    "          fill = \"Targeting_Factor\", color = \"Targeting_Factor\", palette = \"Paired\")+\n",
    "    theme(axis.text.x=element_blank(),axis.ticks.x=element_blank())+\n",
    "    xlab(\"Gene\")+ylab(\"Number of hits\");g1\n",
    "#tiff(file = \"./results/13 shear tx factor binding sites.tiff\", width = 1000, height = 500, units = \"px\", res = 100);g1;dev.off()\n",
    "setdiff(KLF[KLF$Targeting_Factor == \"SREBF2\",]$gene_symbol, KLF[KLF$Targeting_Factor == \"KLF2\",]$gene_symbol)\n",
    "setdiff(KLF[KLF$Targeting_Factor == \"KLF2\",]$gene_symbol, KLF[KLF$Targeting_Factor == \"SREBF2\",]$gene_symbol)"
   ]
  },
  {
   "cell_type": "markdown",
   "metadata": {},
   "source": [
    "#### Identify PSOS or shear regulated transcription factors. "
   ]
  },
  {
   "cell_type": "code",
   "execution_count": null,
   "metadata": {},
   "outputs": [],
   "source": [
    "# Annotate the complete data table that is annotated with Shear or PSOS responsiveness, and which proteins interact \n",
    "# with SARS-CoV-2 proteins with which genes are also a transcription factor\n",
    "final_covid$TXfactor <- \"NA\"\n",
    "keyTX <- TX_ABUN[!duplicated(TX_ABUN$Targeting_Factor),]$Targeting_Factor\n",
    "final_covid[(final_covid$GeneName %in% keyTX),]$TXfactor <- \"TXfactor\"\n",
    "#### separate into PSOS or shear responsive ####\n",
    "independent <- final_covid[final_covid$shear_responsive == \"pattern_independent\" & final_covid$TXfactor == \"TXfactor\",]\n",
    "psos <- final_covid[final_covid$PSOS_responsive == \"PSOS\" & final_covid$TXfactor == \"TXfactor\",]\n",
    "#### remove duplications ####\n",
    "independentdup <-independent[independent[, .I[which.min(`FDRscore_shear`)], by=GeneName]$V1]\n",
    "psosdup <-psos[psos[, .I[which.min(`FDRscore_PSOS`)], by=GeneName]$V1]\n",
    "#### overlapping genes ####\n",
    "intersect(independentdup$GeneName, psosdup$GeneName)\n",
    "interestTFs <- rbind(independentdup, psosdup)\n",
    "# polish genes that were called incorrectly ####\n",
    "shear_rm <- c(\"NCL\") # Genes to remove from shear dataset\n",
    "shear_to_psos <- c(\"EPAS1\") # Genes to move freom psos dataset to shear dataset\n",
    "#### remove genes ####\n",
    "interestTFs[(interestTFs$GeneName %in% shear_rm),]$shear_responsive <- \"NA\"\n",
    "#### move genes to proper datatable ####\n",
    "interestTFs[interestTFs$GeneName == shear_to_psos[1],]$PSOS_responsive <- \"PSOS\"\n",
    "interestTFs[interestTFs$GeneName == shear_to_psos[1],]$shear_responsive <- \"NA\"\n",
    "writab(DT=interestTFs, fname=\"./results/14 covid interest transcription factors.xls\")"
   ]
  },
  {
   "cell_type": "markdown",
   "metadata": {},
   "source": [
    "#### Generate a line graphs of the raw read values of the shear responsive PSOS responsive genes"
   ]
  },
  {
   "cell_type": "code",
   "execution_count": null,
   "metadata": {},
   "outputs": [],
   "source": [
    "#### plot all identified genes ####\n",
    "dir.create(\"./results/4_PSOS_txfactor\");dir.create(\"./results/4_flow_independent_txfactor\")\n",
    "lineGraph_loopR(DataTable = interestTFs[PSOS_responsive == \"PSOS\",], directory = \"./results/4_PSOS_txfactor/\", columns = c(1,93:134))\n",
    "lineGraph_loopR(DataTable = interestTFs[shear_responsive == \"pattern_independent\",], directory = \"./results/4_flow_independent_txfactor/\", columns = c(1,93:134))"
   ]
  },
  {
   "cell_type": "markdown",
   "metadata": {},
   "source": [
    "#### Match transcription factors and genes they regulate by their PSOS or shear responsive sharacteristics"
   ]
  },
  {
   "cell_type": "code",
   "execution_count": null,
   "metadata": {},
   "outputs": [],
   "source": [
    "#### Separate transcription factors into PSOS or shear responsive #####\n",
    "shearTX <- interestTFs[shear_responsive == \"pattern_independent\",]\n",
    "psosTX <- interestTFs[PSOS_responsive == \"PSOS\",]\n",
    "sheartxkey <- shearTX$GeneName\n",
    "psostxkey <- psosTX$GeneName\n",
    "#### compile all COVID-19 genes and separate into PSOS or shear responsive ####\n",
    "###############################################################################\n",
    "intersect(covid_cyto$GeneName, covid$GeneName)\n",
    "compiledcovid <- rbind(covid_cyto, covid[,c(1:139), with = FALSE])\n",
    "shear <- compiledcovid[compiledcovid$shear_responsive == \"pattern_independent\",]\n",
    "psos <- compiledcovid[compiledcovid$PSOS_responsive == \"PSOS\",]\n",
    "shearkey <- shear$GeneName\n",
    "psoskey <- psos$GeneName"
   ]
  },
  {
   "cell_type": "markdown",
   "metadata": {},
   "source": [
    "#### Plot PSOS responsive transcription factors that have binding sites in the promoters of PSOS genes. "
   ]
  },
  {
   "cell_type": "code",
   "execution_count": null,
   "metadata": {
    "scrolled": true
   },
   "outputs": [],
   "source": [
    "options(repr.plot.width=7, repr.plot.height=5)\n",
    "hit <- TX_ABUN[(TX_ABUN$Targeting_Factor %in% psostxkey),]; hit <- hit[(hit$gene_symbol %in% psoskey)]\n",
    "g1 <- ggplot(data=hit, aes(x=gene_symbol, y=Number_Hits, group=Targeting_Factor, colour=Targeting_Factor)) +\n",
    "  geom_linerange(data=hit, mapping=aes(x=gene_symbol, ymin=0, ymax=Number_Hits), size = 2, position = position_dodge(width = 0.8))+\n",
    "  geom_point(size = 3, position = position_dodge(width = 0.8)) +\n",
    "  theme_pubr() +\n",
    "  ylab(\"Number of binding sites\") +\n",
    "  xlab(\"gene\") +\n",
    "  theme(axis.text.x = element_text(angle = 90, hjust = 1));g1\n",
    "#tiff(file = \"./results/15 PSOS tx factor binding sites.tiff\", width = 500, height = 500, units = \"px\", res = 100);g1;dev.off()"
   ]
  },
  {
   "cell_type": "markdown",
   "metadata": {},
   "source": [
    "#### Plot shear responsive transcription factors that have binding sites in the promoters of shear responsive genes. "
   ]
  },
  {
   "cell_type": "code",
   "execution_count": null,
   "metadata": {
    "scrolled": true
   },
   "outputs": [],
   "source": [
    "options(repr.plot.width=15, repr.plot.height=5)\n",
    "hit <- TX_ABUN[(TX_ABUN$Targeting_Factor %in% sheartxkey),]; hit <- hit[(hit$gene_symbol %in% shearkey)]\n",
    "g1 <- ggplot(data=hit, aes(x=gene_symbol, y=Number_Hits, group=Targeting_Factor, colour=Targeting_Factor)) +\n",
    "  geom_linerange(data=hit, mapping=aes(x=gene_symbol, ymin=0, ymax=Number_Hits), size = 2, position = position_dodge(width = 0.8))+\n",
    "  geom_point(size = 3, position = position_dodge(width = 0.8)) +\n",
    "  theme_pubr() +\n",
    "  ylab(\"Number of binding sites\") +\n",
    "  xlab(\"gene\") +\n",
    "  theme(axis.title.x=element_blank(),axis.text.x=element_blank(),axis.ticks.x=element_blank());g1\n",
    "#tiff(file = \"./results/16 shear tx factor binding sites.tiff\", width = 1000, height = 500, units = \"px\", res = 100);g1;dev.off()"
   ]
  },
  {
   "cell_type": "markdown",
   "metadata": {},
   "source": [
    "#### Plot the level of expression of the 9 PSOS responsive genes in the KLF4 overexpression RNAseq data set."
   ]
  },
  {
   "cell_type": "code",
   "execution_count": null,
   "metadata": {
    "scrolled": true
   },
   "outputs": [],
   "source": [
    "options(repr.plot.width=7, repr.plot.height=5)\n",
    "DATA <- fread(klf4seq)\n",
    "DATA$gene <- toupper(DATA$gene)\n",
    "DATA <- DATA[,c(3,10,13)]\n",
    "DATA <- DATA[!DATA$`log2(fold_change)` == \"#NAME?\",]\n",
    "DATA <- DATA[!DATA$`log2(fold_change)` == \"inf\",]\n",
    "DATA$`log2(fold_change)` <- as.numeric(DATA$`log2(fold_change)`)\n",
    "#### Label all data groups ####\n",
    "Interactors <- c(\"ADAMTS1\", \"ARHGDIB\", \"COL5A1\", \"RAB11A\",  \"S100A10\", \"SERPINB2\", \"STOM\") # \"RHOA\", \"FBLN5\", \n",
    "int <- DATA[(DATA$gene %in% Interactors),]\n",
    "int$group <- \"PSOS\"\n",
    "nothing <- DATA[!(DATA$gene %in% Interactors),]\n",
    "nothing$group <- \"All other\"\n",
    "dat <- rbind(int, nothing)\n",
    "#identical(nrow(DATA), nrow(dat)); nrow(DATA) == nrow(dat)\n",
    "setnames(dat, colnames(dat), c(\"gene\", \"FC\", \"qval\", \"group\"))\n",
    "dat$logqval <- -log10(dat$qval) #### Take the -log10 of the q-value\n",
    "\n",
    "p <- ggplot(dat, aes(x=FC, y=logqval, colour = group)) +\n",
    "  geom_point(shape = 21, size = 2, colour = \"grey\", fill = \"grey\")+\n",
    "  theme_pubr() +\n",
    "  labs(x = \"log2(FC)\", y = \"-log10(pval)\") +\n",
    "  geom_point(data = subset(dat, group == 'PSOS'),\n",
    "             aes(x=FC, y=logqval), shape = 21, size = 4, colour = \"black\", fill = \"#D7191C\" );p\n",
    "#tiff(file = \"./results/17 KLF4 overexpression.tiff\", width = 500, height = 500, units = \"px\", res = 100);p;dev.off()"
   ]
  },
  {
   "cell_type": "markdown",
   "metadata": {},
   "source": [
    "### Identify PS/OS H3K27ac CHiPseq peaks in the 9 PS/OS responsive genes"
   ]
  },
  {
   "cell_type": "markdown",
   "metadata": {},
   "source": [
    "#### Merge Bam files together and create BigWig files"
   ]
  },
  {
   "cell_type": "code",
   "execution_count": null,
   "metadata": {},
   "outputs": [],
   "source": [
    "#### merge BAM files\n",
    "#dir.create(\"./data/PSOS_H3K27ac/mergebam\")\n",
    "bamfile1 <- \"./data/PSOS_H3K27ac/H3K27ac_OS1_R1.fastq.gz.hisat_OS1.bam\"                     \n",
    "bamfile2 <- \"./data/PSOS_H3K27ac/H3K27ac_OS2_R1.fastq.gz.hisat_OS2.bam\"                        \n",
    "bamfile3 <- \"./data/PSOS_H3K27ac/H3K27ac_PS1_R1.fastq.gz.hisat_PS1.bam\"                     \n",
    "bamfile4 <- \"./data/PSOS_H3K27ac/H3K27ac_PS2_R1.fastq.gz.hisat_PS2.bam\"                      \n",
    "mergeBam(files =c(bamfile1, bamfile2), destination= \"./results/PSOS_H3K27ac/mergebam/OS.bam\")\n",
    "mergeBam(files =c(bamfile3, bamfile4), destination= \"./results/PSOS_H3K27ac/mergebam/PS.bam\")\n",
    "#### Convert Bam files to BigWig files\n",
    "#dir.create(\"./data/PSOS_H3K27ac/mergebam/merge_bigwig_files\")\n",
    "bamfile1 <- \"./results/PSOS_H3K27ac/mergebam/OS.bam\"\n",
    "bamfile2 <- \"./results/PSOS_H3K27ac/mergebam/PS.bam\"\n",
    "BWfile1 <- \"./results/PSOS_H3K27ac/mergebam/merge_bigwig_files/OS.bw\"\n",
    "BWfile2 <- \"./results/PSOS_H3K27ac/mergebam/merge_bigwig_files/PS.bw\"\n",
    "alignment <- readGAlignments(bamfile1); reads_coverage <- coverage(alignment); export.bw(reads_coverage, con = BWfile1)\n",
    "alignment <- readGAlignments(bamfile2); reads_coverage <- coverage(alignment); export.bw(reads_coverage, con = BWfile2)"
   ]
  },
  {
   "cell_type": "code",
   "execution_count": null,
   "metadata": {},
   "outputs": [],
   "source": [
    "###############################################################\n",
    "#### obtain transcription start sites/chromosome locations ####\n",
    "###############################################################\n",
    "name <- c(\"ADAMTS1\", \"RHOA\", \"STOM\", \"SERPINB2\", \"FBLN5\", \"COL5A1\", \"S100A10\", \"ARHGDIB\", \"RAB11A\")\n",
    "go <- BioMartR(value = name, \n",
    "               mart = \"ENSEMBL_MART_ENSEMBL\", \n",
    "               species = \"hsapiens_gene_ensembl\", \n",
    "               attribute = c(\"wikigene_name\",  \"transcription_start_site\", \"chromosome_name\"),\n",
    "               filter_by = 'wikigene_name')\n",
    "head(go, 1)\n",
    "writab(DT=go, fname=\"./gene_ontology/3 BioMart PSOS transcript information.xls\")"
   ]
  },
  {
   "cell_type": "markdown",
   "metadata": {},
   "source": [
    "#### Make graphs of the level of H3K27ac flanking the Transcription start site for each PSOS responsive gene "
   ]
  },
  {
   "cell_type": "code",
   "execution_count": null,
   "metadata": {
    "scrolled": false
   },
   "outputs": [],
   "source": [
    "options(repr.plot.width=14, repr.plot.height=7)\n",
    "go <- go[!duplicated(go$wikigene_name),]\n",
    "name <- go$wikigene_name\n",
    "chro <- as.character(go$chromosome_name)\n",
    "TSS <- go$transcription_start_site\n",
    "st <- (TSS - 15000)\n",
    "en <- (TSS + 15000)\n",
    "PSbw <- \"./data/PSOS_H3K27ac/mergebam/merge_bigwig_files/PS.bw\"\n",
    "OSbw <- \"./data/PSOS_H3K27ac/mergebam/merge_bigwig_files/OS.bw\"\n",
    "\n",
    "p1 <- ChiPseqPeakPlotter(treatment_bw <- PSbw,\n",
    "                         control_bw <- OSbw,\n",
    "                         chr <- chro[1],\n",
    "                         start <- st[1],\n",
    "                         end <- en[1],\n",
    "                         average_dist <- 10,\n",
    "                         fill_dist <- 10,\n",
    "                         type = \"all\",\n",
    "                         x_lab = name[1])#;p1\n",
    "p2 <- ChiPseqPeakPlotter(treatment_bw <- PSbw,\n",
    "                         control_bw <- OSbw,\n",
    "                         chr <- chro[2],\n",
    "                         start <- st[2],\n",
    "                         end <- en[2],\n",
    "                         average_dist <- 10,\n",
    "                         fill_dist <- 10,\n",
    "                         type = \"all\",\n",
    "                         x_lab = name[2])#;p2\n",
    "p3 <- ChiPseqPeakPlotter(treatment_bw <- PSbw,\n",
    "                         control_bw <- OSbw,\n",
    "                         chr <- chro[3],\n",
    "                         start <- st[3],\n",
    "                         end <- en[3],\n",
    "                         average_dist <- 10,\n",
    "                         fill_dist <- 10,\n",
    "                         type = \"all\",\n",
    "                         x_lab = name[3])#;p3\n",
    "p4 <- ChiPseqPeakPlotter(treatment_bw <- PSbw,\n",
    "                         control_bw <- OSbw,\n",
    "                         chr <- chro[4],\n",
    "                         start <- st[4],\n",
    "                         end <- en[4],\n",
    "                         average_dist <- 10,\n",
    "                         fill_dist <- 10,\n",
    "                         type = \"all\",\n",
    "                         x_lab = name[4])#;p4\n",
    "p5 <- ChiPseqPeakPlotter(treatment_bw <- PSbw,\n",
    "                         control_bw <- OSbw,\n",
    "                         chr <- chro[5],\n",
    "                         start <- st[5],\n",
    "                         end <- en[5],\n",
    "                         average_dist <- 10,\n",
    "                         fill_dist <- 10,\n",
    "                         type = \"all\",\n",
    "                         x_lab = name[5])#;p5\n",
    "p6 <- ChiPseqPeakPlotter(treatment_bw <- PSbw,\n",
    "                         control_bw <- OSbw,\n",
    "                         chr <- chro[6],\n",
    "                         start <- st[6],\n",
    "                         end <- en[6],\n",
    "                         average_dist <- 10,\n",
    "                         fill_dist <- 10,\n",
    "                         type = \"all\",\n",
    "                         x_lab = name[6])#;p6\n",
    "p7 <- ChiPseqPeakPlotter(treatment_bw <- PSbw,\n",
    "                         control_bw <- OSbw,\n",
    "                         chr <- chro[7],\n",
    "                         start <- st[7],\n",
    "                         end <- en[7],\n",
    "                         average_dist <- 10,\n",
    "                         fill_dist <- 10,\n",
    "                         type = \"all\",\n",
    "                         x_lab = name[7])#;p7\n",
    "p8 <- ChiPseqPeakPlotter(treatment_bw <- PSbw,\n",
    "                         control_bw <- OSbw,\n",
    "                         chr <- chro[8],\n",
    "                         start <- st[8],\n",
    "                         end <- en[8],\n",
    "                         average_dist <- 10,\n",
    "                         fill_dist <- 10,\n",
    "                         type = \"all\",\n",
    "                         x_lab = name[8])#;p8\n",
    "p9 <- ChiPseqPeakPlotter(treatment_bw <- PSbw,\n",
    "                         control_bw <- OSbw,\n",
    "                         chr <- chro[9],\n",
    "                         start <- st[9],\n",
    "                         end <- en[9],\n",
    "                         average_dist <- 10,\n",
    "                         fill_dist <- 10,\n",
    "                         type = \"all\",\n",
    "                         x_lab = name[9])#;p9\n",
    "multiplot(p1, p2, p3, p4, p5, p6, p7, p8, p9, cols = 1)\n",
    "#tiff(file = \"./results/18 combined_H3K27ac CHiPseq.tiff\", width = 2000, height = 2500, units = \"px\", res = 300); multiplot(p1, p2, p3, p4, p5, p6, p7, p8, p9, cols = 1);dev.off()"
   ]
  },
  {
   "cell_type": "markdown",
   "metadata": {},
   "source": [
    "## Identify post translational modification sites in proteins in the SARS-CoV-2 network"
   ]
  },
  {
   "cell_type": "markdown",
   "metadata": {},
   "source": [
    "#### Obtain and clean protein sequences for genes in the SARS-CoV-2 network"
   ]
  },
  {
   "cell_type": "code",
   "execution_count": null,
   "metadata": {},
   "outputs": [],
   "source": [
    "setwd(\"C:/Users/breng/Dropbox/Brendan Documents/programming/bioinformatics/proteomes/2016-4-29 Proteomes\") # Windows\n",
    "PROTan <- fread(\"3 Annotated species protein compilation.xls\"); setwd(homedir)\n",
    "PROTan$external_gene_name <- toupper(PROTan$external_gene_name)\n",
    "TRANS_PROT <- PROTan[(PROTan$external_gene_name %in% ID2),]\n",
    "Sorted_Proteins <- VariantSort(TRANS_PROT, variant = \"MAX\")\n",
    "Sorted_Proteins[1:2,c(1, 3:7), with = FALSE]"
   ]
  },
  {
   "cell_type": "markdown",
   "metadata": {},
   "source": [
    "#### Identify post translation modification sites in proteins in the SARS-CoV-2 network"
   ]
  },
  {
   "cell_type": "code",
   "execution_count": null,
   "metadata": {},
   "outputs": [],
   "source": [
    "# Load and annotate the post translational modification data table\n",
    "setwd(\"C:/Users/breng/Dropbox/Brendan Documents/programming/bioinformatics/Post translation enzyme data base\")\n",
    "EZDT <- fread(\"2016-8-22 Post translational enzyme data table for R BG.csv\", header = TRUE)\n",
    "setwd(homedir)\n",
    "EZDT <- EZDT[,.(Targeting_Factor, Consensus_Sequence)]\n",
    "head(EZDT,2)\n",
    "# Perform the moditication site matches\n",
    "setnames(Sorted_Proteins, colnames(Sorted_Proteins),\n",
    "         c(\"ensembl_peptide_id\", \"Sequence\", \"Species_File\", \"Scientific_Name\", \"Common_Name\", \"gene_symbol\", \"Length\"))\n",
    "PROT_TOT_Species <- TFpredict(Sorted_Proteins, EZDT, type = \"multiple_species\")\n",
    "#PROT_TOT_Species[,c(1:6,8:11), with = FALSE]"
   ]
  },
  {
   "cell_type": "markdown",
   "metadata": {},
   "source": [
    "#### Score, set minimum species conservation cutoff, and count the number of kinase binding sites for each promoter sequence"
   ]
  },
  {
   "cell_type": "code",
   "execution_count": null,
   "metadata": {},
   "outputs": [],
   "source": [
    "#### Retain only Posttranslational modification association conservation between for selected species for each protein ##\n",
    "DT25 <- SpeciesTFCons(DT = PROT_TOT_Species,Spec = c(\"Human\", \"Mouse\", \"Rat\"), provide = \"TF_Target\")\n",
    "writab(DT=DT25, fname=\"./results/19 HMR Raw Posttranslational modification hits.xls\")\n",
    "#### Determine the number of times each Protein consensus sequence is present for each target in human \n",
    "TF_ABUN <- TFRankR(DT = DT25, sortBy = \"abundance\", dec = TRUE)\n",
    "TF_ABUN <- TF_ABUN[TF_ABUN$Species == \"Human\",]\n",
    "head(TF_ABUN, 2)\n",
    "writab(DT=TF_ABUN, fname=\"./results/20 protein number of consensus sequences Human.xls\")\n",
    "#### Determine the number of targets contain a consensus sequence for each posttranslational modifying enzyme in human\n",
    "TF_PROM <- TFRankR(DT = DT25, sortBy = \"Target\", dec = TRUE)\n",
    "TF_PROM <- TF_PROM[TF_PROM$Species == \"Human\",]\n",
    "head(TF_PROM, 2)\n",
    "writab(DT=TF_PROM, fname=\"./results/21 protein number of promoters Human.xls\")"
   ]
  },
  {
   "cell_type": "markdown",
   "metadata": {},
   "source": [
    "#### Plot the number of proteins targeted by individual kinases"
   ]
  },
  {
   "cell_type": "markdown",
   "metadata": {},
   "source": [
    "#### Plot the number of proteins targeted by each kinase"
   ]
  },
  {
   "cell_type": "code",
   "execution_count": null,
   "metadata": {
    "scrolled": true
   },
   "outputs": [],
   "source": [
    "options(repr.plot.width=20, repr.plot.height=7)\n",
    "g1<-ggplot(data=TF_PROM, aes(x=reorder(`Targeting_Factor`,-Number_targets), y=Number_targets)) +\n",
    "    geom_bar(stat=\"identity\", fill=\"steelblue\") + theme_pubr()+xlab(\"enzyme\")+ylab(\"Number of Targets\")\n",
    "g1\n",
    "#tiff(file = \"./results/22 shear kinase number of targets.tiff\", width = 2000, height = 500, units = \"px\", res = 100);g1;dev.off()"
   ]
  },
  {
   "cell_type": "markdown",
   "metadata": {},
   "source": [
    "#### End of Analysis"
   ]
  }
 ],
 "metadata": {
  "kernelspec": {
   "display_name": "R",
   "language": "R",
   "name": "ir"
  },
  "language_info": {
   "codemirror_mode": "r",
   "file_extension": ".r",
   "mimetype": "text/x-r-source",
   "name": "R",
   "pygments_lexer": "r",
   "version": "3.6.1"
  }
 },
 "nbformat": 4,
 "nbformat_minor": 2
}
