{
 "cells": [
  {
   "cell_type": "markdown",
   "metadata": {},
   "source": [
    "## This analysis classifies genes according to their response to three different mechanical stimulations: PS, OS, or LF flow patterns and then delineate a SARS-CoV-2 interactome"
   ]
  },
  {
   "cell_type": "code",
   "execution_count": 52,
   "metadata": {},
   "outputs": [],
   "source": [
    "options(warn=-1)\n",
    "\n",
    "homedir <- \"C:/Users/breng/Dropbox/New folder/final shear analysis\"\n",
    "funcsfile <- \"shear_analysis_functions.r\"\n",
    "\n",
    "fdrname <- \"./data/4 edgeR.xls\"\n",
    "fcanalyzed <- \"./data/6 PSLFOSLF FC data.xls\"\n",
    "coviddb <- \"./data/COVID_data/binding protein list.csv\"\n",
    "cytofile <- \"./data/cytoscape/cytoscape_interactions.csv\"\n",
    "klf4seq <- \"./data/2 A2B1_pvalue KLF4_over.csv\"\n",
    "\n",
    "setwd(homedir)\n",
    "\n",
    "suppressMessages({\n",
    "    library(ggplot2)\n",
    "    library(ggpubr)\n",
    "    library(data.table)\n",
    "    library(matrixStats)\n",
    "    library(pheatmap)\n",
    "    library(heatmaply)\n",
    "    library(VennDiagram)\n",
    "    library(ConservationtextmineR)\n",
    "    library(dplyr)\n",
    "    library(fmsb)\n",
    "    library(biomaRt)\n",
    "    library(systemPipeR)\n",
    "    library(Rsamtools)\n",
    "    library(GenomicAlignments)\n",
    "    library(rtracklayer)\n",
    "    library(gridExtra)\n",
    "    library(MyPackage)\n",
    "    library(Gviz)\n",
    "    library(rtracklayer)\n",
    "    library(trackViewer)\n",
    "    library(RColorBrewer)  \n",
    "    library(UpSetR)\n",
    "    library(ggVennDiagram)\n",
    "    library(IRdisplay)\n",
    "})\n",
    "source(funcsfile)"
   ]
  },
  {
   "cell_type": "markdown",
   "metadata": {},
   "source": [
    "The file \"4 edgeR\" contains the computed fold changes from a 10 time point RNAseq experiment involving endothelial cells subjected to PS, OS, or LF.\n",
    "\n",
    "The file \"6 PSLFOSLF FC data\" contains the complete cases of file 4 in addition to the gene name annotation information and the raw read counts."
   ]
  },
  {
   "cell_type": "code",
   "execution_count": 2,
   "metadata": {
    "scrolled": true
   },
   "outputs": [
    {
     "name": "stdout",
     "output_type": "stream",
     "text": [
      "Classes 'data.table' and 'data.frame':\t20450 obs. of  134 variables:\n",
      " $ GeneName          : chr  \"A2M\" \"ACADM\" \"ACADS\" \"ACADVL\" ...\n",
      " $ PS1-LF_logFC      : num  -0.2086 0.184 -0.0472 0.256 -0.1074 ...\n",
      " $ PS1-LF_PValue     : num  0.869 0.666 0.95 0.579 0.678 ...\n",
      " $ PS1-LF_FDR        : num  1 1 1 1 1 1 1 1 1 1 ...\n",
      " $ PS2-LF_logFC      : num  -0.4536 0.0364 0.0444 0.4568 -0.191 ...\n",
      " $ PS2-LF_PValue     : num  0.731 0.934 0.952 0.32 0.47 ...\n",
      " $ PS2-LF_FDR        : num  1 1 1 1 1 1 1 1 1 1 ...\n",
      " $ PS3-LF_logFC      : num  -0.37203 0.04507 0.00934 0.35398 -0.09053 ...\n",
      " $ PS3-LF_PValue     : num  0.775 0.919 0.99 0.443 0.728 ...\n",
      " $ PS3-LF_FDR        : num  1 1 1 1 1 1 1 1 1 1 ...\n",
      " $ PS4-LF_logFC      : num  -0.4228 0.1061 0.1177 0.8006 -0.0163 ...\n",
      " $ PS4-LF_PValue     : num  0.7479 0.8079 0.8722 0.0798 0.9494 ...\n",
      " $ PS4-LF_FDR        : num  1 1 1 1 1 ...\n",
      " $ PS6-LF_logFC      : num  -0.23471 -0.08622 -0.00784 0.59422 0.01466 ...\n",
      " $ PS6-LF_PValue     : num  0.855 0.849 0.992 0.196 0.955 ...\n",
      " $ PS6-LF_FDR        : num  1 1 1 1 1 1 1 1 1 1 ...\n",
      " $ PS9-LF_logFC      : num  -1.126 0.12 -0.16 0.558 0.174 ...\n",
      " $ PS9-LF_PValue     : num  0.442 0.783 0.836 0.224 0.487 ...\n",
      " $ PS9-LF_FDR        : num  1 1 1 1 1 1 1 1 1 1 ...\n",
      " $ PS12-LF_logFC     : num  -1.3678 -0.3053 0.2644 0.7763 0.0519 ...\n",
      " $ PS12-LF_PValue    : num  0.3687 0.5167 0.7125 0.0898 0.8389 ...\n",
      " $ PS12-LF_FDR       : num  1 1 1 0.96 1 ...\n",
      " $ PS16-LF_logFC     : num  -1.2882 0.0189 0.1134 0.8487 0.0288 ...\n",
      " $ PS16-LF_PValue    : num  0.3916 0.9661 0.8775 0.0633 0.9104 ...\n",
      " $ PS16-LF_FDR       : num  1 1 1 0.694 1 ...\n",
      " $ PS20-LF_logFC     : num  -1.5263 -0.2372 0.0843 0.4665 -0.021 ...\n",
      " $ PS20-LF_PValue    : num  0.329 0.612 0.91 0.311 0.936 ...\n",
      " $ PS20-LF_FDR       : num  1 1 1 1 1 ...\n",
      " $ PS24-LF_logFC     : num  -1.679 -0.236 0.228 0.825 -0.155 ...\n",
      " $ PS24-LF_PValue    : num  0.2932 0.6126 0.7527 0.0714 0.561 ...\n",
      " $ PS24-LF_FDR       : num  1 1 1 0.642 1 ...\n",
      " $ OS1-LF_logFC      : num  0.179 0.0206 0.2454 0.3459 0.0205 ...\n",
      " $ OS1-LF_PValue     : num  0.88 0.963 0.73 0.453 0.936 ...\n",
      " $ OS1-LF_FDR        : num  1 1 1 1 1 1 1 1 1 1 ...\n",
      " $ OS2-LF_logFC      : num  0.172 -0.1877 -0.0281 0.4508 -0.1002 ...\n",
      " $ OS2-LF_PValue     : num  0.886 0.682 0.97 0.327 0.7 ...\n",
      " $ OS2-LF_FDR        : num  1 1 1 1 1 1 1 1 1 1 ...\n",
      " $ OS3-LF_logFC      : num  0.2758 0.0269 0.0275 0.0654 0.0163 ...\n",
      " $ OS3-LF_PValue     : num  0.816 0.952 0.971 0.888 0.949 ...\n",
      " $ OS3-LF_FDR        : num  1 1 1 1 1 1 1 1 1 1 ...\n",
      " $ OS4-LF_logFC      : num  0.2054 -0.0418 0.0823 0.0455 -0.0812 ...\n",
      " $ OS4-LF_PValue     : num  0.864 0.926 0.911 0.922 0.756 ...\n",
      " $ OS4-LF_FDR        : num  1 1 1 1 1 1 1 1 1 1 ...\n",
      " $ OS6-LF_logFC      : num  -0.3319 -0.0983 0.184 0.4048 -0.1272 ...\n",
      " $ OS6-LF_PValue     : num  0.799 0.829 0.8 0.38 0.629 ...\n",
      " $ OS6-LF_FDR        : num  1 1 1 1 1 1 1 1 1 1 ...\n",
      " $ OS9-LF_logFC      : num  -1.1758 -0.0892 0.0212 0.4932 -0.1697 ...\n",
      " $ OS9-LF_PValue     : num  0.427 0.844 0.977 0.284 0.523 ...\n",
      " $ OS9-LF_FDR        : num  1 1 1 1 1 1 1 1 1 1 ...\n",
      " $ OS12-LF_logFC     : num  -1.211 -0.0968 0.2386 0.524 -0.1134 ...\n",
      " $ OS12-LF_PValue    : num  0.417 0.832 0.741 0.255 0.667 ...\n",
      " $ OS12-LF_FDR       : num  1 1 1 1 1 1 1 1 1 1 ...\n",
      " $ OS16-LF_logFC     : num  -1.26 -0.205 0.272 0.463 -0.278 ...\n",
      " $ OS16-LF_PValue    : num  0.4 0.658 0.704 0.315 0.304 ...\n",
      " $ OS16-LF_FDR       : num  1 1 1 1 1 1 1 1 1 1 ...\n",
      " $ OS20-LF_logFC     : num  -1.5032 -0.1688 0.2902 0.6896 -0.0501 ...\n",
      " $ OS20-LF_PValue    : num  0.33 0.712 0.684 0.132 0.847 ...\n",
      " $ OS20-LF_FDR       : num  1 1 1 0.932 1 ...\n",
      " $ OS24-LF_logFC     : num  -1.889 -0.322 0.272 0.456 -0.352 ...\n",
      " $ OS24-LF_PValue    : num  0.247 0.494 0.704 0.322 0.198 ...\n",
      " $ OS24-LF_FDR       : num  1 1 1 1 1 1 1 1 1 1 ...\n",
      " $ PS1-OS1_logFC     : num  -0.3876 0.1634 -0.2925 -0.0899 -0.1278 ...\n",
      " $ PS1-OS1_PValue    : num  0.751 0.7 0.682 0.844 0.619 ...\n",
      " $ PS1-OS1_FDR       : num  1 1 1 1 1 1 1 1 1 1 ...\n",
      " $ PS2-OS2_logFC     : num  -0.62553 0.22409 0.07255 0.00603 -0.09073 ...\n",
      " $ PS2-OS2_PValue    : num  0.627 0.623 0.922 0.989 0.737 ...\n",
      " $ PS2-OS2_FDR       : num  1 1 1 1 1 1 1 1 1 1 ...\n",
      " $ PS3-OS3_logFC     : num  -0.6479 0.0182 -0.0182 0.2885 -0.1068 ...\n",
      " $ PS3-OS3_PValue    : num  0.608 0.967 0.981 0.531 0.684 ...\n",
      " $ PS3-OS3_FDR       : num  1 1 1 1 1 1 1 1 1 1 ...\n",
      " $ PS4-OS4_logFC     : num  -0.6282 0.1479 0.0354 0.7552 0.0648 ...\n",
      " $ PS4-OS4_PValue    : num  0.6259 0.7392 0.9613 0.0985 0.8057 ...\n",
      " $ PS4-OS4_FDR       : num  1 1 1 1 1 1 1 1 1 1 ...\n",
      " $ PS6-OS6_logFC     : num  0.0972 0.012 -0.1918 0.1894 0.1418 ...\n",
      " $ PS6-OS6_PValue    : num  0.943 0.979 0.795 0.676 0.594 ...\n",
      " $ PS6-OS6_FDR       : num  1 1 1 1 1 1 1 1 1 1 ...\n",
      " $ PS9-OS9_logFC     : num  0.0493 0.2095 -0.1808 0.0651 0.3434 ...\n",
      " $ PS9-OS9_PValue    : num  0.977 0.64 0.816 0.886 0.187 ...\n",
      " $ PS9-OS9_FDR       : num  1 1 1 1 1 1 1 1 1 1 ...\n",
      " $ PS12-OS12_logFC   : num  -0.1568 -0.2084 0.0259 0.2523 0.1654 ...\n",
      " $ PS12-OS12_PValue  : num  0.93 0.667 0.97 0.575 0.531 ...\n",
      " $ PS12-OS12_FDR     : num  1 1 1 1 1 ...\n",
      " $ PS16-OS16_logFC   : num  -0.0283 0.2235 -0.1587 0.3858 0.3066 ...\n",
      " $ PS16-OS16_PValue  : num  0.987 0.631 0.823 0.391 0.259 ...\n",
      " $ PS16-OS16_FDR     : num  1 1 1 1 1 ...\n",
      " $ PS20-OS20_logFC   : num  -0.0231 -0.0684 -0.2059 -0.2232 0.0292 ...\n",
      " $ PS20-OS20_PValue  : num  0.99 0.888 0.773 0.621 0.912 ...\n",
      " $ PS20-OS20_FDR     : num  1 1 1 1 1 ...\n",
      " $ PS24-OS24_logFC   : num  0.2095 0.0856 -0.0439 0.3688 0.1972 ...\n",
      " $ PS24-OS24_PValue  : num  0.915 0.863 0.95 0.412 0.489 ...\n",
      " $ PS24-OS24_FDR     : num  1 1 1 1 1 ...\n",
      " $ TranscriptID      : chr  \"NM_000014_chr12\" \"NM_000016_chr1\" \"NM_000017_chr12\" \"NM_000018_chr17\" ...\n",
      " $ setA_low_flow_1_R1: num  1.59 9.56 4.29 63.72 27.79 ...\n",
      " $ setB_low_flow_1_R1: num  0.629 11.246 2.749 25.179 35.716 ...\n",
      " $ setA_OS_1_hr      : num  1.6 11.5 4.11 44.04 30.53 ...\n",
      " $ setA_OS_2_hr      : num  1.32 8.98 3.5 69.8 28.32 ...\n",
      " $ setA_OS_3_hr      : num  1.75 10.74 3.09 42.7 29.33 ...\n",
      " $ setA_OS_4_hr      : num  1.24 9.34 3.34 46.16 27.36 ...\n",
      " $ setA_OS_6_hr      : num  1.08 8.34 3.87 51.81 24.66 ...\n",
      "  [list output truncated]\n",
      " - attr(*, \"sorted\")= chr \"TranscriptID\"\n",
      " - attr(*, \".internal.selfref\")=<externalptr> \n"
     ]
    }
   ],
   "source": [
    "dt1 <- fread(fdrname)\n",
    "dt1 <- dt1[,!grep(\"(logCPM|LR)\", colnames(dt1)), with = FALSE]; setkey(dt1, TranscriptID)\n",
    "annotation <- fread(fcanalyzed)\n",
    "annotation <- annotation[,grep(\"(Transcrip|Name|setA|setB)\", colnames(annotation)), with = FALSE]; setkey(annotation, TranscriptID)\n",
    "#dt <- merge(dt1, annotation, by = \"TranscriptID\")\n",
    "dt <- dt1[annotation]\n",
    "dt <- dt[,c(92, 1:91, 93:ncol(dt)), with = FALSE]\n",
    "str(dt)"
   ]
  },
  {
   "cell_type": "markdown",
   "metadata": {},
   "source": [
    "# Section I\n",
    "\n",
    "#### In this section, we conducted an exploratory analysis of the best method of ranking and classifying genes into those that respond to PS compared to OS, or those responding to PS and OS compared to LF.  We tried three methods: 1) ranking genes based on the average variance across all time points, 2) ranking genes based on the average p-value across all time points, 3) ranking genes based on the average FDR score for all time points.  Ultimately, we classified genes based on the following criteria:\n",
    "\n",
    "#### rank based on FDR score\n",
    "The following criteris were used to classify genes that are differentially regulated by flow but not in response to PS relative to OS: <br>\n",
    "$x= \\frac{1}{N}\\sum_{i=0}^N FDR_{i} $  < 0.9 <br>\n",
    "PS/LF < 0 & OS/LF < 0 <br>\n",
    "PS/LF > 0 & OS/LF > 0 <br>\n",
    "PS/OS24 FDR > 0.05\n",
    "\n",
    "Classification of genes that are PS/OS responsive were based on: <br>\n",
    "$x= \\frac{1}{N}\\sum_{i=0}^N FDR_{i} $  < 0.86 <br>\n",
    "\n",
    "\n",
    "### The following code provides a step by step rationale for why we decided on these classification criteria."
   ]
  },
  {
   "cell_type": "markdown",
   "metadata": {},
   "source": [
    "#### Classify based on average variance"
   ]
  },
  {
   "cell_type": "code",
   "execution_count": 3,
   "metadata": {},
   "outputs": [],
   "source": [
    "times <- c(\"1_hr\", \"2_hr\", \"3_hr\", \"4_hr\", \"6_hr\", \"9_hr\", \"12_hr\", \"16_hr\", \"20_hr\", \"24_hr\")\n",
    "var <- dt[,. (variance1 = rowVars(as.matrix(dt[,grep(times[1], colnames(dt)), with = FALSE])),\n",
    "                   variance2 = rowVars(as.matrix(dt[,grep(times[2], colnames(dt)), with = FALSE])), \n",
    "                   variance3 = rowVars(as.matrix(dt[,grep(times[3], colnames(dt)), with = FALSE])),\n",
    "                   variance4 = rowVars(as.matrix(dt[,grep(times[4], colnames(dt)), with = FALSE])),\n",
    "                   variance5 = rowVars(as.matrix(dt[,grep(times[5], colnames(dt)), with = FALSE])),\n",
    "                   variance6 = rowVars(as.matrix(dt[,grep(times[6], colnames(dt)), with = FALSE])),\n",
    "                   variance7 = rowVars(as.matrix(dt[,grep(times[7], colnames(dt)), with = FALSE])),\n",
    "                   variance8 = rowVars(as.matrix(dt[,grep(times[8], colnames(dt)), with = FALSE])),\n",
    "                   variance9 = rowVars(as.matrix(dt[,grep(times[9], colnames(dt)), with = FALSE])),\n",
    "                   variance10 = rowVars(as.matrix(dt[,grep(times[10], colnames(dt)), with = FALSE]))\n",
    "        )]\n",
    "myrowMeans = function (x){rowMeans(x, na.rm = TRUE)}\n",
    "var <- var[ , var_ave := myrowMeans(.SD), .SDcols = grep(\"variance\", colnames(var))][order(var$var_ave)]"
   ]
  },
  {
   "cell_type": "markdown",
   "metadata": {},
   "source": [
    "#### Classify based on the average p-value across all time points"
   ]
  },
  {
   "cell_type": "code",
   "execution_count": 4,
   "metadata": {},
   "outputs": [],
   "source": [
    "pscore <- probabilityScoreR(DT= dt, column_names = \"LF_PValue\")\n",
    "pscore <- data.table(pscore[order(pscore)])"
   ]
  },
  {
   "cell_type": "markdown",
   "metadata": {},
   "source": [
    "#### Classify based on the average FDR value across all time points"
   ]
  },
  {
   "cell_type": "code",
   "execution_count": 5,
   "metadata": {},
   "outputs": [],
   "source": [
    "FDRscore <- probabilityScoreR(DT= dt, column_names = \"LF_FDR\")\n",
    "FDRscore <- data.table(FDRscore[order(FDRscore)])"
   ]
  },
  {
   "cell_type": "markdown",
   "metadata": {},
   "source": [
    "#### Plot average variance, P-value, and FDR to determine the best predictive scoring strategy"
   ]
  },
  {
   "cell_type": "code",
   "execution_count": 6,
   "metadata": {
    "scrolled": true
   },
   "outputs": [
    {
     "data": {
      "image/png": "[encoded data removed]",
      "text/plain": [
       "plot without title"
      ]
     },
     "metadata": {
      "image/png": {
       "height": 240,
       "width": 900
      }
     },
     "output_type": "display_data"
    }
   ],
   "source": [
    "options(repr.plot.width=15, repr.plot.height=4)\n",
    "p1<- ggplot(var, aes((1:nrow(var)), var_ave))+geom_point()+theme_pubr()+ggtitle(\"Variance\")+ylab(\"Average Variance\")+xlab(\"Gene\")\n",
    "p2 <- ggplot(pscore, aes((1:nrow(pscore)), V1))+geom_point()+theme_pubr()+ggtitle(\"pscore\")+ylab(\"Average P-value\")+xlab(\"Gene\")\n",
    "p3 <- ggplot(FDRscore, aes((1:nrow(FDRscore)), V1))+geom_point()+theme_pubr()+ggtitle(\"FDRscore\")+ylab(\"Average FDR value\")+xlab(\"Gene\")\n",
    "grid.arrange(p1, p2, p3, nrow = 1)"
   ]
  },
  {
   "cell_type": "markdown",
   "metadata": {},
   "source": [
    "This information indicates that the FDR score may be the best strategy for identifying genes that are differentially regulated across all time points. Therefore, the average FDR will be used to classify genes according to if they are PS/OS responsive or shear responsive regardless of flow."
   ]
  },
  {
   "cell_type": "code",
   "execution_count": 7,
   "metadata": {},
   "outputs": [],
   "source": [
    "dt$FDRscore_shear <- probabilityScoreR(DT= dt, column_names = \"LF_FDR\")\n",
    "dt$FDRscore_PSOS <- probabilityScoreR(DT= dt, column_names = \"OS[0-9]+_FDR\")\n",
    "#### Annotate shear responsive genes #### \n",
    "dt$shear_responsive <- \"NA\"\n",
    "dt[(dt$`OS24-LF_logFC` > 0 & dt$`PS24-LF_logFC` > 0) & (dt$FDRscore_shear < 0.9) & (dt$`PS24-OS24_FDR` > 0.05) | \n",
    "      (dt$`OS24-LF_logFC` < 0 & dt$`PS24-LF_logFC` < 0) & (dt$FDRscore_shear < 0.9) & (dt$`PS24-OS24_FDR` > 0.05),]$shear_responsive <- \"pattern_independent\"\n",
    "#### Annotate PSOS responsive genes ####\n",
    "dt$PSOS_responsive <- \"NA\"\n",
    "dt[dt$FDRscore_PSOS < 0.86,]$PSOS_responsive <- \"PSOS\" # threshold 0.8\n",
    "dt <- dt[order(dt$FDRscore_shear),]\n",
    "# writab(DT=dt, fname=\"./results/1 shear_scored_flow_responsive_annotated.xls\")"
   ]
  },
  {
   "cell_type": "markdown",
   "metadata": {},
   "source": [
    "#### PCA plot of annotated genes"
   ]
  },
  {
   "cell_type": "code",
   "execution_count": 8,
   "metadata": {},
   "outputs": [
    {
     "data": {
      "image/png": "[encoded data removed]",
      "text/plain": [
       "plot without title"
      ]
     },
     "metadata": {
      "image/png": {
       "height": 240,
       "width": 900
      }
     },
     "output_type": "display_data"
    }
   ],
   "source": [
    "options(repr.plot.width=15, repr.plot.height=4)\n",
    "pca <- dt[,grep(\"FDRscore_shear|FDRscore_PSOS\", colnames(dt)), with = FALSE]\n",
    "pca$x <- paste(dt$shear_responsive, dt$PSOS_responsive)\n",
    "pca$x <- gsub(\"NA\", \"\",pca$x)\n",
    "sigsub <- pca[,c(ncol(pca), 1:(ncol(pca)-1)), with = FALSE]\n",
    "#str(pca)\n",
    "transpose <- sigsub[,-1]\n",
    "names <- sigsub$x\n",
    "PCA <- prcomp(scale(transpose))\n",
    "df <- data.frame(PCA$x)\n",
    "df$names <- names\n",
    "#head(df)\n",
    "p1 <- ggplot(df[df$names == \"pattern_independent \" | df$names == \" PSOS\",], aes(x=PC1, y=PC2, color = names, fill = names))+\n",
    "  geom_point(shape = 21, size = 3)+\n",
    "  ggtitle(\"PCA\")+\n",
    "  theme_pubr()\n",
    "\n",
    "p2 <- ggplot(df[!df$names == \" \",], aes(x=PC1, y=PC2, color = names, fill = names))+\n",
    "  geom_point(shape = 21, size = 3)+\n",
    "  ggtitle(\"PCA\")+\n",
    "  theme_pubr()\n",
    "\n",
    "p3 <- ggplot(df, aes(x=PC1, y=PC2, color = names, fill = names))+\n",
    "  geom_point(shape = 21, size = 3)+\n",
    "  ggtitle(\"PCA\")+\n",
    "  theme_pubr()\n",
    "grid.arrange(p1, p2, p3, nrow = 1)"
   ]
  },
  {
   "cell_type": "markdown",
   "metadata": {},
   "source": [
    "#### Generate a line graph of the raw read values of the top shear responsive gene and the top PSOS responsive gene"
   ]
  },
  {
   "cell_type": "code",
   "execution_count": 9,
   "metadata": {
    "scrolled": true
   },
   "outputs": [
    {
     "data": {
      "image/png": "[encoded data removed]",
      "text/plain": [
       "plot without title"
      ]
     },
     "metadata": {
      "image/png": {
       "height": 240,
       "width": 600
      }
     },
     "output_type": "display_data"
    }
   ],
   "source": [
    "options(repr.plot.width=10, repr.plot.height=4)\n",
    "p1 <- grapher(dt[1,c(1,93:134), with = FALSE])\n",
    "p2 <- grapher(dt[order(dt$FDRscore_PSOS),][1,c(1,93:134), with = FALSE])\n",
    "grid.arrange(p1, p2, nrow = 1)"
   ]
  },
  {
   "cell_type": "markdown",
   "metadata": {},
   "source": [
    "#### Generate a line graphs of the raw read values of the shear responsive PSOS responsive genes"
   ]
  },
  {
   "cell_type": "code",
   "execution_count": null,
   "metadata": {},
   "outputs": [],
   "source": [
    "#### plot all genes according to ranking in a loop ####\n",
    "dir.create(\"./results/1_shear_responsive\"); dir.create(\"./results/1_PSOS_responsive\"); dir.create(\"./results/1_shear_and_PSOS_responsive\")\n",
    "lineGraph_loopR(DataTable = dt[(shear_responsive == \"pattern_independent\") & (!PSOS_responsive == \"PSOS\"),], directory = \"./results/1_shear_responsive/\", columns = c(1,93:134))\n",
    "lineGraph_loopR(DataTable = dt[order(dt$FDRscore_PSOS),][(!shear_responsive == \"pattern_independent\") & (PSOS_responsive == \"PSOS\"),], directory = \"./results/1_PSOS_responsive/\", columns = c(1,93:134))\n",
    "lineGraph_loopR(DataTable = dt[(shear_responsive == \"pattern_independent\") & (PSOS_responsive == \"PSOS\"),], directory = \"./results/1_shear_and_PSOS_responsive/\", columns = c(1,93:134))"
   ]
  },
  {
   "cell_type": "markdown",
   "metadata": {},
   "source": [
    "# Section II Explore which human proteins that interact with SARS-CoV-2 proteins are shear or PSOS responsive.\n",
    "\n",
    "The SARS-CoV-2 gene interactions were downloaded from: http://geneontology.org/covid-19.html\n",
    "\n",
    "#### Annotate database of shear and PSOS responsive genes with the SARS-CoV-2 interacting proteins"
   ]
  },
  {
   "cell_type": "code",
   "execution_count": 10,
   "metadata": {},
   "outputs": [],
   "source": [
    "binding <- fread(coviddb)\n",
    "entry <- c(\"ACE2\", \"TMPRSS2\") #### Human proteins involved in viral entry ####\n",
    "#### Annotate according to which genes are COVID-19 binding proteins ####\n",
    "dt$COVID_interaction <- \"NA\"\n",
    "dt[(toupper(dt$GeneName) %in% toupper(c(binding$PreyGene, entry))),]$COVID_interaction <- \"COVID_interactor\"\n",
    "final_covid <- dt\n",
    "#### polish genes that were called incorrectly ####\n",
    "shear_rm <- c(\"PPT1\", \"CHMP2A\", \"PSMD8\", \"ITGB1\", \"MAP7D1\", \"NUFB9\") #### Genes to remove from shear dataset\n",
    "psos_rm <- c(\"EIF4H\", \"SLC44A2\") #### Genes to remove from psos dataset\n",
    "psos_to_shear <- c(\"GDF15\") #### Genes to move freom psos dataset to shear dataset # \"FBLN5\",\n",
    "#### remove genes ####\n",
    "final_covid[(final_covid$GeneName %in% shear_rm),]$shear_responsive <- \"NA\"\n",
    "final_covid[(final_covid$GeneName %in% psos_rm),]$PSOS_responsive <- \"NA\"\n",
    "#### move genes to proper datatable ####\n",
    "final_covid[final_covid$GeneName == psos_to_shear[1] | final_covid$GeneName == psos_to_shear[2],]$PSOS_responsive <- \"NA\"\n",
    "final_covid[final_covid$GeneName == psos_to_shear[1] | final_covid$GeneName == psos_to_shear[2],]$shear_responsive <- \"pattern_independent\"\n",
    "# writab(DT=final_covid, fname=\"./results/2 COVID annotated data table.xls\")"
   ]
  },
  {
   "cell_type": "markdown",
   "metadata": {},
   "source": [
    "#### Subset out genes that are shear or PSOS responsive and interact with a SARS-CoV-2 protein"
   ]
  },
  {
   "cell_type": "code",
   "execution_count": 11,
   "metadata": {},
   "outputs": [
    {
     "data": {
      "text/html": [],
      "text/latex": [],
      "text/markdown": [],
      "text/plain": [
       "character(0)"
      ]
     },
     "metadata": {},
     "output_type": "display_data"
    }
   ],
   "source": [
    "#### pull out COVID-19 interacting proteins ####\n",
    "covid <- final_covid[final_covid$COVID_interaction == \"COVID_interactor\",]\n",
    "#### separate into PSOS or shear responsive ####\n",
    "covid_shear <- covid[covid$shear_responsive == \"pattern_independent\",]\n",
    "covid_psos <- covid[covid$PSOS_responsive == \"PSOS\",]\n",
    "#### remove duplications ####\n",
    "covid_sheardup <-covid_shear[covid_shear[, .I[which.min(`FDRscore_shear`)], by=GeneName]$V1]\n",
    "covid_psosdup <-covid_psos[covid_psos[, .I[which.min(`FDRscore_PSOS`)], by=GeneName]$V1]\n",
    "#### overlapping genes ####\n",
    "intersect(covid_sheardup$GeneName, covid_psosdup$GeneName)\n",
    "#covid[covid$GeneName == intersect(covid_sheardup$GeneName, covid_psosdup$GeneName),]\n",
    "covid <- rbind(covid_sheardup, covid_psosdup)\n",
    "#### annotate with the name of the protein each gene interacts with ####\n",
    "bindingsub <- binding[,(colnames(binding) %in% c(\"Bait\", \"PreyGene\", \"Uniprot Function\", \"Uniprot Function in Disease\")), with = FALSE]\n",
    "colnames(bindingsub)[2] <- \"GeneName\"\n",
    "covid <- merge(covid, bindingsub, by = \"GeneName\")\n",
    "# writab(DT=covid, fname=\"./results/3 final COVID only data table.xls\")"
   ]
  },
  {
   "cell_type": "markdown",
   "metadata": {},
   "source": [
    "#### Generate a line graphs of the raw read values of the SARS-CoV-2 interacting proteins"
   ]
  },
  {
   "cell_type": "code",
   "execution_count": null,
   "metadata": {},
   "outputs": [],
   "source": [
    "#### plot all finalized genes ####\n",
    "dir.create(\"./results/2_COVID_shear_responsive\"); dir.create(\"./results/2_COVID_PSOS_responsive\")\n",
    "lineGraph_loopR(DataTable = covid[shear_responsive == \"pattern_independent\",], directory = \"./results/2_COVID_shear_responsive/\", columns = c(1,93:134), resolution = \"low\")\n",
    "lineGraph_loopR(DataTable = covid[PSOS_responsive == \"PSOS\",], directory = \"./results/2_COVID_PSOS_responsive/\", c(1,93:134), resolution = \"low\")"
   ]
  },
  {
   "cell_type": "markdown",
   "metadata": {},
   "source": [
    "#### Generate a venn diagram of the overlap between the POSOS responsive genes, the shear responsive genes, and the SARS-CoV-2 interacting proteins "
   ]
  },
  {
   "cell_type": "code",
   "execution_count": 12,
   "metadata": {},
   "outputs": [
    {
     "data": {
      "text/html": [
       "1"
      ],
      "text/latex": [
       "1"
      ],
      "text/markdown": [
       "1"
      ],
      "text/plain": [
       "[1] 1"
      ]
     },
     "metadata": {},
     "output_type": "display_data"
    },
    {
     "data": {
      "image/png": "[encoded data removed]"
     },
     "metadata": {},
     "output_type": "display_data"
    }
   ],
   "source": [
    "options(repr.plot.width=4, repr.plot.height=4)\n",
    "psosven <- final_covid[final_covid$PSOS_responsive == \"PSOS\",]$GeneName; psosven <- psosven[!duplicated(psosven)]\n",
    "shearven <- final_covid[final_covid$shear_responsive == \"pattern_independent\",]$GeneName; shearven <- shearven[!duplicated(shearven)]\n",
    "covidven <- final_covid[final_covid$COVID_interaction == \"COVID_interactor\",]$GeneName; covidven <- covidven[!duplicated(covidven)]\n",
    "#### Make the plot\n",
    "catnames <- c(\"PSOS responsive\", \"Shear responsive\", \"SARS CoV 2 interaction\")\n",
    "venn.diagram(\n",
    "  x = list(psosven, shearven, covidven),\n",
    "  category.names = catnames,\n",
    "  filename = './results/5_venn_diagramm.png',\n",
    "  output=TRUE,\n",
    "  imagetype=\"png\" ,\n",
    "  height = 480 , \n",
    "  width = 480 , \n",
    "  resolution = 300,\n",
    "  compression = \"lzw\",\n",
    "  lwd = 1,\n",
    "  col=c(\"#440154ff\", '#21908dff', '#fde725ff'),\n",
    "  fill = c(alpha(\"#440154ff\",0.3), alpha('#21908dff',0.3), alpha('#fde725ff',0.3)),\n",
    "  cex = 0.5,\n",
    "  fontfamily = \"sans\",\n",
    "  cat.cex = 0.3,\n",
    "  cat.default.pos = \"outer\",\n",
    "  cat.pos = c(-27, 27, 135),\n",
    "  cat.dist = c(0.055, 0.055, 0.085),\n",
    "  cat.fontfamily = \"sans\",\n",
    "  cat.col = c(\"#440154ff\", '#21908dff', '#fde725ff'),\n",
    "  rotation = 1\n",
    ")\n",
    "display_png(file='./results/5_venn_diagramm.png')"
   ]
  },
  {
   "cell_type": "markdown",
   "metadata": {},
   "source": [
    "#### Graph the primary interacting proteins that are PS/OS responsive"
   ]
  },
  {
   "cell_type": "code",
   "execution_count": 13,
   "metadata": {
    "scrolled": false
   },
   "outputs": [
    {
     "data": {
      "image/png": "[encoded data removed]",
      "text/plain": [
       "plot without title"
      ]
     },
     "metadata": {
      "image/png": {
       "height": 240,
       "width": 480
      }
     },
     "output_type": "display_data"
    },
    {
     "data": {
      "image/png": "[encoded data removed]",
      "text/plain": [
       "plot without title"
      ]
     },
     "metadata": {
      "image/png": {
       "height": 240,
       "width": 480
      }
     },
     "output_type": "display_data"
    },
    {
     "data": {
      "image/png": "[encoded data removed]",
      "text/plain": [
       "plot without title"
      ]
     },
     "metadata": {
      "image/png": {
       "height": 240,
       "width": 480
      }
     },
     "output_type": "display_data"
    },
    {
     "data": {
      "image/png": "[encoded data removed]",
      "text/plain": [
       "plot without title"
      ]
     },
     "metadata": {
      "image/png": {
       "height": 240,
       "width": 480
      }
     },
     "output_type": "display_data"
    }
   ],
   "source": [
    "options(repr.plot.width=8, repr.plot.height=4)\n",
    "for(i in 1:nrow(covid[PSOS_responsive == \"PSOS\",])){\n",
    "print(grapher(covid[PSOS_responsive == \"PSOS\",][i,c(1,93:134), with = FALSE]))\n",
    "}"
   ]
  },
  {
   "cell_type": "markdown",
   "metadata": {},
   "source": [
    "#### Heatmap of the fold changes of the flow independent genes that interact with SARS-CoV-2 proteins."
   ]
  },
  {
   "cell_type": "code",
   "execution_count": 14,
   "metadata": {
    "scrolled": false
   },
   "outputs": [
    {
     "data": {
      "image/png": "[encoded data removed]",
      "text/plain": [
       "plot without title"
      ]
     },
     "metadata": {
      "image/png": {
       "height": 600,
       "width": 300
      }
     },
     "output_type": "display_data"
    }
   ],
   "source": [
    "options(repr.plot.width=5, repr.plot.height=10)\n",
    "Data <- covid[shear_responsive == \"pattern_independent\",][,c(1,93:134), with = FALSE]\n",
    "DATA_matrix <- heatmapNormalize(Data)\n",
    "p <- pheatmap(percentize(DATA_matrix), cluster_row = TRUE, cluster_cols = FALSE, show_rownames = TRUE);p\n",
    "#tiff(file = \"./results/4 shear heatmap normalized.tiff\", width = 2000, height = 5300, units = \"px\", res = 400);p;dev.off()"
   ]
  },
  {
   "cell_type": "markdown",
   "metadata": {},
   "source": [
    "### Expand the network to SARS-CoV-2 indirect binding partners. String and Cytoscape were used to infer proteins that are likely to be effected by the primary protein-protein interaction."
   ]
  },
  {
   "cell_type": "code",
   "execution_count": 15,
   "metadata": {},
   "outputs": [
    {
     "data": {
      "text/html": [],
      "text/latex": [],
      "text/markdown": [],
      "text/plain": [
       "character(0)"
      ]
     },
     "metadata": {},
     "output_type": "display_data"
    }
   ],
   "source": [
    "cyto <- fread(cytofile);cyto <- cyto[!grep(\"SARS\", Node),]\n",
    "#### pull out COVID-19 interacting proteins ####\n",
    "covidcyto <- final_covid[(final_covid$GeneName %in% cyto$interact),]\n",
    "#### separate into PSOS or shear responsive ####\n",
    "covidcyto_shear <- covidcyto[covidcyto$shear_responsive == \"pattern_independent\",]\n",
    "covidcyto_psos <- covidcyto[covidcyto$PSOS_responsive == \"PSOS\",]\n",
    "#### remove duplications ####\n",
    "covidcyto_sheardup <-covidcyto_shear[covidcyto_shear[, .I[which.min(`FDRscore_shear`)], by=GeneName]$V1]\n",
    "covidcyto_psosdup <-covidcyto_psos[covidcyto_psos[, .I[which.min(`FDRscore_PSOS`)], by=GeneName]$V1]\n",
    "#### polish genes that were called incorrectly\n",
    "shear_rm <- c(\"TRAPPC1\", \"C19orf48\", \"SYVN1\", \"ARHGDIA\") #### Genes to remove from shear dataset\n",
    "psos_rm <- c(\"NQO1\", \"DAD1\") #### Genes to remove from psos dataset# FBLN5 # \n",
    "#### remove genes ####\n",
    "covidcyto_sheardup <- covidcyto_sheardup[!(covidcyto_sheardup$GeneName %in% shear_rm),]\n",
    "covidcyto_psosdup <- covidcyto_psosdup[!(covidcyto_psosdup$GeneName %in% psos_rm),]\n",
    "#### overlapping genes ####\n",
    "intersect(covidcyto_sheardup$GeneName, covidcyto_psosdup$GeneName)\n",
    "covid_cyto <- rbind(covidcyto_sheardup, covidcyto_psosdup)\n",
    "covid_cyto[GeneName == \"DAD1\"]$PSOS_responsive <- \"NA\"\n",
    "#writab(DT=covid_cyto, fname=\"./results/9 COVID cytoscape interest genes.xls\")"
   ]
  },
  {
   "cell_type": "markdown",
   "metadata": {},
   "source": [
    "#### Create a UpSet plot of the secondary interacting PSOS and shear responsive genes"
   ]
  },
  {
   "cell_type": "code",
   "execution_count": 16,
   "metadata": {},
   "outputs": [],
   "source": [
    "psosven <- covid_cyto[covid_cyto$PSOS_responsive == \"PSOS\",]$GeneName; psosven <- psosven[!duplicated(psosven)]\n",
    "shearven <- covid_cyto[covid_cyto$shear_responsive == \"pattern_independent\",]$GeneName; shearven <- shearven[!duplicated(shearven)]\n",
    "covidven <- cyto[!duplicated(cyto$interact),]$interact\n",
    "#### Make list of all gene names and create a column\n",
    "comp <- c(psosven, shearven, covidven); comp <- data.table(GeneName = comp[!duplicated(comp)])\n",
    "ps <- data.table(GeneName = psosven, PSOS_selective = psosven)\n",
    "shear <- data.table(GeneName = shearven, PSOS_nonselective = shearven)\n",
    "#### merge all datasets together by genename\n",
    "mer <- merge(comp, ps, by = \"GeneName\", all = TRUE)\n",
    "mer <- merge(mer, shear, by = \"GeneName\", all = TRUE)\n",
    "#### transform into 1,0 binary columns\n",
    "mer[,PSOS_selective:=ifelse(!is.na(PSOS_selective),1,0)][,PSOS_nonselective:=ifelse(!is.na(PSOS_nonselective),1,0)][,GeneName:=ifelse(!is.na(GeneName),1,0)]"
   ]
  },
  {
   "cell_type": "code",
   "execution_count": 17,
   "metadata": {},
   "outputs": [
    {
     "data": {
      "image/png": "[encoded data removed]",
      "text/plain": [
       "plot without title"
      ]
     },
     "metadata": {
      "image/png": {
       "height": 240,
       "width": 480
      }
     },
     "output_type": "display_data"
    }
   ],
   "source": [
    "options(repr.plot.width=8, repr.plot.height=4)\n",
    "p <- upset(mer, sets = c(\"GeneName\", \"PSOS_selective\", \"PSOS_nonselective\"), sets.bar.color = \"#56B4E9\", order.by = \"freq\", empty.intersections = \"OFF\")\n",
    "p;#tiff(file = \"./results/83 primary secondary venn.tiff\", width = 2000, height = 900, units = \"px\", res = 400);p;dev.off()"
   ]
  },
  {
   "cell_type": "markdown",
   "metadata": {},
   "source": [
    "#### Plot a venn diagram of the overlap between primary and secondary interactions"
   ]
  },
  {
   "cell_type": "code",
   "execution_count": 18,
   "metadata": {},
   "outputs": [
    {
     "data": {
      "image/png": "[encoded data removed]",
      "text/plain": [
       "plot without title"
      ]
     },
     "metadata": {
      "image/png": {
       "height": 240,
       "width": 480
      }
     },
     "output_type": "display_data"
    }
   ],
   "source": [
    "psosven <- covid_cyto$GeneName; psosven <- psosven[!duplicated(psosven)]\n",
    "shearven <- covid$GeneName; shearven <- shearven[!duplicated(shearven)]\n",
    "x <- list(A=psosven, B=shearven)\n",
    "p <-ggVennDiagram(x)\n",
    "p;#tiff(file = \"./results/84 primary secondary venn.tiff\", width = 2000, height = 2000, units = \"px\", res = 400);p;dev.off()"
   ]
  },
  {
   "cell_type": "markdown",
   "metadata": {},
   "source": [
    "#### Generate a line graphs of the raw read values of the SARS-CoV-2 indirect interacting shear responsive and PSOS responsive genes"
   ]
  },
  {
   "cell_type": "code",
   "execution_count": null,
   "metadata": {},
   "outputs": [],
   "source": [
    "#### plot all finalized genes ####\n",
    "dir.create(\"./results/3_COVID_cytoscape_shear_responsive\");dir.create(\"./results/3_COVID_cytoscape_PSOS\")\n",
    "lineGraph_loopR(DataTable = covid_cyto[shear_responsive == \"pattern_independent\",], directory = \"./results/3_COVID_cytoscape_shear_responsive/\", columns = c(1,93:134), resolution = \"low\")\n",
    "lineGraph_loopR(DataTable = covid_cyto[PSOS_responsive == \"PSOS\",], directory = \"./results/3_COVID_cytoscape_PSOS/\", c(1,93:134), resolution = \"low\")"
   ]
  },
  {
   "cell_type": "markdown",
   "metadata": {},
   "source": [
    "#### Graph the secondary interacting proteins that are PS/OS responsive"
   ]
  },
  {
   "cell_type": "code",
   "execution_count": 19,
   "metadata": {},
   "outputs": [
    {
     "data": {
      "image/png": "[encoded data removed]",
      "text/plain": [
       "plot without title"
      ]
     },
     "metadata": {
      "image/png": {
       "height": 240,
       "width": 480
      }
     },
     "output_type": "display_data"
    },
    {
     "data": {
      "image/png": "[encoded data removed]",
      "text/plain": [
       "plot without title"
      ]
     },
     "metadata": {
      "image/png": {
       "height": 240,
       "width": 480
      }
     },
     "output_type": "display_data"
    },
    {
     "data": {
      "image/png": "[encoded data removed]",
      "text/plain": [
       "plot without title"
      ]
     },
     "metadata": {
      "image/png": {
       "height": 240,
       "width": 480
      }
     },
     "output_type": "display_data"
    },
    {
     "data": {
      "image/png": "[encoded data removed]",
      "text/plain": [
       "plot without title"
      ]
     },
     "metadata": {
      "image/png": {
       "height": 240,
       "width": 480
      }
     },
     "output_type": "display_data"
    },
    {
     "data": {
      "image/png": "[encoded data removed]",
      "text/plain": [
       "plot without title"
      ]
     },
     "metadata": {
      "image/png": {
       "height": 240,
       "width": 480
      }
     },
     "output_type": "display_data"
    },
    {
     "data": {
      "image/png": "[encoded data removed]",
      "text/plain": [
       "plot without title"
      ]
     },
     "metadata": {
      "image/png": {
       "height": 240,
       "width": 480
      }
     },
     "output_type": "display_data"
    }
   ],
   "source": [
    "options(repr.plot.width=8, repr.plot.height=4)\n",
    "for(i in 1:nrow(covid_cyto[PSOS_responsive == \"PSOS\",])){\n",
    "print(grapher(covid_cyto[PSOS_responsive == \"PSOS\",][i,c(1,93:134), with = FALSE]))\n",
    "}"
   ]
  },
  {
   "cell_type": "markdown",
   "metadata": {},
   "source": [
    "#### Heatmap of the fold changes of the flow independent genes that make a secondary interaction with SARS-CoV-2 proteins."
   ]
  },
  {
   "cell_type": "code",
   "execution_count": 20,
   "metadata": {
    "scrolled": false
   },
   "outputs": [
    {
     "data": {
      "image/png": "[encoded data removed]",
      "text/plain": [
       "plot without title"
      ]
     },
     "metadata": {
      "image/png": {
       "height": 780,
       "width": 420
      }
     },
     "output_type": "display_data"
    }
   ],
   "source": [
    "options(repr.plot.width=7, repr.plot.height=13)\n",
    "Data <- covid_cyto[shear_responsive == \"pattern_independent\",][,c(1,93:134), with = FALSE]\n",
    "DATA_matrix <- heatmapNormalize(Data)\n",
    "p <- pheatmap(percentize(DATA_matrix), cluster_row = TRUE, cluster_cols = FALSE, show_rownames = TRUE);p\n",
    "#tiff(file = \"./results/10 COVID cytoscape heatmap normalized.tiff\", width = 2000, height = 5300, units = \"px\", res = 400);p;dev.off()"
   ]
  },
  {
   "cell_type": "markdown",
   "metadata": {},
   "source": [
    "#### PSOS gene ontology"
   ]
  },
  {
   "cell_type": "code",
   "execution_count": 21,
   "metadata": {},
   "outputs": [
    {
     "data": {
      "text/html": [
       "<table>\n",
       "<caption>A data.frame: 3 × 5</caption>\n",
       "<thead>\n",
       "\t<tr><th></th><th scope=col>wikigene_name</th><th scope=col>wikigene_description</th><th scope=col>go_id</th><th scope=col>name_1006</th><th scope=col>definition_1006</th></tr>\n",
       "\t<tr><th></th><th scope=col>&lt;chr&gt;</th><th scope=col>&lt;chr&gt;</th><th scope=col>&lt;chr&gt;</th><th scope=col>&lt;chr&gt;</th><th scope=col>&lt;chr&gt;</th></tr>\n",
       "</thead>\n",
       "<tbody>\n",
       "\t<tr><th scope=row>1</th><td>ADAMTS1</td><td>ADAM metallopeptidase with thrombospondin type 1 motif 1</td><td>GO:0008270</td><td>zinc ion binding             </td><td>Interacting selectively and non-covalently with zinc (Zn) ions.                                                                                                                                                                                                    </td></tr>\n",
       "\t<tr><th scope=row>2</th><td>ADAMTS1</td><td>ADAM metallopeptidase with thrombospondin type 1 motif 1</td><td>GO:0006508</td><td>proteolysis                  </td><td>The hydrolysis of proteins into smaller polypeptides and/or amino acids by cleavage of their peptide bonds.                                                                                                                                                        </td></tr>\n",
       "\t<tr><th scope=row>3</th><td>ADAMTS1</td><td>ADAM metallopeptidase with thrombospondin type 1 motif 1</td><td>GO:0004222</td><td>metalloendopeptidase activity</td><td>Catalysis of the hydrolysis of internal, alpha-peptide bonds in a polypeptide chain by a mechanism in which water acts as a nucleophile, one or two metal ions hold the water molecule in place, and charged amino acid side chains are ligands for the metal ions.</td></tr>\n",
       "</tbody>\n",
       "</table>\n"
      ],
      "text/latex": [
       "A data.frame: 3 × 5\n",
       "\\begin{tabular}{r|lllll}\n",
       "  & wikigene\\_name & wikigene\\_description & go\\_id & name\\_1006 & definition\\_1006\\\\\n",
       "  & <chr> & <chr> & <chr> & <chr> & <chr>\\\\\n",
       "\\hline\n",
       "\t1 & ADAMTS1 & ADAM metallopeptidase with thrombospondin type 1 motif 1 & GO:0008270 & zinc ion binding              & Interacting selectively and non-covalently with zinc (Zn) ions.                                                                                                                                                                                                    \\\\\n",
       "\t2 & ADAMTS1 & ADAM metallopeptidase with thrombospondin type 1 motif 1 & GO:0006508 & proteolysis                   & The hydrolysis of proteins into smaller polypeptides and/or amino acids by cleavage of their peptide bonds.                                                                                                                                                        \\\\\n",
       "\t3 & ADAMTS1 & ADAM metallopeptidase with thrombospondin type 1 motif 1 & GO:0004222 & metalloendopeptidase activity & Catalysis of the hydrolysis of internal, alpha-peptide bonds in a polypeptide chain by a mechanism in which water acts as a nucleophile, one or two metal ions hold the water molecule in place, and charged amino acid side chains are ligands for the metal ions.\\\\\n",
       "\\end{tabular}\n"
      ],
      "text/markdown": [
       "\n",
       "A data.frame: 3 × 5\n",
       "\n",
       "| <!--/--> | wikigene_name &lt;chr&gt; | wikigene_description &lt;chr&gt; | go_id &lt;chr&gt; | name_1006 &lt;chr&gt; | definition_1006 &lt;chr&gt; |\n",
       "|---|---|---|---|---|---|\n",
       "| 1 | ADAMTS1 | ADAM metallopeptidase with thrombospondin type 1 motif 1 | GO:0008270 | zinc ion binding              | Interacting selectively and non-covalently with zinc (Zn) ions.                                                                                                                                                                                                     |\n",
       "| 2 | ADAMTS1 | ADAM metallopeptidase with thrombospondin type 1 motif 1 | GO:0006508 | proteolysis                   | The hydrolysis of proteins into smaller polypeptides and/or amino acids by cleavage of their peptide bonds.                                                                                                                                                         |\n",
       "| 3 | ADAMTS1 | ADAM metallopeptidase with thrombospondin type 1 motif 1 | GO:0004222 | metalloendopeptidase activity | Catalysis of the hydrolysis of internal, alpha-peptide bonds in a polypeptide chain by a mechanism in which water acts as a nucleophile, one or two metal ions hold the water molecule in place, and charged amino acid side chains are ligands for the metal ions. |\n",
       "\n"
      ],
      "text/plain": [
       "  wikigene_name wikigene_description                                    \n",
       "1 ADAMTS1       ADAM metallopeptidase with thrombospondin type 1 motif 1\n",
       "2 ADAMTS1       ADAM metallopeptidase with thrombospondin type 1 motif 1\n",
       "3 ADAMTS1       ADAM metallopeptidase with thrombospondin type 1 motif 1\n",
       "  go_id      name_1006                    \n",
       "1 GO:0008270 zinc ion binding             \n",
       "2 GO:0006508 proteolysis                  \n",
       "3 GO:0004222 metalloendopeptidase activity\n",
       "  definition_1006                                                                                                                                                                                                                                                    \n",
       "1 Interacting selectively and non-covalently with zinc (Zn) ions.                                                                                                                                                                                                    \n",
       "2 The hydrolysis of proteins into smaller polypeptides and/or amino acids by cleavage of their peptide bonds.                                                                                                                                                        \n",
       "3 Catalysis of the hydrolysis of internal, alpha-peptide bonds in a polypeptide chain by a mechanism in which water acts as a nucleophile, one or two metal ions hold the water molecule in place, and charged amino acid side chains are ligands for the metal ions."
      ]
     },
     "metadata": {},
     "output_type": "display_data"
    }
   ],
   "source": [
    "go <- BioMartR(value = c(covid[covid$PSOS_responsive == \"PSOS\",]$GeneName, covid_cyto[covid_cyto$PSOS_responsive == \"PSOS\",]$GeneNam), \n",
    "               mart = \"ENSEMBL_MART_ENSEMBL\", \n",
    "               species = \"hsapiens_gene_ensembl\", \n",
    "               attribute = c(\"wikigene_name\", \"wikigene_description\", \"go_id\", \"name_1006\", \"definition_1006\"),\n",
    "               filter_by = 'wikigene_name')\n",
    "head(go, 3)\n",
    "#writab(DT=go, fname=\"./gene_ontology/4 all psos GO BioMart annotations.xls\")"
   ]
  },
  {
   "cell_type": "code",
   "execution_count": 22,
   "metadata": {
    "scrolled": true
   },
   "outputs": [
    {
     "data": {
      "text/html": [
       "<table>\n",
       "<caption>A data.table: 10 × 4</caption>\n",
       "<thead>\n",
       "\t<tr><th scope=col>go_id</th><th scope=col>frequency</th><th scope=col>percent</th><th scope=col>name_1006</th></tr>\n",
       "\t<tr><th scope=col>&lt;chr&gt;</th><th scope=col>&lt;int&gt;</th><th scope=col>&lt;dbl&gt;</th><th scope=col>&lt;chr&gt;</th></tr>\n",
       "</thead>\n",
       "<tbody>\n",
       "\t<tr><td>          </td><td>8</td><td>2.020202</td><td>                                        </td></tr>\n",
       "\t<tr><td>GO:0005515</td><td>7</td><td>1.767677</td><td>protein binding                         </td></tr>\n",
       "\t<tr><td>GO:0070062</td><td>6</td><td>1.515152</td><td>extracellular exosome                   </td></tr>\n",
       "\t<tr><td>GO:0005576</td><td>5</td><td>1.262626</td><td>extracellular region                    </td></tr>\n",
       "\t<tr><td>GO:0005737</td><td>5</td><td>1.262626</td><td>cytoplasm                               </td></tr>\n",
       "\t<tr><td>GO:0016020</td><td>5</td><td>1.262626</td><td>membrane                                </td></tr>\n",
       "\t<tr><td>GO:0031410</td><td>5</td><td>1.262626</td><td>cytoplasmic vesicle                     </td></tr>\n",
       "\t<tr><td>GO:0005615</td><td>4</td><td>1.010101</td><td>extracellular space                     </td></tr>\n",
       "\t<tr><td>GO:0005886</td><td>4</td><td>1.010101</td><td>plasma membrane                         </td></tr>\n",
       "\t<tr><td>GO:0062023</td><td>4</td><td>1.010101</td><td>collagen-containing extracellular matrix</td></tr>\n",
       "</tbody>\n",
       "</table>\n"
      ],
      "text/latex": [
       "A data.table: 10 × 4\n",
       "\\begin{tabular}{llll}\n",
       " go\\_id & frequency & percent & name\\_1006\\\\\n",
       " <chr> & <int> & <dbl> & <chr>\\\\\n",
       "\\hline\n",
       "\t            & 8 & 2.020202 &                                         \\\\\n",
       "\t GO:0005515 & 7 & 1.767677 & protein binding                         \\\\\n",
       "\t GO:0070062 & 6 & 1.515152 & extracellular exosome                   \\\\\n",
       "\t GO:0005576 & 5 & 1.262626 & extracellular region                    \\\\\n",
       "\t GO:0005737 & 5 & 1.262626 & cytoplasm                               \\\\\n",
       "\t GO:0016020 & 5 & 1.262626 & membrane                                \\\\\n",
       "\t GO:0031410 & 5 & 1.262626 & cytoplasmic vesicle                     \\\\\n",
       "\t GO:0005615 & 4 & 1.010101 & extracellular space                     \\\\\n",
       "\t GO:0005886 & 4 & 1.010101 & plasma membrane                         \\\\\n",
       "\t GO:0062023 & 4 & 1.010101 & collagen-containing extracellular matrix\\\\\n",
       "\\end{tabular}\n"
      ],
      "text/markdown": [
       "\n",
       "A data.table: 10 × 4\n",
       "\n",
       "| go_id &lt;chr&gt; | frequency &lt;int&gt; | percent &lt;dbl&gt; | name_1006 &lt;chr&gt; |\n",
       "|---|---|---|---|\n",
       "| <!----> | 8 | 2.020202 | <!----> |\n",
       "| GO:0005515 | 7 | 1.767677 | protein binding                          |\n",
       "| GO:0070062 | 6 | 1.515152 | extracellular exosome                    |\n",
       "| GO:0005576 | 5 | 1.262626 | extracellular region                     |\n",
       "| GO:0005737 | 5 | 1.262626 | cytoplasm                                |\n",
       "| GO:0016020 | 5 | 1.262626 | membrane                                 |\n",
       "| GO:0031410 | 5 | 1.262626 | cytoplasmic vesicle                      |\n",
       "| GO:0005615 | 4 | 1.010101 | extracellular space                      |\n",
       "| GO:0005886 | 4 | 1.010101 | plasma membrane                          |\n",
       "| GO:0062023 | 4 | 1.010101 | collagen-containing extracellular matrix |\n",
       "\n"
      ],
      "text/plain": [
       "   go_id      frequency percent  name_1006                               \n",
       "1             8         2.020202                                         \n",
       "2  GO:0005515 7         1.767677 protein binding                         \n",
       "3  GO:0070062 6         1.515152 extracellular exosome                   \n",
       "4  GO:0005576 5         1.262626 extracellular region                    \n",
       "5  GO:0005737 5         1.262626 cytoplasm                               \n",
       "6  GO:0016020 5         1.262626 membrane                                \n",
       "7  GO:0031410 5         1.262626 cytoplasmic vesicle                     \n",
       "8  GO:0005615 4         1.010101 extracellular space                     \n",
       "9  GO:0005886 4         1.010101 plasma membrane                         \n",
       "10 GO:0062023 4         1.010101 collagen-containing extracellular matrix"
      ]
     },
     "metadata": {},
     "output_type": "display_data"
    }
   ],
   "source": [
    "go <- fread(\"./gene_ontology/4 all psos GO BioMart annotations.xls\")\n",
    "gofreq <- freqsdt(\"go\", \"go_id\", percent=TRUE)\n",
    "# annotate with GO name\n",
    "dict <- go[!duplicated(go$go_id),][,3:4, with = FALSE]\n",
    "goannot <- merge(gofreq, dict, by = \"go_id\"); goannot <- goannot[order(goannot$frequency, decreasing = TRUE),]\n",
    "head(goannot, 10)\n",
    "#writab(DT=goannot, fname=\"./results/85 all psos GO enrichment.xls\")"
   ]
  },
  {
   "cell_type": "markdown",
   "metadata": {},
   "source": [
    "#### shear gene ontology"
   ]
  },
  {
   "cell_type": "code",
   "execution_count": 23,
   "metadata": {},
   "outputs": [
    {
     "data": {
      "text/html": [
       "<table>\n",
       "<caption>A data.frame: 3 × 5</caption>\n",
       "<thead>\n",
       "\t<tr><th></th><th scope=col>wikigene_name</th><th scope=col>wikigene_description</th><th scope=col>go_id</th><th scope=col>name_1006</th><th scope=col>definition_1006</th></tr>\n",
       "\t<tr><th></th><th scope=col>&lt;chr&gt;</th><th scope=col>&lt;chr&gt;</th><th scope=col>&lt;chr&gt;</th><th scope=col>&lt;chr&gt;</th><th scope=col>&lt;chr&gt;</th></tr>\n",
       "</thead>\n",
       "<tbody>\n",
       "\t<tr><th scope=row>1</th><td>ABCC1</td><td>ATP binding cassette subfamily C member 1</td><td>GO:0016021</td><td>integral component of membrane    </td><td>The component of a membrane consisting of the gene products and protein complexes having at least some part of their peptide sequence embedded in the hydrophobic region of the membrane.</td></tr>\n",
       "\t<tr><th scope=row>2</th><td>ABCC1</td><td>ATP binding cassette subfamily C member 1</td><td>GO:0005524</td><td>ATP binding                       </td><td>Interacting selectively and non-covalently with ATP, adenosine 5'-triphosphate, a universally important coenzyme and enzyme regulator.                                                   </td></tr>\n",
       "\t<tr><th scope=row>3</th><td>ABCC1</td><td>ATP binding cassette subfamily C member 1</td><td>GO:0022857</td><td>transmembrane transporter activity</td><td>Enables the transfer of a substance, usually a specific substance or a group of related substances, from one side of a membrane to the other.                                            </td></tr>\n",
       "</tbody>\n",
       "</table>\n"
      ],
      "text/latex": [
       "A data.frame: 3 × 5\n",
       "\\begin{tabular}{r|lllll}\n",
       "  & wikigene\\_name & wikigene\\_description & go\\_id & name\\_1006 & definition\\_1006\\\\\n",
       "  & <chr> & <chr> & <chr> & <chr> & <chr>\\\\\n",
       "\\hline\n",
       "\t1 & ABCC1 & ATP binding cassette subfamily C member 1 & GO:0016021 & integral component of membrane     & The component of a membrane consisting of the gene products and protein complexes having at least some part of their peptide sequence embedded in the hydrophobic region of the membrane.\\\\\n",
       "\t2 & ABCC1 & ATP binding cassette subfamily C member 1 & GO:0005524 & ATP binding                        & Interacting selectively and non-covalently with ATP, adenosine 5'-triphosphate, a universally important coenzyme and enzyme regulator.                                                   \\\\\n",
       "\t3 & ABCC1 & ATP binding cassette subfamily C member 1 & GO:0022857 & transmembrane transporter activity & Enables the transfer of a substance, usually a specific substance or a group of related substances, from one side of a membrane to the other.                                            \\\\\n",
       "\\end{tabular}\n"
      ],
      "text/markdown": [
       "\n",
       "A data.frame: 3 × 5\n",
       "\n",
       "| <!--/--> | wikigene_name &lt;chr&gt; | wikigene_description &lt;chr&gt; | go_id &lt;chr&gt; | name_1006 &lt;chr&gt; | definition_1006 &lt;chr&gt; |\n",
       "|---|---|---|---|---|---|\n",
       "| 1 | ABCC1 | ATP binding cassette subfamily C member 1 | GO:0016021 | integral component of membrane     | The component of a membrane consisting of the gene products and protein complexes having at least some part of their peptide sequence embedded in the hydrophobic region of the membrane. |\n",
       "| 2 | ABCC1 | ATP binding cassette subfamily C member 1 | GO:0005524 | ATP binding                        | Interacting selectively and non-covalently with ATP, adenosine 5'-triphosphate, a universally important coenzyme and enzyme regulator.                                                    |\n",
       "| 3 | ABCC1 | ATP binding cassette subfamily C member 1 | GO:0022857 | transmembrane transporter activity | Enables the transfer of a substance, usually a specific substance or a group of related substances, from one side of a membrane to the other.                                             |\n",
       "\n"
      ],
      "text/plain": [
       "  wikigene_name wikigene_description                      go_id     \n",
       "1 ABCC1         ATP binding cassette subfamily C member 1 GO:0016021\n",
       "2 ABCC1         ATP binding cassette subfamily C member 1 GO:0005524\n",
       "3 ABCC1         ATP binding cassette subfamily C member 1 GO:0022857\n",
       "  name_1006                         \n",
       "1 integral component of membrane    \n",
       "2 ATP binding                       \n",
       "3 transmembrane transporter activity\n",
       "  definition_1006                                                                                                                                                                          \n",
       "1 The component of a membrane consisting of the gene products and protein complexes having at least some part of their peptide sequence embedded in the hydrophobic region of the membrane.\n",
       "2 Interacting selectively and non-covalently with ATP, adenosine 5'-triphosphate, a universally important coenzyme and enzyme regulator.                                                   \n",
       "3 Enables the transfer of a substance, usually a specific substance or a group of related substances, from one side of a membrane to the other.                                            "
      ]
     },
     "metadata": {},
     "output_type": "display_data"
    }
   ],
   "source": [
    "go <- BioMartR(value = c(covid[covid$shear_responsive == \"pattern_independent\",]$GeneName, covid_cyto[covid_cyto$shear_responsive == \"pattern_independent\",]$GeneName), \n",
    "               mart = \"ENSEMBL_MART_ENSEMBL\", \n",
    "               species = \"hsapiens_gene_ensembl\", \n",
    "               attribute = c(\"wikigene_name\", \"wikigene_description\", \"go_id\", \"name_1006\", \"definition_1006\"),\n",
    "               filter_by = 'wikigene_name')\n",
    "head(go, 3)\n",
    "#writab(DT=go, fname=\"./gene_ontology/5 all shear GO BioMart annotations.xls\")"
   ]
  },
  {
   "cell_type": "code",
   "execution_count": 24,
   "metadata": {
    "scrolled": true
   },
   "outputs": [
    {
     "data": {
      "text/html": [
       "<table>\n",
       "<caption>A data.table: 10 × 4</caption>\n",
       "<thead>\n",
       "\t<tr><th scope=col>go_id</th><th scope=col>frequency</th><th scope=col>percent</th><th scope=col>name_1006</th></tr>\n",
       "\t<tr><th scope=col>&lt;chr&gt;</th><th scope=col>&lt;int&gt;</th><th scope=col>&lt;dbl&gt;</th><th scope=col>&lt;chr&gt;</th></tr>\n",
       "</thead>\n",
       "<tbody>\n",
       "\t<tr><td>          </td><td>109</td><td>2.5829384</td><td>                              </td></tr>\n",
       "\t<tr><td>GO:0005515</td><td>102</td><td>2.4170616</td><td>protein binding               </td></tr>\n",
       "\t<tr><td>GO:0016020</td><td> 71</td><td>1.6824645</td><td>membrane                      </td></tr>\n",
       "\t<tr><td>GO:0005829</td><td> 56</td><td>1.3270142</td><td>cytosol                       </td></tr>\n",
       "\t<tr><td>GO:0005737</td><td> 52</td><td>1.2322275</td><td>cytoplasm                     </td></tr>\n",
       "\t<tr><td>GO:0005634</td><td> 45</td><td>1.0663507</td><td>nucleus                       </td></tr>\n",
       "\t<tr><td>GO:0070062</td><td> 42</td><td>0.9952607</td><td>extracellular exosome         </td></tr>\n",
       "\t<tr><td>GO:0005654</td><td> 34</td><td>0.8056872</td><td>nucleoplasm                   </td></tr>\n",
       "\t<tr><td>GO:0005783</td><td> 33</td><td>0.7819905</td><td>endoplasmic reticulum         </td></tr>\n",
       "\t<tr><td>GO:0016021</td><td> 31</td><td>0.7345972</td><td>integral component of membrane</td></tr>\n",
       "</tbody>\n",
       "</table>\n"
      ],
      "text/latex": [
       "A data.table: 10 × 4\n",
       "\\begin{tabular}{llll}\n",
       " go\\_id & frequency & percent & name\\_1006\\\\\n",
       " <chr> & <int> & <dbl> & <chr>\\\\\n",
       "\\hline\n",
       "\t            & 109 & 2.5829384 &                               \\\\\n",
       "\t GO:0005515 & 102 & 2.4170616 & protein binding               \\\\\n",
       "\t GO:0016020 &  71 & 1.6824645 & membrane                      \\\\\n",
       "\t GO:0005829 &  56 & 1.3270142 & cytosol                       \\\\\n",
       "\t GO:0005737 &  52 & 1.2322275 & cytoplasm                     \\\\\n",
       "\t GO:0005634 &  45 & 1.0663507 & nucleus                       \\\\\n",
       "\t GO:0070062 &  42 & 0.9952607 & extracellular exosome         \\\\\n",
       "\t GO:0005654 &  34 & 0.8056872 & nucleoplasm                   \\\\\n",
       "\t GO:0005783 &  33 & 0.7819905 & endoplasmic reticulum         \\\\\n",
       "\t GO:0016021 &  31 & 0.7345972 & integral component of membrane\\\\\n",
       "\\end{tabular}\n"
      ],
      "text/markdown": [
       "\n",
       "A data.table: 10 × 4\n",
       "\n",
       "| go_id &lt;chr&gt; | frequency &lt;int&gt; | percent &lt;dbl&gt; | name_1006 &lt;chr&gt; |\n",
       "|---|---|---|---|\n",
       "| <!----> | 109 | 2.5829384 | <!----> |\n",
       "| GO:0005515 | 102 | 2.4170616 | protein binding                |\n",
       "| GO:0016020 |  71 | 1.6824645 | membrane                       |\n",
       "| GO:0005829 |  56 | 1.3270142 | cytosol                        |\n",
       "| GO:0005737 |  52 | 1.2322275 | cytoplasm                      |\n",
       "| GO:0005634 |  45 | 1.0663507 | nucleus                        |\n",
       "| GO:0070062 |  42 | 0.9952607 | extracellular exosome          |\n",
       "| GO:0005654 |  34 | 0.8056872 | nucleoplasm                    |\n",
       "| GO:0005783 |  33 | 0.7819905 | endoplasmic reticulum          |\n",
       "| GO:0016021 |  31 | 0.7345972 | integral component of membrane |\n",
       "\n"
      ],
      "text/plain": [
       "   go_id      frequency percent   name_1006                     \n",
       "1             109       2.5829384                               \n",
       "2  GO:0005515 102       2.4170616 protein binding               \n",
       "3  GO:0016020  71       1.6824645 membrane                      \n",
       "4  GO:0005829  56       1.3270142 cytosol                       \n",
       "5  GO:0005737  52       1.2322275 cytoplasm                     \n",
       "6  GO:0005634  45       1.0663507 nucleus                       \n",
       "7  GO:0070062  42       0.9952607 extracellular exosome         \n",
       "8  GO:0005654  34       0.8056872 nucleoplasm                   \n",
       "9  GO:0005783  33       0.7819905 endoplasmic reticulum         \n",
       "10 GO:0016021  31       0.7345972 integral component of membrane"
      ]
     },
     "metadata": {},
     "output_type": "display_data"
    }
   ],
   "source": [
    "go <- fread(\"./gene_ontology/5 all shear GO BioMart annotations.xls\")\n",
    "gofreq <- freqsdt(\"go\", \"go_id\", percent=TRUE)\n",
    "# annotate with GO name\n",
    "dict <- go[!duplicated(go$go_id),][,3:4, with = FALSE]\n",
    "goannot <- merge(gofreq, dict, by = \"go_id\"); goannot <- goannot[order(goannot$frequency, decreasing = TRUE),]\n",
    "head(goannot, 10)\n",
    "#writab(DT=goannot, fname=\"./results/86 all shear GO enrichment.xls\")"
   ]
  },
  {
   "cell_type": "markdown",
   "metadata": {},
   "source": [
    "#### create radar plots of combined PSOS genes"
   ]
  },
  {
   "cell_type": "code",
   "execution_count": 25,
   "metadata": {},
   "outputs": [
    {
     "data": {
      "text/html": [
       "<table>\n",
       "<caption>A data.table: 10 × 4</caption>\n",
       "<thead>\n",
       "\t<tr><th scope=col>go_id</th><th scope=col>frequency</th><th scope=col>percent</th><th scope=col>name_1006</th></tr>\n",
       "\t<tr><th scope=col>&lt;chr&gt;</th><th scope=col>&lt;int&gt;</th><th scope=col>&lt;dbl&gt;</th><th scope=col>&lt;chr&gt;</th></tr>\n",
       "</thead>\n",
       "<tbody>\n",
       "\t<tr><td>          </td><td>8</td><td>2.020202</td><td>                                        </td></tr>\n",
       "\t<tr><td>GO:0005515</td><td>7</td><td>1.767677</td><td>protein binding                         </td></tr>\n",
       "\t<tr><td>GO:0070062</td><td>6</td><td>1.515152</td><td>extracellular exosome                   </td></tr>\n",
       "\t<tr><td>GO:0005576</td><td>5</td><td>1.262626</td><td>extracellular region                    </td></tr>\n",
       "\t<tr><td>GO:0005737</td><td>5</td><td>1.262626</td><td>cytoplasm                               </td></tr>\n",
       "\t<tr><td>GO:0016020</td><td>5</td><td>1.262626</td><td>membrane                                </td></tr>\n",
       "\t<tr><td>GO:0031410</td><td>5</td><td>1.262626</td><td>cytoplasmic vesicle                     </td></tr>\n",
       "\t<tr><td>GO:0005615</td><td>4</td><td>1.010101</td><td>extracellular space                     </td></tr>\n",
       "\t<tr><td>GO:0005886</td><td>4</td><td>1.010101</td><td>plasma membrane                         </td></tr>\n",
       "\t<tr><td>GO:0062023</td><td>4</td><td>1.010101</td><td>collagen-containing extracellular matrix</td></tr>\n",
       "</tbody>\n",
       "</table>\n"
      ],
      "text/latex": [
       "A data.table: 10 × 4\n",
       "\\begin{tabular}{llll}\n",
       " go\\_id & frequency & percent & name\\_1006\\\\\n",
       " <chr> & <int> & <dbl> & <chr>\\\\\n",
       "\\hline\n",
       "\t            & 8 & 2.020202 &                                         \\\\\n",
       "\t GO:0005515 & 7 & 1.767677 & protein binding                         \\\\\n",
       "\t GO:0070062 & 6 & 1.515152 & extracellular exosome                   \\\\\n",
       "\t GO:0005576 & 5 & 1.262626 & extracellular region                    \\\\\n",
       "\t GO:0005737 & 5 & 1.262626 & cytoplasm                               \\\\\n",
       "\t GO:0016020 & 5 & 1.262626 & membrane                                \\\\\n",
       "\t GO:0031410 & 5 & 1.262626 & cytoplasmic vesicle                     \\\\\n",
       "\t GO:0005615 & 4 & 1.010101 & extracellular space                     \\\\\n",
       "\t GO:0005886 & 4 & 1.010101 & plasma membrane                         \\\\\n",
       "\t GO:0062023 & 4 & 1.010101 & collagen-containing extracellular matrix\\\\\n",
       "\\end{tabular}\n"
      ],
      "text/markdown": [
       "\n",
       "A data.table: 10 × 4\n",
       "\n",
       "| go_id &lt;chr&gt; | frequency &lt;int&gt; | percent &lt;dbl&gt; | name_1006 &lt;chr&gt; |\n",
       "|---|---|---|---|\n",
       "| <!----> | 8 | 2.020202 | <!----> |\n",
       "| GO:0005515 | 7 | 1.767677 | protein binding                          |\n",
       "| GO:0070062 | 6 | 1.515152 | extracellular exosome                    |\n",
       "| GO:0005576 | 5 | 1.262626 | extracellular region                     |\n",
       "| GO:0005737 | 5 | 1.262626 | cytoplasm                                |\n",
       "| GO:0016020 | 5 | 1.262626 | membrane                                 |\n",
       "| GO:0031410 | 5 | 1.262626 | cytoplasmic vesicle                      |\n",
       "| GO:0005615 | 4 | 1.010101 | extracellular space                      |\n",
       "| GO:0005886 | 4 | 1.010101 | plasma membrane                          |\n",
       "| GO:0062023 | 4 | 1.010101 | collagen-containing extracellular matrix |\n",
       "\n"
      ],
      "text/plain": [
       "   go_id      frequency percent  name_1006                               \n",
       "1             8         2.020202                                         \n",
       "2  GO:0005515 7         1.767677 protein binding                         \n",
       "3  GO:0070062 6         1.515152 extracellular exosome                   \n",
       "4  GO:0005576 5         1.262626 extracellular region                    \n",
       "5  GO:0005737 5         1.262626 cytoplasm                               \n",
       "6  GO:0016020 5         1.262626 membrane                                \n",
       "7  GO:0031410 5         1.262626 cytoplasmic vesicle                     \n",
       "8  GO:0005615 4         1.010101 extracellular space                     \n",
       "9  GO:0005886 4         1.010101 plasma membrane                         \n",
       "10 GO:0062023 4         1.010101 collagen-containing extracellular matrix"
      ]
     },
     "metadata": {},
     "output_type": "display_data"
    }
   ],
   "source": [
    "goannot<- fread(\"./results/85 all psos GO enrichment.xls\")\n",
    "head(goannot, 10)"
   ]
  },
  {
   "cell_type": "code",
   "execution_count": 26,
   "metadata": {},
   "outputs": [
    {
     "data": {
      "text/html": [
       "<table>\n",
       "<caption>A data.frame: 2 × 5</caption>\n",
       "<thead>\n",
       "\t<tr><th scope=col>cytoplasmic vesicle</th><th scope=col>Golgi apparatus</th><th scope=col>trans-Golgi network</th><th scope=col>intracellular protein transport</th><th scope=col>viral process</th></tr>\n",
       "\t<tr><th scope=col>&lt;dbl&gt;</th><th scope=col>&lt;dbl&gt;</th><th scope=col>&lt;dbl&gt;</th><th scope=col>&lt;dbl&gt;</th><th scope=col>&lt;dbl&gt;</th></tr>\n",
       "</thead>\n",
       "<tbody>\n",
       "\t<tr><td>0</td><td>0</td><td>0</td><td>0</td><td>0</td></tr>\n",
       "\t<tr><td>5</td><td>1</td><td>1</td><td>1</td><td>2</td></tr>\n",
       "</tbody>\n",
       "</table>\n"
      ],
      "text/latex": [
       "A data.frame: 2 × 5\n",
       "\\begin{tabular}{lllll}\n",
       " cytoplasmic vesicle & Golgi apparatus & trans-Golgi network & intracellular protein transport & viral process\\\\\n",
       " <dbl> & <dbl> & <dbl> & <dbl> & <dbl>\\\\\n",
       "\\hline\n",
       "\t 0 & 0 & 0 & 0 & 0\\\\\n",
       "\t 5 & 1 & 1 & 1 & 2\\\\\n",
       "\\end{tabular}\n"
      ],
      "text/markdown": [
       "\n",
       "A data.frame: 2 × 5\n",
       "\n",
       "| cytoplasmic vesicle &lt;dbl&gt; | Golgi apparatus &lt;dbl&gt; | trans-Golgi network &lt;dbl&gt; | intracellular protein transport &lt;dbl&gt; | viral process &lt;dbl&gt; |\n",
       "|---|---|---|---|---|\n",
       "| 0 | 0 | 0 | 0 | 0 |\n",
       "| 5 | 1 | 1 | 1 | 2 |\n",
       "\n"
      ],
      "text/plain": [
       "  cytoplasmic vesicle Golgi apparatus trans-Golgi network\n",
       "1 0                   0               0                  \n",
       "2 5                   1               1                  \n",
       "  intracellular protein transport viral process\n",
       "1 0                               0            \n",
       "2 1                               2            "
      ]
     },
     "metadata": {},
     "output_type": "display_data"
    },
    {
     "data": {
      "image/png": "[encoded data removed]",
      "text/plain": [
       "Plot with title \"\""
      ]
     },
     "metadata": {
      "image/png": {
       "height": 420,
       "width": 420
      }
     },
     "output_type": "display_data"
    }
   ],
   "source": [
    "viralprocess <- c(\"cytoplasmic vesicle\",\"Golgi apparatus\", \"trans-Golgi network\", \"intracellular protein transport\", \"viral process\",\n",
    "                 \"positive regulation of viral process\")\n",
    "viralradar <- goannot[(goannot$name_1006 %in% viralprocess),]\n",
    "#### clean GO names\n",
    "viralradar[grep(\"viral process\", viralradar$name_1006),]$name_1006 <- \"viral process\"\n",
    "viralradar <- viralradar[!duplicated(viralradar$name_1006),]\n",
    "viralradar[name_1006 == \"viral process\"]$frequency <- 2\n",
    "#viralradar\n",
    "#### Generate plot of cell functions important for viral replication\n",
    "radar <- viralradar\n",
    "data <- as.data.frame(matrix(radar$frequency , ncol=length(radar$go_id)))\n",
    "colnames(data) <- radar$name_1006\n",
    "data <- rbind(rep(radar[which.max(radar$frequency),]$count,nrow(radar)), rep(0,nrow(radar)) , data)\n",
    "data\n",
    "#radar[which.max(radar$frequency),]$frequency\n",
    "#radar\n",
    "\n",
    "options(repr.plot.width=7, repr.plot.height=7)\n",
    "#### Generate plot of cell functions important for viral replication\n",
    "radar <- viralradar\n",
    "data <- as.data.frame(matrix(radar$frequency , ncol=length(radar$go_id)))\n",
    "colnames(data) <- radar$name_1006\n",
    "data <- rbind(rep(radar[which.max(radar$frequency),]$frequency,nrow(radar)) , rep(0,nrow(radar)) , data)\n",
    "\n",
    "#tiff(file = \"./results/87 cell function go term radar.tiff\", width = 750, height = 700, units = \"px\", res = 100)\n",
    "radarchart(data, \n",
    "           axistype=1 ,\n",
    "           #custom polygon\n",
    "           pcol=rgb(0.2,0.5,0.5,0.9) , \n",
    "           pfcol=rgb(0.2,0.5,0.5,0.5) , plwd=4 ,\n",
    "           #custom the grid\n",
    "           cglcol=\"grey\", cglty=1, axislabcol=\"grey\", caxislabels=seq(0,20,5), cglwd=0.8,\n",
    "           #custom labels\n",
    "           vlcex=0.8)\n",
    "#dev.off()\n",
    "#radarchart(data)"
   ]
  },
  {
   "cell_type": "code",
   "execution_count": null,
   "metadata": {},
   "outputs": [],
   "source": [
    "#### Metascape of all shear responsive genes"
   ]
  },
  {
   "cell_type": "code",
   "execution_count": null,
   "metadata": {},
   "outputs": [],
   "source": [
    "#data.table(c(covid[covid$shear_responsive == \"pattern_independent\",]$GeneName, covid_cyto[covid_cyto$shear_responsive == \"pattern_independent\",]$GeneName))\n",
    "writab(DT=data.table(c(covid[covid$shear_responsive == \"pattern_independent\",]$GeneName, covid_cyto[covid_cyto$shear_responsive == \"pattern_independent\",]$GeneName)),\n",
    " fname=\"./results/85 shear metascape enrichment.xls\")"
   ]
  },
  {
   "cell_type": "markdown",
   "metadata": {},
   "source": [
    "# Explore the mechanistic basis for how the SARS-CoV-2 interacting network may be differentially regulated and predict kinases that can regulate their activity."
   ]
  },
  {
   "cell_type": "markdown",
   "metadata": {},
   "source": [
    "### Identify transcription factor binding sites in the promoters of genes in the SARS-CoV-2 network"
   ]
  },
  {
   "cell_type": "markdown",
   "metadata": {},
   "source": [
    "#### Compile SARS-CoV-2 interacting proteins and the cytoscape expanded network into a single data.table"
   ]
  },
  {
   "cell_type": "code",
   "execution_count": 27,
   "metadata": {},
   "outputs": [],
   "source": [
    "DIFsub <- data.table(c(covid$GeneName, covid_cyto$GeneName)) %>% setnames(\"V1\", \"wikigene_name\")\n",
    "DIFsub$wikigene_name <- toupper(DIFsub$wikigene_name)\n",
    "ID2 <- toupper(DIFsub$wikigene_name)"
   ]
  },
  {
   "cell_type": "markdown",
   "metadata": {},
   "source": [
    "#### Load mRNA sequences for the genes in the SARS-CoV-2 network"
   ]
  },
  {
   "cell_type": "code",
   "execution_count": 28,
   "metadata": {},
   "outputs": [
    {
     "data": {
      "text/html": [
       "<table>\n",
       "<caption>A data.table: 2 × 9</caption>\n",
       "<thead>\n",
       "\t<tr><th scope=col>ensembl_transcript_id</th><th scope=col>Species_File</th><th scope=col>Scientific_Name</th><th scope=col>Common_Name</th><th scope=col>external_gene_name</th><th scope=col>transcription_start_site</th><th scope=col>transcript_start</th><th scope=col>transcript_end</th><th scope=col>chromosome_name</th></tr>\n",
       "\t<tr><th scope=col>&lt;chr&gt;</th><th scope=col>&lt;chr&gt;</th><th scope=col>&lt;chr&gt;</th><th scope=col>&lt;chr&gt;</th><th scope=col>&lt;chr&gt;</th><th scope=col>&lt;int&gt;</th><th scope=col>&lt;int&gt;</th><th scope=col>&lt;int&gt;</th><th scope=col>&lt;chr&gt;</th></tr>\n",
       "</thead>\n",
       "<tbody>\n",
       "\t<tr><td>ENSACAT00000000120</td><td>Anolis_carolinensis.AnoCar2.0.cdna.all.fa.gz</td><td>Anolis_carolinensis</td><td>Lizard</td><td>RRM2  </td><td>148019236</td><td>148001345</td><td>148019236</td><td>chr1</td></tr>\n",
       "\t<tr><td>ENSACAT00000001871</td><td>Anolis_carolinensis.AnoCar2.0.cdna.all.fa.gz</td><td>Anolis_carolinensis</td><td>Lizard</td><td>DNAJC3</td><td> 85358907</td><td> 85358907</td><td> 85414968</td><td>chr3</td></tr>\n",
       "</tbody>\n",
       "</table>\n"
      ],
      "text/latex": [
       "A data.table: 2 × 9\n",
       "\\begin{tabular}{lllllllll}\n",
       " ensembl\\_transcript\\_id & Species\\_File & Scientific\\_Name & Common\\_Name & external\\_gene\\_name & transcription\\_start\\_site & transcript\\_start & transcript\\_end & chromosome\\_name\\\\\n",
       " <chr> & <chr> & <chr> & <chr> & <chr> & <int> & <int> & <int> & <chr>\\\\\n",
       "\\hline\n",
       "\t ENSACAT00000000120 & Anolis\\_carolinensis.AnoCar2.0.cdna.all.fa.gz & Anolis\\_carolinensis & Lizard & RRM2   & 148019236 & 148001345 & 148019236 & chr1\\\\\n",
       "\t ENSACAT00000001871 & Anolis\\_carolinensis.AnoCar2.0.cdna.all.fa.gz & Anolis\\_carolinensis & Lizard & DNAJC3 &  85358907 &  85358907 &  85414968 & chr3\\\\\n",
       "\\end{tabular}\n"
      ],
      "text/markdown": [
       "\n",
       "A data.table: 2 × 9\n",
       "\n",
       "| ensembl_transcript_id &lt;chr&gt; | Species_File &lt;chr&gt; | Scientific_Name &lt;chr&gt; | Common_Name &lt;chr&gt; | external_gene_name &lt;chr&gt; | transcription_start_site &lt;int&gt; | transcript_start &lt;int&gt; | transcript_end &lt;int&gt; | chromosome_name &lt;chr&gt; |\n",
       "|---|---|---|---|---|---|---|---|---|\n",
       "| ENSACAT00000000120 | Anolis_carolinensis.AnoCar2.0.cdna.all.fa.gz | Anolis_carolinensis | Lizard | RRM2   | 148019236 | 148001345 | 148019236 | chr1 |\n",
       "| ENSACAT00000001871 | Anolis_carolinensis.AnoCar2.0.cdna.all.fa.gz | Anolis_carolinensis | Lizard | DNAJC3 |  85358907 |  85358907 |  85414968 | chr3 |\n",
       "\n"
      ],
      "text/plain": [
       "  ensembl_transcript_id Species_File                                \n",
       "1 ENSACAT00000000120    Anolis_carolinensis.AnoCar2.0.cdna.all.fa.gz\n",
       "2 ENSACAT00000001871    Anolis_carolinensis.AnoCar2.0.cdna.all.fa.gz\n",
       "  Scientific_Name     Common_Name external_gene_name transcription_start_site\n",
       "1 Anolis_carolinensis Lizard      RRM2               148019236               \n",
       "2 Anolis_carolinensis Lizard      DNAJC3              85358907               \n",
       "  transcript_start transcript_end chromosome_name\n",
       "1 148001345        148019236      chr1           \n",
       "2  85358907         85414968      chr3           "
      ]
     },
     "metadata": {},
     "output_type": "display_data"
    }
   ],
   "source": [
    "# Load the sequence compiled mRNA database\n",
    "setwd(\"C:/Users/breng/Dropbox/Brendan Documents/programming/bioinformatics/cDNA_transcriptome/2016-3-6 cDNA transcriptomes\")\n",
    "mRNAs <- fread(\"3 Annotated species mRNA compilation.xls\"); setwd(homedir)\n",
    "mRNAs$external_gene_name <- toupper(mRNAs$external_gene_name)\n",
    "# Clean data.table\n",
    "CHR_Labels <- c(1:21, \"X\", \"Y\")\n",
    "TRANS_CHR <- mRNAs[(mRNAs$external_gene_name %in% ID2),] # subset out mRNAs of interest\n",
    "TRANS_CHR <- TRANS_CHR[(TRANS_CHR$chromosome_name %in% CHR_Labels),] # remove erroneous chromosome labels\n",
    "TRANS_CHR <- ChromLabel(TRANS_CHR) # relabel chromosome names\n",
    "TRANS_CHR[1:2,c(1,3:10), with = FALSE]"
   ]
  },
  {
   "cell_type": "markdown",
   "metadata": {},
   "source": [
    "#### Obtain and clean promoter sequences for genes in the SARS-CoV-2 network"
   ]
  },
  {
   "cell_type": "code",
   "execution_count": 29,
   "metadata": {},
   "outputs": [
    {
     "name": "stdout",
     "output_type": "stream",
     "text": [
      "  |======================================================================| 100%\n",
      "  |======================================================================| 100%\n"
     ]
    },
    {
     "data": {
      "text/html": [
       "<table>\n",
       "<caption>A data.table: 2 × 11</caption>\n",
       "<thead>\n",
       "\t<tr><th scope=col>ensembl_transcript_id</th><th scope=col>Species_File</th><th scope=col>Scientific_Name</th><th scope=col>Common_Name</th><th scope=col>external_gene_name</th><th scope=col>transcription_start_site</th><th scope=col>transcript_start</th><th scope=col>transcript_end</th><th scope=col>chromosome_name</th><th scope=col>Percent_N</th><th scope=col>Length</th></tr>\n",
       "\t<tr><th scope=col>&lt;chr&gt;</th><th scope=col>&lt;chr&gt;</th><th scope=col>&lt;chr&gt;</th><th scope=col>&lt;chr&gt;</th><th scope=col>&lt;chr&gt;</th><th scope=col>&lt;int&gt;</th><th scope=col>&lt;int&gt;</th><th scope=col>&lt;int&gt;</th><th scope=col>&lt;chr&gt;</th><th scope=col>&lt;dbl&gt;</th><th scope=col>&lt;int&gt;</th></tr>\n",
       "</thead>\n",
       "<tbody>\n",
       "\t<tr><td>ENST00000035307</td><td>Homo_sapiens.GRCh38.cdna.all.fa.gz</td><td>Homo_sapiens</td><td>Human</td><td>CHPF2 </td><td>151232499</td><td>151232499</td><td>151238827</td><td>chr7 </td><td>0</td><td>3978</td></tr>\n",
       "\t<tr><td>ENST00000486749</td><td>Homo_sapiens.GRCh38.cdna.all.fa.gz</td><td>Homo_sapiens</td><td>Human</td><td>SLC2A3</td><td>  7936167</td><td>  7919231</td><td>  7936167</td><td>chr12</td><td>0</td><td>4414</td></tr>\n",
       "</tbody>\n",
       "</table>\n"
      ],
      "text/latex": [
       "A data.table: 2 × 11\n",
       "\\begin{tabular}{lllllllllll}\n",
       " ensembl\\_transcript\\_id & Species\\_File & Scientific\\_Name & Common\\_Name & external\\_gene\\_name & transcription\\_start\\_site & transcript\\_start & transcript\\_end & chromosome\\_name & Percent\\_N & Length\\\\\n",
       " <chr> & <chr> & <chr> & <chr> & <chr> & <int> & <int> & <int> & <chr> & <dbl> & <int>\\\\\n",
       "\\hline\n",
       "\t ENST00000035307 & Homo\\_sapiens.GRCh38.cdna.all.fa.gz & Homo\\_sapiens & Human & CHPF2  & 151232499 & 151232499 & 151238827 & chr7  & 0 & 3978\\\\\n",
       "\t ENST00000486749 & Homo\\_sapiens.GRCh38.cdna.all.fa.gz & Homo\\_sapiens & Human & SLC2A3 &   7936167 &   7919231 &   7936167 & chr12 & 0 & 4414\\\\\n",
       "\\end{tabular}\n"
      ],
      "text/markdown": [
       "\n",
       "A data.table: 2 × 11\n",
       "\n",
       "| ensembl_transcript_id &lt;chr&gt; | Species_File &lt;chr&gt; | Scientific_Name &lt;chr&gt; | Common_Name &lt;chr&gt; | external_gene_name &lt;chr&gt; | transcription_start_site &lt;int&gt; | transcript_start &lt;int&gt; | transcript_end &lt;int&gt; | chromosome_name &lt;chr&gt; | Percent_N &lt;dbl&gt; | Length &lt;int&gt; |\n",
       "|---|---|---|---|---|---|---|---|---|---|---|\n",
       "| ENST00000035307 | Homo_sapiens.GRCh38.cdna.all.fa.gz | Homo_sapiens | Human | CHPF2  | 151232499 | 151232499 | 151238827 | chr7  | 0 | 3978 |\n",
       "| ENST00000486749 | Homo_sapiens.GRCh38.cdna.all.fa.gz | Homo_sapiens | Human | SLC2A3 |   7936167 |   7919231 |   7936167 | chr12 | 0 | 4414 |\n",
       "\n"
      ],
      "text/plain": [
       "  ensembl_transcript_id Species_File                       Scientific_Name\n",
       "1 ENST00000035307       Homo_sapiens.GRCh38.cdna.all.fa.gz Homo_sapiens   \n",
       "2 ENST00000486749       Homo_sapiens.GRCh38.cdna.all.fa.gz Homo_sapiens   \n",
       "  Common_Name external_gene_name transcription_start_site transcript_start\n",
       "1 Human       CHPF2              151232499                151232499       \n",
       "2 Human       SLC2A3               7936167                  7919231       \n",
       "  transcript_end chromosome_name Percent_N Length\n",
       "1 151238827      chr7            0         3978  \n",
       "2   7936167      chr12           0         4414  "
      ]
     },
     "metadata": {},
     "output_type": "display_data"
    }
   ],
   "source": [
    "# Load available genomes\n",
    "ToLoad <- c(\"Hsapiens.UCSC.hg38\",\"Mmusculus.UCSC.mm10\",\"Rnorvegicus.UCSC.rn6\",\"Btaurus.UCSC.bosTau8\",\"Cfamiliaris.UCSC.canFam3\", \n",
    "            \"Ggallus.UCSC.galGal4\",\"Mmulatta.UCSC.rheMac3\",\"Ptroglodytes.UCSC.panTro3\",\"Sscrofa.UCSC.susScr3\")\n",
    "GenomeLoader(ToLoad)\n",
    "# return the promoter sequences for the identified transcripts from each Species\n",
    "genome <- c(\"Hsapiens.UCSC.hg38\",\"Mmusculus.UCSC.mm10\",\"Rnorvegicus.UCSC.rn6\",\"Btaurus.UCSC.bosTau8\", \"Cfamiliaris.UCSC.canFam3\"\n",
    "            ,\"Ggallus.UCSC.galGal4\",\"Mmulatta.UCSC.rheMac3\",\"Ptroglodytes.UCSC.panTro3\",\"Sscrofa.UCSC.susScr3\")\n",
    "PROMTrans <- ChromosomeSeqCompileR(DT = TRANS_CHR, Spec = genome, distance = 2000)\n",
    "# Remove sequences that contain a large number of N's \n",
    "setnames(PROMTrans, c(\"ensembl_transcript_id\", \"Sequence\", \"Species_File\", \"Scientific_Name\", \"Common_Name\", \"external_gene_name\", \"transcription_start_site\", \"transcript_start\", \"transcript_end\", \"chromosome_name\", \"Genome_Sequence\"),\n",
    "         c(\"ensembl_transcript_id\", \"mRNA_Sequence\", \"Species_File\", \"Scientific_Name\", \"Common_Name\", \"gene_symbol\", \"transcription_start_site\", \"transcript_start\", \"transcript_end\", \"chromosome_name\", \"Sequence\"))\n",
    "PROMTrans <- SequenceSiftR(PROMTrans, Percent = 0.50, output = \"return_remove\")\n",
    "# Sort out Splice Variants so that the longest transcript of each protein is represented only once in each species\n",
    "setnames(PROMTrans, c(\"ensembl_transcript_id\", \"mRNA_Sequence\", \"Species_File\", \"Scientific_Name\", \"Common_Name\", \"gene_symbol\", \"transcription_start_site\", \"transcript_start\", \"transcript_end\", \"chromosome_name\", \"Sequence\", \"Percent_N\"),\n",
    "         c(\"ensembl_transcript_id\", \"Sequence\", \"Species_File\", \"Scientific_Name\", \"Common_Name\", \"external_gene_name\", \"transcription_start_site\", \"transcript_start\", \"transcript_end\", \"chromosome_name\", \"Genome_Sequence\", \"Percent_N\"))\n",
    "PROMTrans <- VariantSort(PROMTrans, variant = \"MAX\")\n",
    "PROMTrans[1:2,c(1, 3:10, 12:13), with = FALSE]"
   ]
  },
  {
   "cell_type": "markdown",
   "metadata": {},
   "source": [
    "#### Identify transcription factor binding sites in the promoter sequences for genes in the SARS-CoV-2 network"
   ]
  },
  {
   "cell_type": "code",
   "execution_count": 30,
   "metadata": {},
   "outputs": [
    {
     "data": {
      "text/html": [
       "<table>\n",
       "<caption>A data.table: 2 × 3</caption>\n",
       "<thead>\n",
       "\t<tr><th scope=col>Targeting_Factor</th><th scope=col>MotifMap Degenerate consensus sequence</th><th scope=col>Consensus_Sequence</th></tr>\n",
       "\t<tr><th scope=col>&lt;chr&gt;</th><th scope=col>&lt;chr&gt;</th><th scope=col>&lt;chr&gt;</th></tr>\n",
       "</thead>\n",
       "<tbody>\n",
       "\t<tr><td>AHR</td><td>SYYCNRNSTNGCGTGNSW</td><td>(G|C)(C|T)(C|T)C.(A|G).(G|C)T.GCGTG.(G|C)(A|T)</td></tr>\n",
       "\t<tr><td>AHR</td><td>BKNGCGTGHNN       </td><td>.(G|T).GCGTG...                               </td></tr>\n",
       "</tbody>\n",
       "</table>\n"
      ],
      "text/latex": [
       "A data.table: 2 × 3\n",
       "\\begin{tabular}{lll}\n",
       " Targeting\\_Factor & MotifMap Degenerate consensus sequence & Consensus\\_Sequence\\\\\n",
       " <chr> & <chr> & <chr>\\\\\n",
       "\\hline\n",
       "\t AHR & SYYCNRNSTNGCGTGNSW & (G\\textbar{}C)(C\\textbar{}T)(C\\textbar{}T)C.(A\\textbar{}G).(G\\textbar{}C)T.GCGTG.(G\\textbar{}C)(A\\textbar{}T)\\\\\n",
       "\t AHR & BKNGCGTGHNN        & .(G\\textbar{}T).GCGTG...                               \\\\\n",
       "\\end{tabular}\n"
      ],
      "text/markdown": [
       "\n",
       "A data.table: 2 × 3\n",
       "\n",
       "| Targeting_Factor &lt;chr&gt; | MotifMap Degenerate consensus sequence &lt;chr&gt; | Consensus_Sequence &lt;chr&gt; |\n",
       "|---|---|---|\n",
       "| AHR | SYYCNRNSTNGCGTGNSW | (G|C)(C|T)(C|T)C.(A|G).(G|C)T.GCGTG.(G|C)(A|T) |\n",
       "| AHR | BKNGCGTGHNN        | .(G|T).GCGTG...                                |\n",
       "\n"
      ],
      "text/plain": [
       "  Targeting_Factor MotifMap Degenerate consensus sequence\n",
       "1 AHR              SYYCNRNSTNGCGTGNSW                    \n",
       "2 AHR              BKNGCGTGHNN                           \n",
       "  Consensus_Sequence                            \n",
       "1 (G|C)(C|T)(C|T)C.(A|G).(G|C)T.GCGTG.(G|C)(A|T)\n",
       "2 .(G|T).GCGTG...                               "
      ]
     },
     "metadata": {},
     "output_type": "display_data"
    },
    {
     "name": "stdout",
     "output_type": "stream",
     "text": [
      "  |======================================================================| 100%\n"
     ]
    }
   ],
   "source": [
    "# Load and annotate the TX_factor data table\n",
    "setwd(\"C:/Users/breng/Dropbox/Brendan Documents/programming/scripts/transcription factor consensus sequence\")\n",
    "TXDT <- fread(\"2019-3-22 TX factor data table for R BG.csv\", header = TRUE); setwd(homedir)\n",
    "TXDT <- TXDT[,.(prot, `MotifMap Degenerate consensus sequence`)]\n",
    "TXDT$prot <- toupper(TXDT$prot)\n",
    "TXDT$Consensus_Sequence_Medium <- IUPAC_Boolean(TXDT$`MotifMap Degenerate consensus sequence`, stringency = \"medium\")\n",
    "setnames(TXDT, c(\"prot\", \"MotifMap Degenerate consensus sequence\", \"Consensus_Sequence_Medium\"),\n",
    "         c(\"Targeting_Factor\", \"MotifMap Degenerate consensus sequence\", \"Consensus_Sequence\"))\n",
    "head(TXDT, 2)\n",
    "# Perform the transcription factor binding site matches\n",
    "setnames(PROMTrans, c(\"ensembl_transcript_id\", \"Sequence\", \"Species_File\", \"Scientific_Name\", \"Common_Name\", \"external_gene_name\", \"transcription_start_site\", \"transcript_start\", \"transcript_end\", \"chromosome_name\", \"Genome_Sequence\", \"Percent_N\", \"Length\"),\n",
    "         c(\"ensembl_transcript_id\", \"mRNA_Sequence\", \"Species_File\", \"Scientific_Name\", \"Common_Name\", \"gene_symbol\", \"transcription_start_site\", \"transcript_start\", \"transcript_end\", \"chromosome_name\", \"Sequence\", \"Percent_N\", \"Length\"))\n",
    "TX_TOT_Species <- TFpredict(Target = PROMTrans, Targeting_Factor_DT = TXDT, type = \"multiple_species\")"
   ]
  },
  {
   "cell_type": "markdown",
   "metadata": {},
   "source": [
    "#### Score, set minimum species conservation cutoff, and count the number of transcription factor binding sites for each promoter sequence"
   ]
  },
  {
   "cell_type": "code",
   "execution_count": 31,
   "metadata": {},
   "outputs": [
    {
     "name": "stdout",
     "output_type": "stream",
     "text": [
      "  |======================================================================| 100%\n"
     ]
    },
    {
     "data": {
      "text/html": [
       "<table>\n",
       "<caption>A data.table: 3 × 4</caption>\n",
       "<thead>\n",
       "\t<tr><th scope=col>Number_Hits</th><th scope=col>Targeting_Factor</th><th scope=col>gene_symbol</th><th scope=col>Species</th></tr>\n",
       "\t<tr><th scope=col>&lt;int&gt;</th><th scope=col>&lt;chr&gt;</th><th scope=col>&lt;chr&gt;</th><th scope=col>&lt;chr&gt;</th></tr>\n",
       "</thead>\n",
       "<tbody>\n",
       "\t<tr><td>162</td><td>BMI1</td><td>NPTX1</td><td>Human</td></tr>\n",
       "\t<tr><td>126</td><td>BMI1</td><td>GDI1 </td><td>Human</td></tr>\n",
       "\t<tr><td>120</td><td>BMI1</td><td>ARF1 </td><td>Human</td></tr>\n",
       "</tbody>\n",
       "</table>\n"
      ],
      "text/latex": [
       "A data.table: 3 × 4\n",
       "\\begin{tabular}{llll}\n",
       " Number\\_Hits & Targeting\\_Factor & gene\\_symbol & Species\\\\\n",
       " <int> & <chr> & <chr> & <chr>\\\\\n",
       "\\hline\n",
       "\t 162 & BMI1 & NPTX1 & Human\\\\\n",
       "\t 126 & BMI1 & GDI1  & Human\\\\\n",
       "\t 120 & BMI1 & ARF1  & Human\\\\\n",
       "\\end{tabular}\n"
      ],
      "text/markdown": [
       "\n",
       "A data.table: 3 × 4\n",
       "\n",
       "| Number_Hits &lt;int&gt; | Targeting_Factor &lt;chr&gt; | gene_symbol &lt;chr&gt; | Species &lt;chr&gt; |\n",
       "|---|---|---|---|\n",
       "| 162 | BMI1 | NPTX1 | Human |\n",
       "| 126 | BMI1 | GDI1  | Human |\n",
       "| 120 | BMI1 | ARF1  | Human |\n",
       "\n"
      ],
      "text/plain": [
       "  Number_Hits Targeting_Factor gene_symbol Species\n",
       "1 162         BMI1             NPTX1       Human  \n",
       "2 126         BMI1             GDI1        Human  \n",
       "3 120         BMI1             ARF1        Human  "
      ]
     },
     "metadata": {},
     "output_type": "display_data"
    }
   ],
   "source": [
    "#### Annotate the raw transcription factor hits DT with the IUPAC consensus score\n",
    "DT25 <- TX_TOT_Species[,c(1:7, 9:12), with = FALSE]\n",
    "IUPAC <- DT25$`MotifMap Degenerate consensus sequence`\n",
    "DT25$Score <- IUPAC_ScoreR(IUPAC, stringency = \"medium\")\n",
    "#### Retain only transcription factor promoter association conservation between HMR at each promoter \n",
    "DT25 <- SpeciesTFCons(DT = DT25,Spec = c(\"Human\", \"Mouse\", \"Rat\"), provide = \"TF_Target\")\n",
    "writab(DT=DT25, fname=\"./results/11 HMR Raw Transcription factor hits.xls\")\n",
    "#### Determine the number of times each transcription factor consensus sequence is present for each promoter in human \n",
    "TX_ABUN <- TFRankR(DT = DT25, sortBy = \"abundance\", dec = TRUE); TX_ABUN <- TX_ABUN[TX_ABUN$Species == \"Human\",]; head(TX_ABUN,3)\n",
    "#writab(DT=TX_ABUN, fname=\"./results/12 TX number of consensus sequences Human.xls\")"
   ]
  },
  {
   "cell_type": "markdown",
   "metadata": {},
   "source": [
    "### Assess the number of KLF2 and SREBP2 binding sites in the promoters of genes regulated by shear and PSOS."
   ]
  },
  {
   "cell_type": "code",
   "execution_count": 32,
   "metadata": {
    "scrolled": true
   },
   "outputs": [
    {
     "data": {
      "text/html": [
       "<strong>png:</strong> 2"
      ],
      "text/latex": [
       "\\textbf{png:} 2"
      ],
      "text/markdown": [
       "**png:** 2"
      ],
      "text/plain": [
       "png \n",
       "  2 "
      ]
     },
     "metadata": {},
     "output_type": "display_data"
    },
    {
     "data": {
      "text/html": [
       "<style>\n",
       ".list-inline {list-style: none; margin:0; padding: 0}\n",
       ".list-inline>li {display: inline-block}\n",
       ".list-inline>li:not(:last-child)::after {content: \"\\00b7\"; padding: 0 .5ex}\n",
       "</style>\n",
       "<ol class=list-inline><li>'ATP13A3'</li><li>'NUP107'</li><li>'CSGALNACT2'</li><li>'RFC3'</li><li>'DAD1'</li><li>'KIF2C'</li><li>'MFAP2'</li></ol>\n"
      ],
      "text/latex": [
       "\\begin{enumerate*}\n",
       "\\item 'ATP13A3'\n",
       "\\item 'NUP107'\n",
       "\\item 'CSGALNACT2'\n",
       "\\item 'RFC3'\n",
       "\\item 'DAD1'\n",
       "\\item 'KIF2C'\n",
       "\\item 'MFAP2'\n",
       "\\end{enumerate*}\n"
      ],
      "text/markdown": [
       "1. 'ATP13A3'\n",
       "2. 'NUP107'\n",
       "3. 'CSGALNACT2'\n",
       "4. 'RFC3'\n",
       "5. 'DAD1'\n",
       "6. 'KIF2C'\n",
       "7. 'MFAP2'\n",
       "\n",
       "\n"
      ],
      "text/plain": [
       "[1] \"ATP13A3\"    \"NUP107\"     \"CSGALNACT2\" \"RFC3\"       \"DAD1\"      \n",
       "[6] \"KIF2C\"      \"MFAP2\"     "
      ]
     },
     "metadata": {},
     "output_type": "display_data"
    },
    {
     "data": {
      "text/html": [],
      "text/latex": [],
      "text/markdown": [],
      "text/plain": [
       "character(0)"
      ]
     },
     "metadata": {},
     "output_type": "display_data"
    },
    {
     "data": {
      "image/png": "[encoded data removed]",
      "text/plain": [
       "plot without title"
      ]
     },
     "metadata": {
      "image/png": {
       "height": 240,
       "width": 900
      }
     },
     "output_type": "display_data"
    }
   ],
   "source": [
    "options(repr.plot.width=15, repr.plot.height=4)\n",
    "KLF <- TX_ABUN[Targeting_Factor == \"SREBF2\" | Targeting_Factor == \"KLF2\",]\n",
    "g1 <- ggbarplot(KLF, \"gene_symbol\", \"Number_Hits\",\n",
    "          fill = \"Targeting_Factor\", color = \"Targeting_Factor\", palette = \"Paired\")+\n",
    "    theme(axis.text.x=element_blank(),axis.ticks.x=element_blank())+\n",
    "    xlab(\"Gene\")+ylab(\"Number of hits\");g1\n",
    "tiff(file = \"./results/13 shear tx factor binding sites.tiff\", width = 1000, height = 500, units = \"px\", res = 100);g1;dev.off()\n",
    "setdiff(KLF[KLF$Targeting_Factor == \"SREBF2\",]$gene_symbol, KLF[KLF$Targeting_Factor == \"KLF2\",]$gene_symbol)\n",
    "setdiff(KLF[KLF$Targeting_Factor == \"KLF2\",]$gene_symbol, KLF[KLF$Targeting_Factor == \"SREBF2\",]$gene_symbol)"
   ]
  },
  {
   "cell_type": "markdown",
   "metadata": {},
   "source": [
    "#### Identify PSOS or shear regulated transcription factors. "
   ]
  },
  {
   "cell_type": "code",
   "execution_count": 33,
   "metadata": {},
   "outputs": [
    {
     "data": {
      "text/html": [
       "'EPAS1'"
      ],
      "text/latex": [
       "'EPAS1'"
      ],
      "text/markdown": [
       "'EPAS1'"
      ],
      "text/plain": [
       "[1] \"EPAS1\""
      ]
     },
     "metadata": {},
     "output_type": "display_data"
    }
   ],
   "source": [
    "# Annotate the complete data table that is annotated with Shear or PSOS responsiveness, and which proteins interact \n",
    "# with SARS-CoV-2 proteins with which genes are also a transcription factor\n",
    "final_covid$TXfactor <- \"NA\"\n",
    "keyTX <- TX_ABUN[!duplicated(TX_ABUN$Targeting_Factor),]$Targeting_Factor\n",
    "final_covid[(final_covid$GeneName %in% keyTX),]$TXfactor <- \"TXfactor\"\n",
    "#### separate into PSOS or shear responsive ####\n",
    "independent <- final_covid[final_covid$shear_responsive == \"pattern_independent\" & final_covid$TXfactor == \"TXfactor\",]\n",
    "psos <- final_covid[final_covid$PSOS_responsive == \"PSOS\" & final_covid$TXfactor == \"TXfactor\",]\n",
    "#### remove duplications ####\n",
    "independentdup <-independent[independent[, .I[which.min(`FDRscore_shear`)], by=GeneName]$V1]\n",
    "psosdup <-psos[psos[, .I[which.min(`FDRscore_PSOS`)], by=GeneName]$V1]\n",
    "#### overlapping genes ####\n",
    "intersect(independentdup$GeneName, psosdup$GeneName)\n",
    "interestTFs <- rbind(independentdup, psosdup)\n",
    "# polish genes that were called incorrectly ####\n",
    "shear_rm <- c(\"NCL\") # Genes to remove from shear dataset\n",
    "shear_to_psos <- c(\"EPAS1\") # Genes to move freom psos dataset to shear dataset\n",
    "#### remove genes ####\n",
    "interestTFs[(interestTFs$GeneName %in% shear_rm),]$shear_responsive <- \"NA\"\n",
    "#### move genes to proper datatable ####\n",
    "interestTFs[interestTFs$GeneName == shear_to_psos[1],]$PSOS_responsive <- \"PSOS\"\n",
    "interestTFs[interestTFs$GeneName == shear_to_psos[1],]$shear_responsive <- \"NA\"\n",
    "#writab(DT=interestTFs, fname=\"./results/14 covid interest transcription factors.xls\")"
   ]
  },
  {
   "cell_type": "markdown",
   "metadata": {},
   "source": [
    "#### Generate a line graphs of the raw read values of the shear responsive PSOS responsive transcription factors"
   ]
  },
  {
   "cell_type": "code",
   "execution_count": null,
   "metadata": {},
   "outputs": [],
   "source": [
    "#### plot all identified genes ####\n",
    "dir.create(\"./results/4_PSOS_txfactor\");dir.create(\"./results/4_flow_independent_txfactor\")\n",
    "lineGraph_loopR(DataTable = interestTFs[PSOS_responsive == \"PSOS\",], directory = \"./results/4_PSOS_txfactor/\", columns = c(1,93:134))\n",
    "lineGraph_loopR(DataTable = interestTFs[shear_responsive == \"pattern_independent\",], directory = \"./results/4_flow_independent_txfactor/\", columns = c(1,93:134))"
   ]
  },
  {
   "cell_type": "markdown",
   "metadata": {},
   "source": [
    "#### Match transcription factors and genes they regulate by their PSOS or shear responsive characteristics"
   ]
  },
  {
   "cell_type": "code",
   "execution_count": 34,
   "metadata": {},
   "outputs": [
    {
     "data": {
      "text/html": [
       "<style>\n",
       ".list-inline {list-style: none; margin:0; padding: 0}\n",
       ".list-inline>li {display: inline-block}\n",
       ".list-inline>li:not(:last-child)::after {content: \"\\00b7\"; padding: 0 .5ex}\n",
       "</style>\n",
       "<ol class=list-inline><li>'PLOD2'</li><li>'RAB2A'</li><li>'LOX'</li><li>'GOLGA2'</li><li>'RAB1A'</li><li>'FBLN5'</li></ol>\n"
      ],
      "text/latex": [
       "\\begin{enumerate*}\n",
       "\\item 'PLOD2'\n",
       "\\item 'RAB2A'\n",
       "\\item 'LOX'\n",
       "\\item 'GOLGA2'\n",
       "\\item 'RAB1A'\n",
       "\\item 'FBLN5'\n",
       "\\end{enumerate*}\n"
      ],
      "text/markdown": [
       "1. 'PLOD2'\n",
       "2. 'RAB2A'\n",
       "3. 'LOX'\n",
       "4. 'GOLGA2'\n",
       "5. 'RAB1A'\n",
       "6. 'FBLN5'\n",
       "\n",
       "\n"
      ],
      "text/plain": [
       "[1] \"PLOD2\"  \"RAB2A\"  \"LOX\"    \"GOLGA2\" \"RAB1A\"  \"FBLN5\" "
      ]
     },
     "metadata": {},
     "output_type": "display_data"
    }
   ],
   "source": [
    "#### Separate transcription factors into PSOS or shear responsive #####\n",
    "shearTX <- interestTFs[shear_responsive == \"pattern_independent\",]\n",
    "psosTX <- interestTFs[PSOS_responsive == \"PSOS\",]\n",
    "sheartxkey <- shearTX$GeneName\n",
    "psostxkey <- psosTX$GeneName\n",
    "#### compile all COVID-19 genes and separate into PSOS or shear responsive \n",
    "intersect(covid_cyto$GeneName, covid$GeneName)\n",
    "compiledcovid <- rbind(covid_cyto, covid[,c(1:139), with = FALSE])\n",
    "shear <- compiledcovid[compiledcovid$shear_responsive == \"pattern_independent\",]\n",
    "psos <- compiledcovid[compiledcovid$PSOS_responsive == \"PSOS\",]\n",
    "shearkey <- shear$GeneName\n",
    "psoskey <- psos$GeneName"
   ]
  },
  {
   "cell_type": "markdown",
   "metadata": {},
   "source": [
    "#### Plot PSOS responsive transcription factors that have binding sites in the promoters of PSOS genes. "
   ]
  },
  {
   "cell_type": "code",
   "execution_count": 35,
   "metadata": {
    "scrolled": true
   },
   "outputs": [
    {
     "data": {
      "image/png": "[encoded data removed]",
      "text/plain": [
       "plot without title"
      ]
     },
     "metadata": {
      "image/png": {
       "height": 300,
       "width": 420
      }
     },
     "output_type": "display_data"
    }
   ],
   "source": [
    "options(repr.plot.width=7, repr.plot.height=5)\n",
    "hit <- TX_ABUN[(TX_ABUN$Targeting_Factor %in% psostxkey),]; hit <- hit[(hit$gene_symbol %in% psoskey)]\n",
    "g1 <- ggplot(data=hit, aes(x=gene_symbol, y=Number_Hits, group=Targeting_Factor, colour=Targeting_Factor)) +\n",
    "  geom_linerange(data=hit, mapping=aes(x=gene_symbol, ymin=0, ymax=Number_Hits), size = 2, position = position_dodge(width = 0.8))+\n",
    "  geom_point(size = 3, position = position_dodge(width = 0.8)) +\n",
    "  theme_pubr() +\n",
    "  ylab(\"Number of binding sites\") +\n",
    "  xlab(\"gene\") +\n",
    "  theme(axis.text.x = element_text(angle = 90, hjust = 1));g1\n",
    "#tiff(file = \"./results/15 PSOS tx factor binding sites.tiff\", width = 500, height = 500, units = \"px\", res = 100);g1;dev.off()"
   ]
  },
  {
   "cell_type": "markdown",
   "metadata": {},
   "source": [
    "#### Plot shear responsive transcription factors that have binding sites in the promoters of shear responsive genes. "
   ]
  },
  {
   "cell_type": "code",
   "execution_count": 36,
   "metadata": {
    "scrolled": true
   },
   "outputs": [
    {
     "data": {
      "image/png": "[encoded data removed]",
      "text/plain": [
       "plot without title"
      ]
     },
     "metadata": {
      "image/png": {
       "height": 300,
       "width": 900
      }
     },
     "output_type": "display_data"
    }
   ],
   "source": [
    "options(repr.plot.width=15, repr.plot.height=5)\n",
    "hit <- TX_ABUN[(TX_ABUN$Targeting_Factor %in% sheartxkey),]; hit <- hit[(hit$gene_symbol %in% shearkey)]\n",
    "g1 <- ggplot(data=hit, aes(x=gene_symbol, y=Number_Hits, group=Targeting_Factor, colour=Targeting_Factor)) +\n",
    "  geom_linerange(data=hit, mapping=aes(x=gene_symbol, ymin=0, ymax=Number_Hits), size = 2, position = position_dodge(width = 0.8))+\n",
    "  geom_point(size = 3, position = position_dodge(width = 0.8)) +\n",
    "  theme_pubr() +\n",
    "  ylab(\"Number of binding sites\") +\n",
    "  xlab(\"gene\") +\n",
    "  theme(axis.title.x=element_blank(),axis.text.x=element_blank(),axis.ticks.x=element_blank());g1\n",
    "#tiff(file = \"./results/16 shear tx factor binding sites.tiff\", width = 1000, height = 500, units = \"px\", res = 100);g1;dev.off()"
   ]
  },
  {
   "cell_type": "markdown",
   "metadata": {},
   "source": [
    "#### Plot the level of expression of the 9 PSOS responsive genes in the KLF4 overexpression RNAseq data set."
   ]
  },
  {
   "cell_type": "code",
   "execution_count": 37,
   "metadata": {
    "scrolled": true
   },
   "outputs": [
    {
     "data": {
      "image/png": "[encoded data removed]",
      "text/plain": [
       "plot without title"
      ]
     },
     "metadata": {
      "image/png": {
       "height": 300,
       "width": 420
      }
     },
     "output_type": "display_data"
    }
   ],
   "source": [
    "options(repr.plot.width=7, repr.plot.height=5)\n",
    "DATA <- fread(klf4seq)\n",
    "DATA$gene <- toupper(DATA$gene)\n",
    "DATA <- DATA[,c(3,10,13)]\n",
    "DATA <- DATA[!DATA$`log2(fold_change)` == \"#NAME?\",]\n",
    "DATA <- DATA[!DATA$`log2(fold_change)` == \"inf\",]\n",
    "DATA$`log2(fold_change)` <- as.numeric(DATA$`log2(fold_change)`)\n",
    "#### Label all data groups ####\n",
    "Interactors <- c(\"ADAMTS1\", \"ARHGDIB\", \"COL5A1\", \"RAB11A\",  \"S100A10\", \"SERPINB2\", \"STOM\") # \"RHOA\", \"FBLN5\", \n",
    "int <- DATA[(DATA$gene %in% Interactors),]\n",
    "int$group <- \"PSOS\"\n",
    "nothing <- DATA[!(DATA$gene %in% Interactors),]\n",
    "nothing$group <- \"All other\"\n",
    "dat <- rbind(int, nothing)\n",
    "#identical(nrow(DATA), nrow(dat)); nrow(DATA) == nrow(dat)\n",
    "setnames(dat, colnames(dat), c(\"gene\", \"FC\", \"qval\", \"group\"))\n",
    "dat$logqval <- -log10(dat$qval) #### Take the -log10 of the q-value\n",
    "p <- ggplot(dat, aes(x=FC, y=logqval, colour = group)) +\n",
    "  geom_point(shape = 21, size = 2, colour = \"grey\", fill = \"grey\")+\n",
    "  theme_pubr() +\n",
    "  labs(x = \"log2(FC)\", y = \"-log10(pval)\") +\n",
    "  geom_point(data = subset(dat, group == 'PSOS'),\n",
    "             aes(x=FC, y=logqval), shape = 21, size = 4, colour = \"black\", fill = \"#D7191C\" );p\n",
    "#tiff(file = \"./results/17 KLF4 overexpression.tiff\", width = 500, height = 500, units = \"px\", res = 100);p;dev.off()"
   ]
  },
  {
   "cell_type": "markdown",
   "metadata": {},
   "source": [
    "## new information "
   ]
  },
  {
   "cell_type": "markdown",
   "metadata": {},
   "source": [
    "#### Identify genes that are shear responsive and are also regulated in the same direction in the KLF4 overexpression dataset"
   ]
  },
  {
   "cell_type": "code",
   "execution_count": 38,
   "metadata": {},
   "outputs": [
    {
     "data": {
      "text/html": [
       "<style>\n",
       ".list-inline {list-style: none; margin:0; padding: 0}\n",
       ".list-inline>li {display: inline-block}\n",
       ".list-inline>li:not(:last-child)::after {content: \"\\00b7\"; padding: 0 .5ex}\n",
       "</style>\n",
       "<ol class=list-inline><li>'SERPINE2'</li><li>'CALR'</li><li>'GOLGA2'</li><li>'SLC2A3'</li><li>'SRP14'</li><li>'SEL1L'</li><li>'BGN'</li><li>'SLC44A2'</li><li>'DNAJC3'</li></ol>\n"
      ],
      "text/latex": [
       "\\begin{enumerate*}\n",
       "\\item 'SERPINE2'\n",
       "\\item 'CALR'\n",
       "\\item 'GOLGA2'\n",
       "\\item 'SLC2A3'\n",
       "\\item 'SRP14'\n",
       "\\item 'SEL1L'\n",
       "\\item 'BGN'\n",
       "\\item 'SLC44A2'\n",
       "\\item 'DNAJC3'\n",
       "\\end{enumerate*}\n"
      ],
      "text/markdown": [
       "1. 'SERPINE2'\n",
       "2. 'CALR'\n",
       "3. 'GOLGA2'\n",
       "4. 'SLC2A3'\n",
       "5. 'SRP14'\n",
       "6. 'SEL1L'\n",
       "7. 'BGN'\n",
       "8. 'SLC44A2'\n",
       "9. 'DNAJC3'\n",
       "\n",
       "\n"
      ],
      "text/plain": [
       "[1] \"SERPINE2\" \"CALR\"     \"GOLGA2\"   \"SLC2A3\"   \"SRP14\"    \"SEL1L\"    \"BGN\"     \n",
       "[8] \"SLC44A2\"  \"DNAJC3\"  "
      ]
     },
     "metadata": {},
     "output_type": "display_data"
    }
   ],
   "source": [
    "DATA %>% setnames(c(\"gene\", \"log2(fold_change)\", \"q_value\"), c(\"GeneName\", \"klf4log2fc\", \"klf4pval\"))\n",
    "compiledcovid <- compiledcovid[!duplicated(compiledcovid$GeneName),]\n",
    "covid_klf <- merge(compiledcovid, DATA, by = \"GeneName\")\n",
    "covid_klf <- covid_klf[(`PS24-LF_logFC` > 0 & klf4log2fc > 0 & klf4pval < 0.05 & \n",
    "                        shear_responsive == \"pattern_independent\" & klf4pval > 0.00005),][order(FDRscore_shear),]\n",
    "covidklfgene <- covid_klf$GeneName#[1:6]\n",
    "covidklfgene"
   ]
  },
  {
   "cell_type": "markdown",
   "metadata": {},
   "source": [
    "#### Volcano plot of identified genes in the KLF4 overexpression dataset"
   ]
  },
  {
   "cell_type": "code",
   "execution_count": 39,
   "metadata": {},
   "outputs": [
    {
     "data": {
      "image/png": "[encoded data removed]",
      "text/plain": [
       "plot without title"
      ]
     },
     "metadata": {
      "image/png": {
       "height": 300,
       "width": 420
      }
     },
     "output_type": "display_data"
    }
   ],
   "source": [
    "Interactors <- covidklfgene\n",
    "int <- DATA[(DATA$GeneName %in% Interactors),]\n",
    "int$group <- \"PSOS\"\n",
    "nothing <- DATA[!(DATA$GeneName %in% Interactors),]\n",
    "nothing$group <- \"All other\"\n",
    "dat <- rbind(int, nothing)\n",
    "#identical(nrow(DATA), nrow(dat)); nrow(DATA) == nrow(dat)\n",
    "setnames(dat, colnames(dat), c(\"gene\", \"FC\", \"qval\", \"group\"))\n",
    "dat$logqval <- -log10(dat$qval) #### Take the -log10 of the q-value\n",
    "p <- ggplot(dat, aes(x=FC, y=logqval, colour = group)) +\n",
    "  geom_point(shape = 21, size = 2, colour = \"grey\", fill = \"grey\")+\n",
    "  theme_pubr() +\n",
    "  labs(x = \"log2(FC)\", y = \"-log10(pval)\") +\n",
    "  geom_point(data = subset(dat, group == 'PSOS'),\n",
    "             aes(x=FC, y=logqval), shape = 21, size = 4, colour = \"black\", fill = \"#D7191C\" );p\n",
    "#tiff(file = \"./results/60 KLF4 overexpression selected shear genes.tiff\", width = 500, height = 500, units = \"px\", res = 100);p;dev.off()"
   ]
  },
  {
   "cell_type": "markdown",
   "metadata": {},
   "source": [
    "### Assess the number of KLF2 and SREBP2 binding sites in the promoters of genes regulated by shear and PSOS."
   ]
  },
  {
   "cell_type": "code",
   "execution_count": 40,
   "metadata": {},
   "outputs": [
    {
     "data": {
      "image/png": "[encoded data removed]",
      "text/plain": [
       "plot without title"
      ]
     },
     "metadata": {
      "image/png": {
       "height": 240,
       "width": 480
      }
     },
     "output_type": "display_data"
    }
   ],
   "source": [
    "options(repr.plot.width=8, repr.plot.height=4)\n",
    "KLF <- TX_ABUN[(TX_ABUN$gene_symbol %in% covidklfgene),][Targeting_Factor == \"SREBF2\" | Targeting_Factor == \"KLF2\",]\n",
    "g1 <- ggbarplot(KLF, \"gene_symbol\", \"Number_Hits\",\n",
    "          fill = \"Targeting_Factor\", color = \"Targeting_Factor\", palette = \"Paired\")+\n",
    "    #theme(axis.text.x=element_blank(),axis.ticks.x=element_blank())+\n",
    "    xlab(\"Gene\")+ylab(\"Number of hits\");g1#;KLF\n",
    "#tiff(file = \"./results/61 shear KLF2_SREBP2 binding sites.tiff\", width = 1000, height = 500, units = \"px\", res = 100);g1;dev.off()"
   ]
  },
  {
   "cell_type": "markdown",
   "metadata": {},
   "source": [
    "### Identify PS/OS H3K27ac CHiPseq peaks in the 9 PS/OS responsive genes"
   ]
  },
  {
   "cell_type": "markdown",
   "metadata": {},
   "source": [
    "#### Merge Bam files together and create BigWig files"
   ]
  },
  {
   "cell_type": "code",
   "execution_count": null,
   "metadata": {},
   "outputs": [],
   "source": [
    "#### merge BAM files\n",
    "#dir.create(\"./data/PSOS_H3K27ac/mergebam\")\n",
    "bamfile1 <- \"./data/PSOS_H3K27ac/H3K27ac_OS1_R1.fastq.gz.hisat_OS1.bam\"                     \n",
    "bamfile2 <- \"./data/PSOS_H3K27ac/H3K27ac_OS2_R1.fastq.gz.hisat_OS2.bam\"                        \n",
    "bamfile3 <- \"./data/PSOS_H3K27ac/H3K27ac_PS1_R1.fastq.gz.hisat_PS1.bam\"                     \n",
    "bamfile4 <- \"./data/PSOS_H3K27ac/H3K27ac_PS2_R1.fastq.gz.hisat_PS2.bam\"                      \n",
    "mergeBam(files =c(bamfile1, bamfile2), destination= \"./results/PSOS_H3K27ac/mergebam/OS.bam\")\n",
    "mergeBam(files =c(bamfile3, bamfile4), destination= \"./results/PSOS_H3K27ac/mergebam/PS.bam\")\n",
    "#### Convert Bam files to BigWig files\n",
    "#dir.create(\"./data/PSOS_H3K27ac/mergebam/merge_bigwig_files\")\n",
    "bamfile1 <- \"./results/PSOS_H3K27ac/mergebam/OS.bam\"\n",
    "bamfile2 <- \"./results/PSOS_H3K27ac/mergebam/PS.bam\"\n",
    "BWfile1 <- \"./results/PSOS_H3K27ac/mergebam/merge_bigwig_files/OS.bw\"\n",
    "BWfile2 <- \"./results/PSOS_H3K27ac/mergebam/merge_bigwig_files/PS.bw\"\n",
    "alignment <- readGAlignments(bamfile1); reads_coverage <- coverage(alignment); export.bw(reads_coverage, con = BWfile1)\n",
    "alignment <- readGAlignments(bamfile2); reads_coverage <- coverage(alignment); export.bw(reads_coverage, con = BWfile2)"
   ]
  },
  {
   "cell_type": "markdown",
   "metadata": {},
   "source": [
    "#### Obtain transcription start sites/chromosome locations "
   ]
  },
  {
   "cell_type": "code",
   "execution_count": 42,
   "metadata": {},
   "outputs": [
    {
     "data": {
      "text/html": [
       "<table>\n",
       "<caption>A data.frame: 1 × 3</caption>\n",
       "<thead>\n",
       "\t<tr><th></th><th scope=col>wikigene_name</th><th scope=col>transcription_start_site</th><th scope=col>chromosome_name</th></tr>\n",
       "\t<tr><th></th><th scope=col>&lt;chr&gt;</th><th scope=col>&lt;int&gt;</th><th scope=col>&lt;int&gt;</th></tr>\n",
       "</thead>\n",
       "<tbody>\n",
       "\t<tr><th scope=row>1</th><td>ADAMTS1</td><td>26845409</td><td>21</td></tr>\n",
       "</tbody>\n",
       "</table>\n"
      ],
      "text/latex": [
       "A data.frame: 1 × 3\n",
       "\\begin{tabular}{r|lll}\n",
       "  & wikigene\\_name & transcription\\_start\\_site & chromosome\\_name\\\\\n",
       "  & <chr> & <int> & <int>\\\\\n",
       "\\hline\n",
       "\t1 & ADAMTS1 & 26845409 & 21\\\\\n",
       "\\end{tabular}\n"
      ],
      "text/markdown": [
       "\n",
       "A data.frame: 1 × 3\n",
       "\n",
       "| <!--/--> | wikigene_name &lt;chr&gt; | transcription_start_site &lt;int&gt; | chromosome_name &lt;int&gt; |\n",
       "|---|---|---|---|\n",
       "| 1 | ADAMTS1 | 26845409 | 21 |\n",
       "\n"
      ],
      "text/plain": [
       "  wikigene_name transcription_start_site chromosome_name\n",
       "1 ADAMTS1       26845409                 21             "
      ]
     },
     "metadata": {},
     "output_type": "display_data"
    }
   ],
   "source": [
    "name <- c(\"ADAMTS1\", \"RHOA\", \"STOM\", \"SERPINB2\", \"FBLN5\", \"COL5A1\", \"S100A10\", \"ARHGDIB\", \"RAB11A\")\n",
    "go <- BioMartR(value = name, \n",
    "               mart = \"ENSEMBL_MART_ENSEMBL\", \n",
    "               species = \"hsapiens_gene_ensembl\", \n",
    "               attribute = c(\"wikigene_name\",  \"transcription_start_site\", \"chromosome_name\"),\n",
    "               filter_by = 'wikigene_name')\n",
    "head(go, 1)\n",
    "#writab(DT=go, fname=\"./gene_ontology/3 BioMart PSOS transcript information.xls\")"
   ]
  },
  {
   "cell_type": "markdown",
   "metadata": {},
   "source": [
    "#### Make graphs of the level of H3K27ac flanking the Transcription start site for each PSOS responsive gene "
   ]
  },
  {
   "cell_type": "code",
   "execution_count": 56,
   "metadata": {
    "scrolled": false
   },
   "outputs": [
    {
     "data": {
      "image/png": "[encoded data removed]",
      "text/plain": [
       "plot without title"
      ]
     },
     "metadata": {
      "image/png": {
       "height": 720,
       "width": 840
      }
     },
     "output_type": "display_data"
    }
   ],
   "source": [
    "options(repr.plot.width=14, repr.plot.height=12)\n",
    "go <- go[!duplicated(go$wikigene_name),]\n",
    "name <- go$wikigene_name\n",
    "chro <- as.character(go$chromosome_name)\n",
    "TSS <- go$transcription_start_site\n",
    "st <- (TSS - 15000)\n",
    "en <- (TSS + 15000)\n",
    "PSbw <- \"./data/PSOS_H3K27ac/mergebam/merge_bigwig_files/PS.bw\"\n",
    "OSbw <- \"./data/PSOS_H3K27ac/mergebam/merge_bigwig_files/OS.bw\"\n",
    "\n",
    "p1 <- ChiPseqPeakPlotter(treatment_bw <- PSbw,\n",
    "                         control_bw <- OSbw,\n",
    "                         chr <- chro[1],\n",
    "                         start <- st[1],\n",
    "                         end <- en[1],\n",
    "                         average_dist <- 10,\n",
    "                         fill_dist <- 10,\n",
    "                         type = \"all\",\n",
    "                         x_lab = name[1])#;p1\n",
    "p2 <- ChiPseqPeakPlotter(treatment_bw <- PSbw,\n",
    "                         control_bw <- OSbw,\n",
    "                         chr <- chro[2],\n",
    "                         start <- st[2],\n",
    "                         end <- en[2],\n",
    "                         average_dist <- 10,\n",
    "                         fill_dist <- 10,\n",
    "                         type = \"all\",\n",
    "                         x_lab = name[2])#;p2\n",
    "p3 <- ChiPseqPeakPlotter(treatment_bw <- PSbw,\n",
    "                         control_bw <- OSbw,\n",
    "                         chr <- chro[3],\n",
    "                         start <- st[3],\n",
    "                         end <- en[3],\n",
    "                         average_dist <- 10,\n",
    "                         fill_dist <- 10,\n",
    "                         type = \"all\",\n",
    "                         x_lab = name[3])#;p3\n",
    "p4 <- ChiPseqPeakPlotter(treatment_bw <- PSbw,\n",
    "                         control_bw <- OSbw,\n",
    "                         chr <- chro[4],\n",
    "                         start <- st[4],\n",
    "                         end <- en[4],\n",
    "                         average_dist <- 10,\n",
    "                         fill_dist <- 10,\n",
    "                         type = \"all\",\n",
    "                         x_lab = name[4])#;p4\n",
    "p5 <- ChiPseqPeakPlotter(treatment_bw <- PSbw,\n",
    "                         control_bw <- OSbw,\n",
    "                         chr <- chro[5],\n",
    "                         start <- st[5],\n",
    "                         end <- en[5],\n",
    "                         average_dist <- 10,\n",
    "                         fill_dist <- 10,\n",
    "                         type = \"all\",\n",
    "                         x_lab = name[5])#;p5\n",
    "p6 <- ChiPseqPeakPlotter(treatment_bw <- PSbw,\n",
    "                         control_bw <- OSbw,\n",
    "                         chr <- chro[6],\n",
    "                         start <- st[6],\n",
    "                         end <- en[6],\n",
    "                         average_dist <- 10,\n",
    "                         fill_dist <- 10,\n",
    "                         type = \"all\",\n",
    "                         x_lab = name[6])#;p6\n",
    "p7 <- ChiPseqPeakPlotter(treatment_bw <- PSbw,\n",
    "                         control_bw <- OSbw,\n",
    "                         chr <- chro[7],\n",
    "                         start <- st[7],\n",
    "                         end <- en[7],\n",
    "                         average_dist <- 10,\n",
    "                         fill_dist <- 10,\n",
    "                         type = \"all\",\n",
    "                         x_lab = name[7])#;p7\n",
    "p8 <- ChiPseqPeakPlotter(treatment_bw <- PSbw,\n",
    "                         control_bw <- OSbw,\n",
    "                         chr <- chro[8],\n",
    "                         start <- st[8],\n",
    "                         end <- en[8],\n",
    "                         average_dist <- 10,\n",
    "                         fill_dist <- 10,\n",
    "                         type = \"all\",\n",
    "                         x_lab = name[8])#;p8\n",
    "p9 <- ChiPseqPeakPlotter(treatment_bw <- PSbw,\n",
    "                         control_bw <- OSbw,\n",
    "                         chr <- chro[9],\n",
    "                         start <- st[9],\n",
    "                         end <- en[9],\n",
    "                         average_dist <- 10,\n",
    "                         fill_dist <- 10,\n",
    "                         type = \"all\",\n",
    "                         x_lab = name[9])#;p9\n",
    "\n",
    "multiplot(p1, p2, p3, p4, p5, p6, p7, p8, p9, cols = 1)\n",
    "#tiff(file = \"./results/18 combined_H3K27ac CHiPseq.tiff\", width = 2000, height = 2500, units = \"px\", res = 300); multiplot(p1, p2, p3, p4, p5, p6, p7, p8, p9, cols = 1);dev.off()"
   ]
  },
  {
   "cell_type": "markdown",
   "metadata": {},
   "source": [
    "#### Chromatin remodeling with new genes"
   ]
  },
  {
   "cell_type": "code",
   "execution_count": 57,
   "metadata": {},
   "outputs": [
    {
     "data": {
      "text/html": [
       "<table>\n",
       "<caption>A data.frame: 1 × 3</caption>\n",
       "<thead>\n",
       "\t<tr><th></th><th scope=col>wikigene_name</th><th scope=col>transcription_start_site</th><th scope=col>chromosome_name</th></tr>\n",
       "\t<tr><th></th><th scope=col>&lt;chr&gt;</th><th scope=col>&lt;int&gt;</th><th scope=col>&lt;chr&gt;</th></tr>\n",
       "</thead>\n",
       "<tbody>\n",
       "\t<tr><th scope=row>1</th><td>BGN</td><td>153494980</td><td>X</td></tr>\n",
       "</tbody>\n",
       "</table>\n"
      ],
      "text/latex": [
       "A data.frame: 1 × 3\n",
       "\\begin{tabular}{r|lll}\n",
       "  & wikigene\\_name & transcription\\_start\\_site & chromosome\\_name\\\\\n",
       "  & <chr> & <int> & <chr>\\\\\n",
       "\\hline\n",
       "\t1 & BGN & 153494980 & X\\\\\n",
       "\\end{tabular}\n"
      ],
      "text/markdown": [
       "\n",
       "A data.frame: 1 × 3\n",
       "\n",
       "| <!--/--> | wikigene_name &lt;chr&gt; | transcription_start_site &lt;int&gt; | chromosome_name &lt;chr&gt; |\n",
       "|---|---|---|---|\n",
       "| 1 | BGN | 153494980 | X |\n",
       "\n"
      ],
      "text/plain": [
       "  wikigene_name transcription_start_site chromosome_name\n",
       "1 BGN           153494980                X              "
      ]
     },
     "metadata": {},
     "output_type": "display_data"
    }
   ],
   "source": [
    "name <- covidklfgene\n",
    "go <- BioMartR(value = name, \n",
    "               mart = \"ENSEMBL_MART_ENSEMBL\", \n",
    "               species = \"hsapiens_gene_ensembl\", \n",
    "               attribute = c(\"wikigene_name\",  \"transcription_start_site\", \"chromosome_name\"),\n",
    "               filter_by = 'wikigene_name')\n",
    "head(go, 1)"
   ]
  },
  {
   "cell_type": "code",
   "execution_count": 58,
   "metadata": {},
   "outputs": [
    {
     "data": {
      "image/png": "[encoded data removed]",
      "text/plain": [
       "plot without title"
      ]
     },
     "metadata": {
      "image/png": {
       "height": 720,
       "width": 840
      }
     },
     "output_type": "display_data"
    }
   ],
   "source": [
    "options(repr.plot.width=14, repr.plot.height=12)\n",
    "go <- go[!duplicated(go$wikigene_name),]\n",
    "name <- go$wikigene_name\n",
    "chro <- as.character(go$chromosome_name)\n",
    "TSS <- go$transcription_start_site\n",
    "st <- (TSS - 15000)\n",
    "en <- (TSS + 15000)\n",
    "PSbw <- \"./data/PSOS_H3K27ac/mergebam/merge_bigwig_files/PS.bw\"\n",
    "OSbw <- \"./data/PSOS_H3K27ac/mergebam/merge_bigwig_files/OS.bw\"\n",
    "p1 <- ChiPseqPeakPlotter(treatment_bw <- PSbw,\n",
    "                         control_bw <- OSbw,\n",
    "                         chr <- chro[1],\n",
    "                         start <- st[1],\n",
    "                         end <- en[1],\n",
    "                         average_dist <- 10,\n",
    "                         fill_dist <- 10,\n",
    "                         type = \"all\",\n",
    "                         x_lab = name[1])#;p1\n",
    "p2 <- ChiPseqPeakPlotter(treatment_bw <- PSbw,\n",
    "                         control_bw <- OSbw,\n",
    "                         chr <- chro[2],\n",
    "                         start <- st[2],\n",
    "                         end <- en[2],\n",
    "                         average_dist <- 10,\n",
    "                         fill_dist <- 10,\n",
    "                         type = \"all\",\n",
    "                         x_lab = name[2])#;p2\n",
    "p3 <- ChiPseqPeakPlotter(treatment_bw <- PSbw,\n",
    "                         control_bw <- OSbw,\n",
    "                         chr <- chro[3],\n",
    "                         start <- st[3],\n",
    "                         end <- en[3],\n",
    "                         average_dist <- 10,\n",
    "                         fill_dist <- 10,\n",
    "                         type = \"all\",\n",
    "                         x_lab = name[3])#;p3\n",
    "p4 <- ChiPseqPeakPlotter(treatment_bw <- PSbw,\n",
    "                         control_bw <- OSbw,\n",
    "                         chr <- chro[4],\n",
    "                         start <- st[4],\n",
    "                         end <- en[4],\n",
    "                         average_dist <- 10,\n",
    "                         fill_dist <- 10,\n",
    "                         type = \"all\",\n",
    "                         x_lab = name[4])#;p4\n",
    "p5 <- ChiPseqPeakPlotter(treatment_bw <- PSbw,\n",
    "                         control_bw <- OSbw,\n",
    "                         chr <- chro[5],\n",
    "                         start <- st[5],\n",
    "                         end <- en[5],\n",
    "                         average_dist <- 10,\n",
    "                         fill_dist <- 10,\n",
    "                         type = \"all\",\n",
    "                         x_lab = name[5])#;p5\n",
    "p6 <- ChiPseqPeakPlotter(treatment_bw <- PSbw,\n",
    "                         control_bw <- OSbw,\n",
    "                         chr <- chro[6],\n",
    "                         start <- st[6],\n",
    "                         end <- en[6],\n",
    "                         average_dist <- 10,\n",
    "                         fill_dist <- 10,\n",
    "                         type = \"all\",\n",
    "                         x_lab = name[6])#;p6\n",
    "p7 <- ChiPseqPeakPlotter(treatment_bw <- PSbw,\n",
    "                         control_bw <- OSbw,\n",
    "                         chr <- chro[7],\n",
    "                         start <- st[7],\n",
    "                         end <- en[7],\n",
    "                         average_dist <- 10,\n",
    "                         fill_dist <- 10,\n",
    "                         type = \"all\",\n",
    "                         x_lab = name[7])#;p7\n",
    "p8 <- ChiPseqPeakPlotter(treatment_bw <- PSbw,\n",
    "                         control_bw <- OSbw,\n",
    "                         chr <- chro[8],\n",
    "                         start <- st[8],\n",
    "                         end <- en[8],\n",
    "                         average_dist <- 10,\n",
    "                         fill_dist <- 10,\n",
    "                         type = \"all\",\n",
    "                         x_lab = name[8])#;p8\n",
    "p9 <- ChiPseqPeakPlotter(treatment_bw <- PSbw,\n",
    "                         control_bw <- OSbw,\n",
    "                         chr <- chro[9],\n",
    "                         start <- st[9],\n",
    "                         end <- en[9],\n",
    "                         average_dist <- 10,\n",
    "                         fill_dist <- 10,\n",
    "                         type = \"all\",\n",
    "                         x_lab = name[9])#;p9\n",
    "\n",
    "multiplot(p1, p2, p3, p4, p5, p6, p7, p8, p9, cols = 1)\n",
    "#tiff(file = \"./results/62 combined_H3K27ac CHiPseq.tiff\", width = 2000, height = 2500, units = \"px\", res = 300); multiplot(p1, p2, p3, p4, p5, p6, p7, p8, p9, cols = 1);dev.off()"
   ]
  },
  {
   "cell_type": "markdown",
   "metadata": {},
   "source": [
    "## Identify post translational modification sites in proteins in the SARS-CoV-2 network"
   ]
  },
  {
   "cell_type": "markdown",
   "metadata": {},
   "source": [
    "#### Obtain and clean protein sequences for genes in the SARS-CoV-2 network"
   ]
  },
  {
   "cell_type": "code",
   "execution_count": 59,
   "metadata": {},
   "outputs": [
    {
     "name": "stdout",
     "output_type": "stream",
     "text": [
      "  |======================================================================| 100%\n"
     ]
    },
    {
     "data": {
      "text/html": [
       "<table>\n",
       "<caption>A data.table: 2 × 6</caption>\n",
       "<thead>\n",
       "\t<tr><th scope=col>ensembl_peptide_id</th><th scope=col>Species_File</th><th scope=col>Scientific_Name</th><th scope=col>Common_Name</th><th scope=col>external_gene_name</th><th scope=col>Length</th></tr>\n",
       "\t<tr><th scope=col>&lt;chr&gt;</th><th scope=col>&lt;chr&gt;</th><th scope=col>&lt;chr&gt;</th><th scope=col>&lt;chr&gt;</th><th scope=col>&lt;chr&gt;</th><th scope=col>&lt;int&gt;</th></tr>\n",
       "</thead>\n",
       "<tbody>\n",
       "\t<tr><td>ENSAMEP00000000043</td><td>Ailuropoda_melanoleuca.ailMel1.pep.all.fa.gz</td><td>Ailuropoda_melanoleuca</td><td>Giant panda</td><td>HYOU1</td><td>998</td></tr>\n",
       "\t<tr><td>ENSAMEP00000000283</td><td>Ailuropoda_melanoleuca.ailMel1.pep.all.fa.gz</td><td>Ailuropoda_melanoleuca</td><td>Giant panda</td><td>GDI1 </td><td>447</td></tr>\n",
       "</tbody>\n",
       "</table>\n"
      ],
      "text/latex": [
       "A data.table: 2 × 6\n",
       "\\begin{tabular}{llllll}\n",
       " ensembl\\_peptide\\_id & Species\\_File & Scientific\\_Name & Common\\_Name & external\\_gene\\_name & Length\\\\\n",
       " <chr> & <chr> & <chr> & <chr> & <chr> & <int>\\\\\n",
       "\\hline\n",
       "\t ENSAMEP00000000043 & Ailuropoda\\_melanoleuca.ailMel1.pep.all.fa.gz & Ailuropoda\\_melanoleuca & Giant panda & HYOU1 & 998\\\\\n",
       "\t ENSAMEP00000000283 & Ailuropoda\\_melanoleuca.ailMel1.pep.all.fa.gz & Ailuropoda\\_melanoleuca & Giant panda & GDI1  & 447\\\\\n",
       "\\end{tabular}\n"
      ],
      "text/markdown": [
       "\n",
       "A data.table: 2 × 6\n",
       "\n",
       "| ensembl_peptide_id &lt;chr&gt; | Species_File &lt;chr&gt; | Scientific_Name &lt;chr&gt; | Common_Name &lt;chr&gt; | external_gene_name &lt;chr&gt; | Length &lt;int&gt; |\n",
       "|---|---|---|---|---|---|\n",
       "| ENSAMEP00000000043 | Ailuropoda_melanoleuca.ailMel1.pep.all.fa.gz | Ailuropoda_melanoleuca | Giant panda | HYOU1 | 998 |\n",
       "| ENSAMEP00000000283 | Ailuropoda_melanoleuca.ailMel1.pep.all.fa.gz | Ailuropoda_melanoleuca | Giant panda | GDI1  | 447 |\n",
       "\n"
      ],
      "text/plain": [
       "  ensembl_peptide_id Species_File                                \n",
       "1 ENSAMEP00000000043 Ailuropoda_melanoleuca.ailMel1.pep.all.fa.gz\n",
       "2 ENSAMEP00000000283 Ailuropoda_melanoleuca.ailMel1.pep.all.fa.gz\n",
       "  Scientific_Name        Common_Name external_gene_name Length\n",
       "1 Ailuropoda_melanoleuca Giant panda HYOU1              998   \n",
       "2 Ailuropoda_melanoleuca Giant panda GDI1               447   "
      ]
     },
     "metadata": {},
     "output_type": "display_data"
    }
   ],
   "source": [
    "setwd(\"C:/Users/breng/Dropbox/Brendan Documents/programming/bioinformatics/proteomes/2016-4-29 Proteomes\") # Windows\n",
    "PROTan <- fread(\"3 Annotated species protein compilation.xls\"); setwd(homedir)\n",
    "PROTan$external_gene_name <- toupper(PROTan$external_gene_name)\n",
    "TRANS_PROT <- PROTan[(PROTan$external_gene_name %in% ID2),]\n",
    "Sorted_Proteins <- VariantSort(TRANS_PROT, variant = \"MAX\")\n",
    "Sorted_Proteins[1:2,c(1, 3:7), with = FALSE]"
   ]
  },
  {
   "cell_type": "markdown",
   "metadata": {},
   "source": [
    "#### Identify post translation modification sites in proteins in the SARS-CoV-2 network"
   ]
  },
  {
   "cell_type": "code",
   "execution_count": 60,
   "metadata": {},
   "outputs": [
    {
     "data": {
      "text/html": [
       "<table>\n",
       "<caption>A data.table: 2 × 2</caption>\n",
       "<thead>\n",
       "\t<tr><th scope=col>Targeting_Factor</th><th scope=col>Consensus_Sequence</th></tr>\n",
       "\t<tr><th scope=col>&lt;chr&gt;</th><th scope=col>&lt;chr&gt;</th></tr>\n",
       "</thead>\n",
       "<tbody>\n",
       "\t<tr><td>AMPK</td><td>(K|R|H)(F|L|M|I|V)(K|R|H)...(S|T)...(F|L|M|I|V)</td></tr>\n",
       "\t<tr><td>AMPK</td><td>.(F|L|M|I|V)(K|R|H)...(S|T)...(F|L|M|I|V)      </td></tr>\n",
       "</tbody>\n",
       "</table>\n"
      ],
      "text/latex": [
       "A data.table: 2 × 2\n",
       "\\begin{tabular}{ll}\n",
       " Targeting\\_Factor & Consensus\\_Sequence\\\\\n",
       " <chr> & <chr>\\\\\n",
       "\\hline\n",
       "\t AMPK & (K\\textbar{}R\\textbar{}H)(F\\textbar{}L\\textbar{}M\\textbar{}I\\textbar{}V)(K\\textbar{}R\\textbar{}H)...(S\\textbar{}T)...(F\\textbar{}L\\textbar{}M\\textbar{}I\\textbar{}V)\\\\\n",
       "\t AMPK & .(F\\textbar{}L\\textbar{}M\\textbar{}I\\textbar{}V)(K\\textbar{}R\\textbar{}H)...(S\\textbar{}T)...(F\\textbar{}L\\textbar{}M\\textbar{}I\\textbar{}V)      \\\\\n",
       "\\end{tabular}\n"
      ],
      "text/markdown": [
       "\n",
       "A data.table: 2 × 2\n",
       "\n",
       "| Targeting_Factor &lt;chr&gt; | Consensus_Sequence &lt;chr&gt; |\n",
       "|---|---|\n",
       "| AMPK | (K|R|H)(F|L|M|I|V)(K|R|H)...(S|T)...(F|L|M|I|V) |\n",
       "| AMPK | .(F|L|M|I|V)(K|R|H)...(S|T)...(F|L|M|I|V)       |\n",
       "\n"
      ],
      "text/plain": [
       "  Targeting_Factor Consensus_Sequence                             \n",
       "1 AMPK             (K|R|H)(F|L|M|I|V)(K|R|H)...(S|T)...(F|L|M|I|V)\n",
       "2 AMPK             .(F|L|M|I|V)(K|R|H)...(S|T)...(F|L|M|I|V)      "
      ]
     },
     "metadata": {},
     "output_type": "display_data"
    },
    {
     "name": "stdout",
     "output_type": "stream",
     "text": [
      "  |======================================================================| 100%\n"
     ]
    },
    {
     "data": {
      "text/html": [
       "<table>\n",
       "<caption>A data.table: 2 × 10</caption>\n",
       "<thead>\n",
       "\t<tr><th scope=col>Consensus_Sequence</th><th scope=col>start</th><th scope=col>end</th><th scope=col>Number_Hits</th><th scope=col>Targeting_Factor</th><th scope=col>length</th><th scope=col>Identified_sequence</th><th scope=col>gene_symbol</th><th scope=col>Species</th><th scope=col>Scientific_Name</th></tr>\n",
       "\t<tr><th scope=col>&lt;chr&gt;</th><th scope=col>&lt;int&gt;</th><th scope=col>&lt;int&gt;</th><th scope=col>&lt;int&gt;</th><th scope=col>&lt;chr&gt;</th><th scope=col>&lt;int&gt;</th><th scope=col>&lt;chr&gt;</th><th scope=col>&lt;chr&gt;</th><th scope=col>&lt;chr&gt;</th><th scope=col>&lt;chr&gt;</th></tr>\n",
       "</thead>\n",
       "<tbody>\n",
       "\t<tr><td>(F|I|L|M|V).(R)..(S|T)           </td><td>553</td><td>558</td><td>1</td><td>CaMKIV</td><td>998</td><td>SlirvesV </td><td>HYOU1</td><td>Giant panda</td><td>Ailuropoda_melanoleuca</td></tr>\n",
       "\t<tr><td>(F|I|L|M|V).(R)..(S|T)(F|I|L|M|V)</td><td>553</td><td>559</td><td>1</td><td>CaMKI </td><td>998</td><td>SlirvesvF</td><td>HYOU1</td><td>Giant panda</td><td>Ailuropoda_melanoleuca</td></tr>\n",
       "</tbody>\n",
       "</table>\n"
      ],
      "text/latex": [
       "A data.table: 2 × 10\n",
       "\\begin{tabular}{llllllllll}\n",
       " Consensus\\_Sequence & start & end & Number\\_Hits & Targeting\\_Factor & length & Identified\\_sequence & gene\\_symbol & Species & Scientific\\_Name\\\\\n",
       " <chr> & <int> & <int> & <int> & <chr> & <int> & <chr> & <chr> & <chr> & <chr>\\\\\n",
       "\\hline\n",
       "\t (F\\textbar{}I\\textbar{}L\\textbar{}M\\textbar{}V).(R)..(S\\textbar{}T)            & 553 & 558 & 1 & CaMKIV & 998 & SlirvesV  & HYOU1 & Giant panda & Ailuropoda\\_melanoleuca\\\\\n",
       "\t (F\\textbar{}I\\textbar{}L\\textbar{}M\\textbar{}V).(R)..(S\\textbar{}T)(F\\textbar{}I\\textbar{}L\\textbar{}M\\textbar{}V) & 553 & 559 & 1 & CaMKI  & 998 & SlirvesvF & HYOU1 & Giant panda & Ailuropoda\\_melanoleuca\\\\\n",
       "\\end{tabular}\n"
      ],
      "text/markdown": [
       "\n",
       "A data.table: 2 × 10\n",
       "\n",
       "| Consensus_Sequence &lt;chr&gt; | start &lt;int&gt; | end &lt;int&gt; | Number_Hits &lt;int&gt; | Targeting_Factor &lt;chr&gt; | length &lt;int&gt; | Identified_sequence &lt;chr&gt; | gene_symbol &lt;chr&gt; | Species &lt;chr&gt; | Scientific_Name &lt;chr&gt; |\n",
       "|---|---|---|---|---|---|---|---|---|---|\n",
       "| (F|I|L|M|V).(R)..(S|T)            | 553 | 558 | 1 | CaMKIV | 998 | SlirvesV  | HYOU1 | Giant panda | Ailuropoda_melanoleuca |\n",
       "| (F|I|L|M|V).(R)..(S|T)(F|I|L|M|V) | 553 | 559 | 1 | CaMKI  | 998 | SlirvesvF | HYOU1 | Giant panda | Ailuropoda_melanoleuca |\n",
       "\n"
      ],
      "text/plain": [
       "  Consensus_Sequence                start end Number_Hits Targeting_Factor\n",
       "1 (F|I|L|M|V).(R)..(S|T)            553   558 1           CaMKIV          \n",
       "2 (F|I|L|M|V).(R)..(S|T)(F|I|L|M|V) 553   559 1           CaMKI           \n",
       "  length Identified_sequence gene_symbol Species     Scientific_Name       \n",
       "1 998    SlirvesV            HYOU1       Giant panda Ailuropoda_melanoleuca\n",
       "2 998    SlirvesvF           HYOU1       Giant panda Ailuropoda_melanoleuca"
      ]
     },
     "metadata": {},
     "output_type": "display_data"
    }
   ],
   "source": [
    "# Load and annotate the post translational modification data table\n",
    "setwd(\"C:/Users/breng/Dropbox/Brendan Documents/programming/bioinformatics/Post translation enzyme data base\")\n",
    "EZDT <- fread(\"2016-8-22 Post translational enzyme data table for R BG.csv\", header = TRUE)\n",
    "setwd(homedir)\n",
    "EZDT <- EZDT[,.(Targeting_Factor, Consensus_Sequence)]\n",
    "head(EZDT,2)\n",
    "# Perform the moditication site matches\n",
    "setnames(Sorted_Proteins, colnames(Sorted_Proteins),\n",
    "         c(\"ensembl_peptide_id\", \"Sequence\", \"Species_File\", \"Scientific_Name\", \"Common_Name\", \"gene_symbol\", \"Length\"))\n",
    "PROT_TOT_Species <- TFpredict(Sorted_Proteins, EZDT, type = \"multiple_species\")\n",
    "PROT_TOT_Species[1:2,c(1:6,8:11), with = FALSE]"
   ]
  },
  {
   "cell_type": "markdown",
   "metadata": {},
   "source": [
    "#### Score, set minimum species conservation cutoff, and count the number of kinase binding sites for each promoter sequence"
   ]
  },
  {
   "cell_type": "code",
   "execution_count": 61,
   "metadata": {},
   "outputs": [
    {
     "data": {
      "text/html": [
       "<table>\n",
       "<caption>A data.table: 2 × 4</caption>\n",
       "<thead>\n",
       "\t<tr><th scope=col>Number_Hits</th><th scope=col>Targeting_Factor</th><th scope=col>gene_symbol</th><th scope=col>Species</th></tr>\n",
       "\t<tr><th scope=col>&lt;int&gt;</th><th scope=col>&lt;chr&gt;</th><th scope=col>&lt;chr&gt;</th><th scope=col>&lt;chr&gt;</th></tr>\n",
       "</thead>\n",
       "<tbody>\n",
       "\t<tr><td>42</td><td>MSK1</td><td>DNMT1</td><td>Human</td></tr>\n",
       "\t<tr><td>42</td><td>MSK2</td><td>DNMT1</td><td>Human</td></tr>\n",
       "</tbody>\n",
       "</table>\n"
      ],
      "text/latex": [
       "A data.table: 2 × 4\n",
       "\\begin{tabular}{llll}\n",
       " Number\\_Hits & Targeting\\_Factor & gene\\_symbol & Species\\\\\n",
       " <int> & <chr> & <chr> & <chr>\\\\\n",
       "\\hline\n",
       "\t 42 & MSK1 & DNMT1 & Human\\\\\n",
       "\t 42 & MSK2 & DNMT1 & Human\\\\\n",
       "\\end{tabular}\n"
      ],
      "text/markdown": [
       "\n",
       "A data.table: 2 × 4\n",
       "\n",
       "| Number_Hits &lt;int&gt; | Targeting_Factor &lt;chr&gt; | gene_symbol &lt;chr&gt; | Species &lt;chr&gt; |\n",
       "|---|---|---|---|\n",
       "| 42 | MSK1 | DNMT1 | Human |\n",
       "| 42 | MSK2 | DNMT1 | Human |\n",
       "\n"
      ],
      "text/plain": [
       "  Number_Hits Targeting_Factor gene_symbol Species\n",
       "1 42          MSK1             DNMT1       Human  \n",
       "2 42          MSK2             DNMT1       Human  "
      ]
     },
     "metadata": {},
     "output_type": "display_data"
    },
    {
     "data": {
      "text/html": [
       "<table>\n",
       "<caption>A data.table: 4 × 3</caption>\n",
       "<thead>\n",
       "\t<tr><th scope=col>Targeting_Factor</th><th scope=col>Number_targets</th><th scope=col>Species</th></tr>\n",
       "\t<tr><th scope=col>&lt;chr&gt;</th><th scope=col>&lt;int&gt;</th><th scope=col>&lt;chr&gt;</th></tr>\n",
       "</thead>\n",
       "<tbody>\n",
       "\t<tr><td>AMPK</td><td>109</td><td>Human</td></tr>\n",
       "\t<tr><td>MSK1</td><td> 99</td><td>Human</td></tr>\n",
       "\t<tr><td>MSK2</td><td> 99</td><td>Human</td></tr>\n",
       "\t<tr><td>CHKI</td><td> 85</td><td>Human</td></tr>\n",
       "</tbody>\n",
       "</table>\n"
      ],
      "text/latex": [
       "A data.table: 4 × 3\n",
       "\\begin{tabular}{lll}\n",
       " Targeting\\_Factor & Number\\_targets & Species\\\\\n",
       " <chr> & <int> & <chr>\\\\\n",
       "\\hline\n",
       "\t AMPK & 109 & Human\\\\\n",
       "\t MSK1 &  99 & Human\\\\\n",
       "\t MSK2 &  99 & Human\\\\\n",
       "\t CHKI &  85 & Human\\\\\n",
       "\\end{tabular}\n"
      ],
      "text/markdown": [
       "\n",
       "A data.table: 4 × 3\n",
       "\n",
       "| Targeting_Factor &lt;chr&gt; | Number_targets &lt;int&gt; | Species &lt;chr&gt; |\n",
       "|---|---|---|\n",
       "| AMPK | 109 | Human |\n",
       "| MSK1 |  99 | Human |\n",
       "| MSK2 |  99 | Human |\n",
       "| CHKI |  85 | Human |\n",
       "\n"
      ],
      "text/plain": [
       "  Targeting_Factor Number_targets Species\n",
       "1 AMPK             109            Human  \n",
       "2 MSK1              99            Human  \n",
       "3 MSK2              99            Human  \n",
       "4 CHKI              85            Human  "
      ]
     },
     "metadata": {},
     "output_type": "display_data"
    }
   ],
   "source": [
    "#### Retain only Posttranslational modification association conservation between for selected species for each protein ##\n",
    "DT25 <- SpeciesTFCons(DT = PROT_TOT_Species,Spec = c(\"Human\", \"Mouse\", \"Rat\"), provide = \"TF_Target\")\n",
    "writab(DT=DT25, fname=\"./results/19 HMR Raw Posttranslational modification hits.xls\")\n",
    "#### Determine the number of times each Protein consensus sequence is present for each target in human \n",
    "TF_ABUN <- TFRankR(DT = DT25, sortBy = \"abundance\", dec = TRUE)\n",
    "TF_ABUN <- TF_ABUN[TF_ABUN$Species == \"Human\",]\n",
    "head(TF_ABUN, 2)\n",
    "writab(DT=TF_ABUN, fname=\"./results/20 protein number of consensus sequences Human.xls\")\n",
    "#### Determine the number of targets contain a consensus sequence for each posttranslational modifying enzyme in human\n",
    "TF_PROM <- TFRankR(DT = DT25, sortBy = \"Target\", dec = TRUE)\n",
    "TF_PROM <- TF_PROM[TF_PROM$Species == \"Human\",]\n",
    "head(TF_PROM, 4)\n",
    "#writab(DT=TF_PROM, fname=\"./results/21 protein number of promoters Human.xls\")"
   ]
  },
  {
   "cell_type": "markdown",
   "metadata": {},
   "source": [
    "#### Plot the number of proteins targeted by each kinase"
   ]
  },
  {
   "cell_type": "code",
   "execution_count": 62,
   "metadata": {
    "scrolled": true
   },
   "outputs": [
    {
     "data": {
      "image/png": "[encoded data removed]",
      "text/plain": [
       "plot without title"
      ]
     },
     "metadata": {
      "image/png": {
       "height": 420,
       "width": 1200
      }
     },
     "output_type": "display_data"
    }
   ],
   "source": [
    "options(repr.plot.width=20, repr.plot.height=7)\n",
    "g1<-ggplot(data=TF_PROM, aes(x=reorder(`Targeting_Factor`,-Number_targets), y=Number_targets)) +\n",
    "    geom_bar(stat=\"identity\", fill=\"steelblue\") + theme_pubr()+xlab(\"enzyme\")+ylab(\"Number of Targets\")\n",
    "g1\n",
    "#tiff(file = \"./results/22 shear kinase number of targets.tiff\", width = 2000, height = 500, units = \"px\", res = 100);g1;dev.off()"
   ]
  },
  {
   "cell_type": "markdown",
   "metadata": {},
   "source": [
    "#### End of Analysis"
   ]
  }
 ],
 "metadata": {
  "kernelspec": {
   "display_name": "R 4.0.2",
   "language": "R",
   "name": "ir4.02"
  },
  "language_info": {
   "codemirror_mode": "r",
   "file_extension": ".r",
   "mimetype": "text/x-r-source",
   "name": "R",
   "pygments_lexer": "r",
   "version": "4.0.2"
  }
 },
 "nbformat": 4,
 "nbformat_minor": 2
}
